{
 "cells": [
  {
   "cell_type": "markdown",
   "metadata": {
    "colab_type": "text",
    "id": "WWWn1oMdMP0d"
   },
   "source": [
    "MLP for Complex Problems: The MNIST dataset\n",
    "=========\n",
    "\n",
    "\n",
    "In this exercise we will first learn to use the simple perceptron network (input-output layers only) and a Multi-Layer Perceptron (MLP, with one or more hidden layers). To make the task more interesting than the XOR problem, we will be using a more complex training set. This will be the MNIST dataset, a well known neural network problem for the recognition of the 10 handwritten characters from 0 to 9 ([MNIST](http://yann.lecun.com/exdb/mnist/)).\n",
    "\n",
    "This exercise is based on the  Gulli & Pal (2017) 'Deep Learning with Keras' textbook, with some additional code to help us understand and test the programme.\n"
   ]
  },
  {
   "cell_type": "markdown",
   "metadata": {
    "colab_type": "text",
    "id": "ezwPEU5UMP0o"
   },
   "source": [
    "**Importing the libraries and defining the main training parameters**\n",
    "\n",
    "The initial code is necessary to prepare the data and the simulation (hyper)parameters.\n",
    "We first import numpy. In our case we will use it to create and pre-process the array of the training data sets. We then import a few functions from Keras (we used some of these in our previous XOR exercise). The matplotlib library will be used for visualising some MNIST images and the plot of the training results.\n",
    "\n",
    "The code also defines the variables for some of the main parameters used throughout this program. \n",
    "The random seed definition is also important to be able to repeat the same parameter configuration."
   ]
  },
  {
   "cell_type": "code",
   "execution_count": 17,
   "metadata": {
    "colab": {},
    "colab_type": "code",
    "id": "YpM98ckGMP0u"
   },
   "outputs": [],
   "source": [
    "# import of numpy and keras libraries\n",
    "from __future__ import print_function\n",
    "import numpy as np\n",
    "from keras.datasets import mnist\n",
    "from keras.models import Sequential\n",
    "from keras.layers.core import Dense, Activation\n",
    "from keras.optimizers import SGD\n",
    "from keras.utils import np_utils\n",
    "import matplotlib.pyplot as plt\n",
    "\n",
    "# variables for network and training\n",
    "N_EPOCH = 200 # initially set at 200 ; you can change this later \n",
    "BATCH_SIZE = 128  \n",
    "VERBOSE = 1\n",
    "N_CLASSES = 10   # number of classes/categories of digits from 0 to 9, i.e. number of output units \n",
    "OPTIMIZER = SGD(lr=0.1) # Stochastic gradient descent optimiser\n",
    "N_HIDDEN = 128   # number of hidden units\n",
    "VALIDATION_SPLIT=0.2 # proportion of the dataset used for validation, with remaining .8 for training \n",
    "\n",
    "#each 2D image consists of 28x28 values/pixels, which needs to be reshaped in a vector of 784 pixels\n",
    "RESHAPED = 784\n",
    "\n",
    "# random seed number to be used for reproducibility\n",
    "np.random.seed(1671)  \n"
   ]
  },
  {
   "cell_type": "markdown",
   "metadata": {
    "colab_type": "text",
    "id": "2rgZEImMMP08"
   },
   "source": [
    "**Preparing the MNIST dataset and visualising the input images**\n",
    "\n",
    "This part of the code prepares the input and output training set, and the corresponding test sets. \n",
    "It also visualises a sample image. The MNIST dataset is included in the Keras program and we do not need to use and external file."
   ]
  },
  {
   "cell_type": "code",
   "execution_count": 18,
   "metadata": {
    "colab": {},
    "colab_type": "code",
    "id": "l4-TuW2_MP0-"
   },
   "outputs": [
    {
     "name": "stdout",
     "output_type": "stream",
     "text": [
      "Training data input shape:  (60000, 28, 28)\n",
      "Training data output shape:  (60000,)\n",
      "Test data input shape:  (10000, 28, 28)\n",
      "Test data ouput shape:  (10000,)\n",
      "Sample input image: [[  0   0   0   0   0   0   0   0   0   0   0   0   0   0   0   0   0   0\n",
      "    0   0   0   0   0   0   0   0   0   0]\n",
      " [  0   0   0   0   0   0   0   0   0   0   0   0   0   0   0   0   0   0\n",
      "    0   0   0   0   0   0   0   0   0   0]\n",
      " [  0   0   0   0   0   0   0   0   0   0   0   0   0   0   0   0   0   0\n",
      "    0   0   0   0   0   0   0   0   0   0]\n",
      " [  0   0   0   0   0   0   0   0   0   0   0   0   0   0   0   0   0   0\n",
      "    0   0   0   0   0   0   0   0   0   0]\n",
      " [  0   0   0   0   0   0   0   0   0   0   0   0   0   0   0   0   0   0\n",
      "    0   0   0   0   0   0   0   0   0   0]\n",
      " [  0   0   0   0   0   0   0   0   0   0   0   0   0   0   0   0   0   0\n",
      "    0   0  67 232  39   0   0   0   0   0]\n",
      " [  0   0   0   0  62  81   0   0   0   0   0   0   0   0   0   0   0   0\n",
      "    0   0 120 180  39   0   0   0   0   0]\n",
      " [  0   0   0   0 126 163   0   0   0   0   0   0   0   0   0   0   0   0\n",
      "    0   2 153 210  40   0   0   0   0   0]\n",
      " [  0   0   0   0 220 163   0   0   0   0   0   0   0   0   0   0   0   0\n",
      "    0  27 254 162   0   0   0   0   0   0]\n",
      " [  0   0   0   0 222 163   0   0   0   0   0   0   0   0   0   0   0   0\n",
      "    0 183 254 125   0   0   0   0   0   0]\n",
      " [  0   0   0  46 245 163   0   0   0   0   0   0   0   0   0   0   0   0\n",
      "    0 198 254  56   0   0   0   0   0   0]\n",
      " [  0   0   0 120 254 163   0   0   0   0   0   0   0   0   0   0   0   0\n",
      "   23 231 254  29   0   0   0   0   0   0]\n",
      " [  0   0   0 159 254 120   0   0   0   0   0   0   0   0   0   0   0   0\n",
      "  163 254 216  16   0   0   0   0   0   0]\n",
      " [  0   0   0 159 254  67   0   0   0   0   0   0   0   0   0  14  86 178\n",
      "  248 254  91   0   0   0   0   0   0   0]\n",
      " [  0   0   0 159 254  85   0   0   0  47  49 116 144 150 241 243 234 179\n",
      "  241 252  40   0   0   0   0   0   0   0]\n",
      " [  0   0   0 150 253 237 207 207 207 253 254 250 240 198 143  91  28   5\n",
      "  233 250   0   0   0   0   0   0   0   0]\n",
      " [  0   0   0   0 119 177 177 177 177 177  98  56   0   0   0   0   0 102\n",
      "  254 220   0   0   0   0   0   0   0   0]\n",
      " [  0   0   0   0   0   0   0   0   0   0   0   0   0   0   0   0   0 169\n",
      "  254 137   0   0   0   0   0   0   0   0]\n",
      " [  0   0   0   0   0   0   0   0   0   0   0   0   0   0   0   0   0 169\n",
      "  254  57   0   0   0   0   0   0   0   0]\n",
      " [  0   0   0   0   0   0   0   0   0   0   0   0   0   0   0   0   0 169\n",
      "  254  57   0   0   0   0   0   0   0   0]\n",
      " [  0   0   0   0   0   0   0   0   0   0   0   0   0   0   0   0   0 169\n",
      "  255  94   0   0   0   0   0   0   0   0]\n",
      " [  0   0   0   0   0   0   0   0   0   0   0   0   0   0   0   0   0 169\n",
      "  254  96   0   0   0   0   0   0   0   0]\n",
      " [  0   0   0   0   0   0   0   0   0   0   0   0   0   0   0   0   0 169\n",
      "  254 153   0   0   0   0   0   0   0   0]\n",
      " [  0   0   0   0   0   0   0   0   0   0   0   0   0   0   0   0   0 169\n",
      "  255 153   0   0   0   0   0   0   0   0]\n",
      " [  0   0   0   0   0   0   0   0   0   0   0   0   0   0   0   0   0  96\n",
      "  254 153   0   0   0   0   0   0   0   0]\n",
      " [  0   0   0   0   0   0   0   0   0   0   0   0   0   0   0   0   0   0\n",
      "    0   0   0   0   0   0   0   0   0   0]\n",
      " [  0   0   0   0   0   0   0   0   0   0   0   0   0   0   0   0   0   0\n",
      "    0   0   0   0   0   0   0   0   0   0]\n",
      " [  0   0   0   0   0   0   0   0   0   0   0   0   0   0   0   0   0   0\n",
      "    0   0   0   0   0   0   0   0   0   0]]\n"
     ]
    },
    {
     "data": {
      "image/png": "[encoded data removed]",
      "text/plain": [
       "<Figure size 432x288 with 1 Axes>"
      ]
     },
     "metadata": {
      "needs_background": "light"
     },
     "output_type": "display_data"
    }
   ],
   "source": [
    "\n",
    "# data: shuffled and split between train and test sets, loading and using the Keras mnist dataset\n",
    "(input_X_train, output_Y_train), (input_X_test, output_Y_test) = mnist.load_data()\n",
    "\n",
    "# print the shapes of the input and output data\n",
    "print(\"Training data input shape: \" , input_X_train.shape)\n",
    "print(\"Training data output shape: \" , output_Y_train.shape)\n",
    "print(\"Test data input shape: \" , input_X_test.shape)\n",
    "print(\"Test data ouput shape: \" , output_Y_test.shape)\n",
    "\n",
    "# visualisation of the numerical vector and plot of a selected image\n",
    "Selected_Image = 2\n",
    "image = input_X_train[Selected_Image]\n",
    "print (\"Sample input image: \" + str(image))\n",
    "plt.imshow(image, cmap='gray')\n",
    "plt.show() \n"
   ]
  },
  {
   "cell_type": "markdown",
   "metadata": {
    "colab_type": "text",
    "id": "cDqNl3taMP1P"
   },
   "source": [
    "The input images now have to be reshaped as a linear vector. That is, we go from a 2D image of 28x28 pixels, to a linear vector of 784 (i.e. 28*28) pixels, to be passed as the 784 input units. Moreover, the initial pixel grey values given as type __int__ in the range 0-255 will be normalised to the __float32__ type in the range 0-1. \n"
   ]
  },
  {
   "cell_type": "code",
   "execution_count": 19,
   "metadata": {
    "colab": {},
    "colab_type": "code",
    "id": "fB15FrXOMP1R"
   },
   "outputs": [
    {
     "name": "stdout",
     "output_type": "stream",
     "text": [
      "Input data ready\n"
     ]
    }
   ],
   "source": [
    "# use 60000 images for training, 10000 for validation test\n",
    "input_X_train = input_X_train.reshape(60000, RESHAPED)\n",
    "input_X_test = input_X_test.reshape(10000, RESHAPED)\n",
    "input_X_train = input_X_train.astype('float32')\n",
    "input_X_test = input_X_test.astype('float32')\n",
    "\n",
    "# normalisation of the pixel values from 0-255 range to 0-1 range \n",
    "input_X_train /= 255\n",
    "input_X_test /= 255\n",
    "\n",
    "print (\"Input data ready\")"
   ]
  },
  {
   "cell_type": "markdown",
   "metadata": {
    "colab_type": "text",
    "id": "KsCwC5y7MP1Z"
   },
   "source": [
    "**Preparing the output labels**\n",
    "\n",
    "This code converts the output data into categorical (one-hot encoding) vectors of 0s and 1s.\n",
    "See example of the visualisation of the one-hot vector for the selected image."
   ]
  },
  {
   "cell_type": "code",
   "execution_count": 20,
   "metadata": {
    "colab": {},
    "colab_type": "code",
    "id": "Rc4dgAqqMP1c"
   },
   "outputs": [
    {
     "name": "stdout",
     "output_type": "stream",
     "text": [
      "One-hot-vector: [0. 0. 0. 0. 1. 0. 0. 0. 0. 0.]\n"
     ]
    }
   ],
   "source": [
    "# convert class vectors to binary class matrices\n",
    "output_Y_train = np_utils.to_categorical(output_Y_train, N_CLASSES)\n",
    "output_Y_test = np_utils.to_categorical(output_Y_test, N_CLASSES)\n",
    "\n",
    "# print the categorical, one-hot output vector for the sample image\n",
    "label = output_Y_train[Selected_Image]\n",
    "print (\"One-hot-vector: \" + str(label))"
   ]
  },
  {
   "cell_type": "markdown",
   "metadata": {
    "colab_type": "text",
    "id": "h-rcBfv8MP1q"
   },
   "source": [
    "Training the Simple Perceptron\n",
    "=========\n",
    "\n",
    "**Defining the network: Simple Perceptron**\n",
    "\n",
    "We will start by training a simple perceptron, i.e. a network with an input layer (the 784 input values/pixels) connected to the output layer (the 10 number classes)"
   ]
  },
  {
   "cell_type": "code",
   "execution_count": 21,
   "metadata": {
    "colab": {},
    "colab_type": "code",
    "id": "HTb4RC7zMP1s"
   },
   "outputs": [
    {
     "name": "stdout",
     "output_type": "stream",
     "text": [
      "Model: \"sequential_4\"\n",
      "_________________________________________________________________\n",
      "Layer (type)                 Output Shape              Param #   \n",
      "=================================================================\n",
      "dense_8 (Dense)              (None, 10)                7850      \n",
      "_________________________________________________________________\n",
      "activation_8 (Activation)    (None, 10)                0         \n",
      "=================================================================\n",
      "Total params: 7,850\n",
      "Trainable params: 7,850\n",
      "Non-trainable params: 0\n",
      "_________________________________________________________________\n"
     ]
    }
   ],
   "source": [
    "# Defaults sequential model\n",
    "model = Sequential()\n",
    "\n",
    "# Dense layer for all to all connections\n",
    "# Define the output layer with 10 output units, and softmax activation as categorical output\n",
    "model.add(Dense(N_CLASSES, input_shape=(RESHAPED,)))\n",
    "model.add(Activation('softmax'))\n",
    "\n",
    "# Use categorical crossentropy for the loss evaluation, and the accuracy metrics\n",
    "# we previously chose the SGD optimiser in the OPTIMIZER variable definition  \n",
    "model.compile(loss='categorical_crossentropy', optimizer=OPTIMIZER, metrics=['accuracy'])\n",
    "\n",
    "#show the model summary\n",
    "model.summary()\n"
   ]
  },
  {
   "cell_type": "markdown",
   "metadata": {
    "colab_type": "text",
    "id": "uHyq0YoRMP1y"
   },
   "source": [
    "**Let's train the simple perceptron network**\n",
    "\n",
    "Let's now train (fit) the network with the above-defined batch size (128), and number of epochs (200). We save the training results into the history variable.\n",
    "\n",
    "Here we use the previous __VALIDATION_SPLIT=0.2__ definition to split the dataset into a 20% (0.2) validation set and the remaning 80% as training set. "
   ]
  },
  {
   "cell_type": "code",
   "execution_count": 22,
   "metadata": {
    "colab": {},
    "colab_type": "code",
    "id": "lg3RCFukMP10"
   },
   "outputs": [
    {
     "name": "stdout",
     "output_type": "stream",
     "text": [
      "Train on 48000 samples, validate on 12000 samples\n",
      "Epoch 1/200\n",
      "48000/48000 [==============================] - 1s 14us/step - loss: 0.6275 - accuracy: 0.8419 - val_loss: 0.3982 - val_accuracy: 0.8966\n",
      "Epoch 2/200\n",
      "48000/48000 [==============================] - 1s 13us/step - loss: 0.3963 - accuracy: 0.8916 - val_loss: 0.3491 - val_accuracy: 0.9056\n",
      "Epoch 3/200\n",
      "48000/48000 [==============================] - 1s 13us/step - loss: 0.3595 - accuracy: 0.9005 - val_loss: 0.3283 - val_accuracy: 0.9098\n",
      "Epoch 4/200\n",
      "48000/48000 [==============================] - 1s 14us/step - loss: 0.3405 - accuracy: 0.9053 - val_loss: 0.3159 - val_accuracy: 0.9134\n",
      "Epoch 5/200\n",
      "48000/48000 [==============================] - 1s 16us/step - loss: 0.3284 - accuracy: 0.9085 - val_loss: 0.3080 - val_accuracy: 0.9151\n",
      "Epoch 6/200\n",
      "48000/48000 [==============================] - 1s 21us/step - loss: 0.3196 - accuracy: 0.9106 - val_loss: 0.3024 - val_accuracy: 0.9159\n",
      "Epoch 7/200\n",
      "48000/48000 [==============================] - 1s 19us/step - loss: 0.3129 - accuracy: 0.9129 - val_loss: 0.2983 - val_accuracy: 0.9162\n",
      "Epoch 8/200\n",
      "48000/48000 [==============================] - 1s 14us/step - loss: 0.3075 - accuracy: 0.9146 - val_loss: 0.2934 - val_accuracy: 0.9183\n",
      "Epoch 9/200\n",
      "48000/48000 [==============================] - 1s 14us/step - loss: 0.3031 - accuracy: 0.9153 - val_loss: 0.2925 - val_accuracy: 0.9183\n",
      "Epoch 10/200\n",
      "48000/48000 [==============================] - 1s 13us/step - loss: 0.2995 - accuracy: 0.9167 - val_loss: 0.2887 - val_accuracy: 0.9187\n",
      "Epoch 11/200\n",
      "48000/48000 [==============================] - 1s 13us/step - loss: 0.2962 - accuracy: 0.9177 - val_loss: 0.2859 - val_accuracy: 0.9209\n",
      "Epoch 12/200\n",
      "48000/48000 [==============================] - 1s 14us/step - loss: 0.2936 - accuracy: 0.9176 - val_loss: 0.2852 - val_accuracy: 0.9202\n",
      "Epoch 13/200\n",
      "48000/48000 [==============================] - 1s 18us/step - loss: 0.2911 - accuracy: 0.9178 - val_loss: 0.2841 - val_accuracy: 0.9206\n",
      "Epoch 14/200\n",
      "48000/48000 [==============================] - 1s 15us/step - loss: 0.2890 - accuracy: 0.9193 - val_loss: 0.2823 - val_accuracy: 0.9209\n",
      "Epoch 15/200\n",
      "48000/48000 [==============================] - 1s 14us/step - loss: 0.2868 - accuracy: 0.9199 - val_loss: 0.2817 - val_accuracy: 0.9212\n",
      "Epoch 16/200\n",
      "48000/48000 [==============================] - 1s 17us/step - loss: 0.2850 - accuracy: 0.9199 - val_loss: 0.2792 - val_accuracy: 0.9233\n",
      "Epoch 17/200\n",
      "48000/48000 [==============================] - 1s 23us/step - loss: 0.2835 - accuracy: 0.9205 - val_loss: 0.2798 - val_accuracy: 0.9222\n",
      "Epoch 18/200\n",
      "48000/48000 [==============================] - 1s 19us/step - loss: 0.2818 - accuracy: 0.9214 - val_loss: 0.2779 - val_accuracy: 0.9220\n",
      "Epoch 19/200\n",
      "48000/48000 [==============================] - 1s 22us/step - loss: 0.2804 - accuracy: 0.9215 - val_loss: 0.2776 - val_accuracy: 0.9223\n",
      "Epoch 20/200\n",
      "48000/48000 [==============================] - 1s 14us/step - loss: 0.2793 - accuracy: 0.9220 - val_loss: 0.2784 - val_accuracy: 0.9216\n",
      "Epoch 21/200\n",
      "48000/48000 [==============================] - 1s 16us/step - loss: 0.2780 - accuracy: 0.9219 - val_loss: 0.2759 - val_accuracy: 0.9227\n",
      "Epoch 22/200\n",
      "48000/48000 [==============================] - 1s 14us/step - loss: 0.2767 - accuracy: 0.9230 - val_loss: 0.2746 - val_accuracy: 0.9234\n",
      "Epoch 23/200\n",
      "48000/48000 [==============================] - 1s 16us/step - loss: 0.2758 - accuracy: 0.9226 - val_loss: 0.2739 - val_accuracy: 0.9234\n",
      "Epoch 24/200\n",
      "48000/48000 [==============================] - 1s 15us/step - loss: 0.2749 - accuracy: 0.9237 - val_loss: 0.2735 - val_accuracy: 0.9240\n",
      "Epoch 25/200\n",
      "48000/48000 [==============================] - 1s 14us/step - loss: 0.2737 - accuracy: 0.9236 - val_loss: 0.2736 - val_accuracy: 0.9247\n",
      "Epoch 26/200\n",
      "48000/48000 [==============================] - 1s 17us/step - loss: 0.2729 - accuracy: 0.9239 - val_loss: 0.2729 - val_accuracy: 0.9235\n",
      "Epoch 27/200\n",
      "48000/48000 [==============================] - 1s 17us/step - loss: 0.2719 - accuracy: 0.9237 - val_loss: 0.2722 - val_accuracy: 0.9252\n",
      "Epoch 28/200\n",
      "48000/48000 [==============================] - 1s 16us/step - loss: 0.2712 - accuracy: 0.9242 - val_loss: 0.2731 - val_accuracy: 0.9247\n",
      "Epoch 29/200\n",
      "48000/48000 [==============================] - 1s 15us/step - loss: 0.2705 - accuracy: 0.9246 - val_loss: 0.2720 - val_accuracy: 0.9242\n",
      "Epoch 30/200\n",
      "48000/48000 [==============================] - 1s 13us/step - loss: 0.2697 - accuracy: 0.9245 - val_loss: 0.2716 - val_accuracy: 0.9242\n",
      "Epoch 31/200\n",
      "48000/48000 [==============================] - 1s 12us/step - loss: 0.2691 - accuracy: 0.9246 - val_loss: 0.2707 - val_accuracy: 0.9252\n",
      "Epoch 32/200\n",
      "48000/48000 [==============================] - 1s 13us/step - loss: 0.2686 - accuracy: 0.9251 - val_loss: 0.2707 - val_accuracy: 0.9250\n",
      "Epoch 33/200\n",
      "48000/48000 [==============================] - 1s 13us/step - loss: 0.2675 - accuracy: 0.9254 - val_loss: 0.2706 - val_accuracy: 0.9252\n",
      "Epoch 34/200\n",
      "48000/48000 [==============================] - 1s 13us/step - loss: 0.2671 - accuracy: 0.9256 - val_loss: 0.2702 - val_accuracy: 0.9252\n",
      "Epoch 35/200\n",
      "48000/48000 [==============================] - 1s 13us/step - loss: 0.2664 - accuracy: 0.9254 - val_loss: 0.2708 - val_accuracy: 0.9252\n",
      "Epoch 36/200\n",
      "48000/48000 [==============================] - 1s 13us/step - loss: 0.2661 - accuracy: 0.9253 - val_loss: 0.2688 - val_accuracy: 0.9262\n",
      "Epoch 37/200\n",
      "48000/48000 [==============================] - 1s 13us/step - loss: 0.2653 - accuracy: 0.9260 - val_loss: 0.2695 - val_accuracy: 0.9242\n",
      "Epoch 38/200\n",
      "48000/48000 [==============================] - 1s 15us/step - loss: 0.2647 - accuracy: 0.9262 - val_loss: 0.2698 - val_accuracy: 0.9263\n",
      "Epoch 39/200\n",
      "48000/48000 [==============================] - 1s 15us/step - loss: 0.2643 - accuracy: 0.9268 - val_loss: 0.2689 - val_accuracy: 0.9258\n",
      "Epoch 40/200\n",
      "48000/48000 [==============================] - 1s 12us/step - loss: 0.2636 - accuracy: 0.9266 - val_loss: 0.2696 - val_accuracy: 0.9253\n",
      "Epoch 41/200\n",
      "48000/48000 [==============================] - 1s 12us/step - loss: 0.2633 - accuracy: 0.9265 - val_loss: 0.2691 - val_accuracy: 0.9263\n",
      "Epoch 42/200\n",
      "48000/48000 [==============================] - 1s 13us/step - loss: 0.2627 - accuracy: 0.9266 - val_loss: 0.2682 - val_accuracy: 0.9264\n",
      "Epoch 43/200\n",
      "48000/48000 [==============================] - 1s 13us/step - loss: 0.2623 - accuracy: 0.9268 - val_loss: 0.2689 - val_accuracy: 0.9265\n",
      "Epoch 44/200\n",
      "48000/48000 [==============================] - 1s 13us/step - loss: 0.2620 - accuracy: 0.9265 - val_loss: 0.2684 - val_accuracy: 0.9262\n",
      "Epoch 45/200\n",
      "48000/48000 [==============================] - 1s 13us/step - loss: 0.2615 - accuracy: 0.9268 - val_loss: 0.2685 - val_accuracy: 0.9267\n",
      "Epoch 46/200\n",
      "48000/48000 [==============================] - 1s 13us/step - loss: 0.2610 - accuracy: 0.9270 - val_loss: 0.2678 - val_accuracy: 0.9262\n",
      "Epoch 47/200\n",
      "48000/48000 [==============================] - 1s 13us/step - loss: 0.2607 - accuracy: 0.9276 - val_loss: 0.2688 - val_accuracy: 0.9258\n",
      "Epoch 48/200\n",
      "48000/48000 [==============================] - 1s 13us/step - loss: 0.2602 - accuracy: 0.9278 - val_loss: 0.2685 - val_accuracy: 0.9263\n",
      "Epoch 49/200\n",
      "48000/48000 [==============================] - 1s 14us/step - loss: 0.2600 - accuracy: 0.9274 - val_loss: 0.2674 - val_accuracy: 0.9270\n",
      "Epoch 50/200\n",
      "48000/48000 [==============================] - 1s 14us/step - loss: 0.2594 - accuracy: 0.9276 - val_loss: 0.2671 - val_accuracy: 0.9266\n",
      "Epoch 51/200\n",
      "48000/48000 [==============================] - 1s 12us/step - loss: 0.2591 - accuracy: 0.9275 - val_loss: 0.2681 - val_accuracy: 0.9273\n",
      "Epoch 52/200\n",
      "48000/48000 [==============================] - 1s 13us/step - loss: 0.2586 - accuracy: 0.9275 - val_loss: 0.2668 - val_accuracy: 0.9277\n",
      "Epoch 53/200\n",
      "48000/48000 [==============================] - 1s 13us/step - loss: 0.2584 - accuracy: 0.9281 - val_loss: 0.2669 - val_accuracy: 0.9268\n",
      "Epoch 54/200\n",
      "48000/48000 [==============================] - 1s 13us/step - loss: 0.2582 - accuracy: 0.9281 - val_loss: 0.2669 - val_accuracy: 0.9275\n",
      "Epoch 55/200\n",
      "48000/48000 [==============================] - 1s 12us/step - loss: 0.2577 - accuracy: 0.9283 - val_loss: 0.2674 - val_accuracy: 0.9270\n"
     ]
    },
    {
     "name": "stdout",
     "output_type": "stream",
     "text": [
      "Epoch 56/200\n",
      "48000/48000 [==============================] - 1s 13us/step - loss: 0.2573 - accuracy: 0.9282 - val_loss: 0.2665 - val_accuracy: 0.9278\n",
      "Epoch 57/200\n",
      "48000/48000 [==============================] - 1s 12us/step - loss: 0.2571 - accuracy: 0.9284 - val_loss: 0.2674 - val_accuracy: 0.9275\n",
      "Epoch 58/200\n",
      "48000/48000 [==============================] - 1s 12us/step - loss: 0.2568 - accuracy: 0.9280 - val_loss: 0.2670 - val_accuracy: 0.9263\n",
      "Epoch 59/200\n",
      "48000/48000 [==============================] - 1s 13us/step - loss: 0.2565 - accuracy: 0.9288 - val_loss: 0.2667 - val_accuracy: 0.9274\n",
      "Epoch 60/200\n",
      "48000/48000 [==============================] - 1s 13us/step - loss: 0.2561 - accuracy: 0.9289 - val_loss: 0.2675 - val_accuracy: 0.9273\n",
      "Epoch 61/200\n",
      "48000/48000 [==============================] - 1s 13us/step - loss: 0.2561 - accuracy: 0.9291 - val_loss: 0.2663 - val_accuracy: 0.9270\n",
      "Epoch 62/200\n",
      "48000/48000 [==============================] - 1s 13us/step - loss: 0.2556 - accuracy: 0.9291 - val_loss: 0.2676 - val_accuracy: 0.9262\n",
      "Epoch 63/200\n",
      "48000/48000 [==============================] - 1s 13us/step - loss: 0.2552 - accuracy: 0.9287 - val_loss: 0.2669 - val_accuracy: 0.9271\n",
      "Epoch 64/200\n",
      "48000/48000 [==============================] - 1s 14us/step - loss: 0.2551 - accuracy: 0.9287 - val_loss: 0.2660 - val_accuracy: 0.9269\n",
      "Epoch 65/200\n",
      "48000/48000 [==============================] - 1s 13us/step - loss: 0.2547 - accuracy: 0.9290 - val_loss: 0.2661 - val_accuracy: 0.9281\n",
      "Epoch 66/200\n",
      "48000/48000 [==============================] - 1s 12us/step - loss: 0.2544 - accuracy: 0.9289 - val_loss: 0.2662 - val_accuracy: 0.9275\n",
      "Epoch 67/200\n",
      "48000/48000 [==============================] - 1s 13us/step - loss: 0.2542 - accuracy: 0.9294 - val_loss: 0.2660 - val_accuracy: 0.9283\n",
      "Epoch 68/200\n",
      "48000/48000 [==============================] - 1s 13us/step - loss: 0.2539 - accuracy: 0.9296 - val_loss: 0.2657 - val_accuracy: 0.9285\n",
      "Epoch 69/200\n",
      "48000/48000 [==============================] - 1s 13us/step - loss: 0.2535 - accuracy: 0.9292 - val_loss: 0.2668 - val_accuracy: 0.9273\n",
      "Epoch 70/200\n",
      "48000/48000 [==============================] - 1s 13us/step - loss: 0.2533 - accuracy: 0.9292 - val_loss: 0.2667 - val_accuracy: 0.9270\n",
      "Epoch 71/200\n",
      "48000/48000 [==============================] - 1s 13us/step - loss: 0.2532 - accuracy: 0.9294 - val_loss: 0.2659 - val_accuracy: 0.9278\n",
      "Epoch 72/200\n",
      "48000/48000 [==============================] - 1s 13us/step - loss: 0.2532 - accuracy: 0.9296 - val_loss: 0.2657 - val_accuracy: 0.9278\n",
      "Epoch 73/200\n",
      "48000/48000 [==============================] - 1s 13us/step - loss: 0.2525 - accuracy: 0.9297 - val_loss: 0.2671 - val_accuracy: 0.9269\n",
      "Epoch 74/200\n",
      "48000/48000 [==============================] - 1s 14us/step - loss: 0.2524 - accuracy: 0.9292 - val_loss: 0.2666 - val_accuracy: 0.9281\n",
      "Epoch 75/200\n",
      "48000/48000 [==============================] - 1s 13us/step - loss: 0.2521 - accuracy: 0.9300 - val_loss: 0.2667 - val_accuracy: 0.9281\n",
      "Epoch 76/200\n",
      "48000/48000 [==============================] - 1s 13us/step - loss: 0.2519 - accuracy: 0.9295 - val_loss: 0.2669 - val_accuracy: 0.9275\n",
      "Epoch 77/200\n",
      "48000/48000 [==============================] - 1s 12us/step - loss: 0.2517 - accuracy: 0.9294 - val_loss: 0.2660 - val_accuracy: 0.9285\n",
      "Epoch 78/200\n",
      "48000/48000 [==============================] - 1s 12us/step - loss: 0.2516 - accuracy: 0.9300 - val_loss: 0.2655 - val_accuracy: 0.9293\n",
      "Epoch 79/200\n",
      "48000/48000 [==============================] - 1s 12us/step - loss: 0.2512 - accuracy: 0.9297 - val_loss: 0.2656 - val_accuracy: 0.9282\n",
      "Epoch 80/200\n",
      "48000/48000 [==============================] - 1s 13us/step - loss: 0.2511 - accuracy: 0.9300 - val_loss: 0.2661 - val_accuracy: 0.9281\n",
      "Epoch 81/200\n",
      "48000/48000 [==============================] - 1s 13us/step - loss: 0.2510 - accuracy: 0.9298 - val_loss: 0.2668 - val_accuracy: 0.9285\n",
      "Epoch 82/200\n",
      "48000/48000 [==============================] - 1s 13us/step - loss: 0.2506 - accuracy: 0.9305 - val_loss: 0.2665 - val_accuracy: 0.9281\n",
      "Epoch 83/200\n",
      "48000/48000 [==============================] - 1s 13us/step - loss: 0.2505 - accuracy: 0.9309 - val_loss: 0.2663 - val_accuracy: 0.9270\n",
      "Epoch 84/200\n",
      "48000/48000 [==============================] - 1s 13us/step - loss: 0.2503 - accuracy: 0.9300 - val_loss: 0.2660 - val_accuracy: 0.9285\n",
      "Epoch 85/200\n",
      "48000/48000 [==============================] - 1s 13us/step - loss: 0.2503 - accuracy: 0.9304 - val_loss: 0.2660 - val_accuracy: 0.9290\n",
      "Epoch 86/200\n",
      "48000/48000 [==============================] - 1s 13us/step - loss: 0.2500 - accuracy: 0.9305 - val_loss: 0.2668 - val_accuracy: 0.9273\n",
      "Epoch 87/200\n",
      "48000/48000 [==============================] - 1s 14us/step - loss: 0.2497 - accuracy: 0.9302 - val_loss: 0.2651 - val_accuracy: 0.9285\n",
      "Epoch 88/200\n",
      "48000/48000 [==============================] - 1s 12us/step - loss: 0.2497 - accuracy: 0.9305 - val_loss: 0.2660 - val_accuracy: 0.9278\n",
      "Epoch 89/200\n",
      "48000/48000 [==============================] - 1s 13us/step - loss: 0.2491 - accuracy: 0.9302 - val_loss: 0.2663 - val_accuracy: 0.9277\n",
      "Epoch 90/200\n",
      "48000/48000 [==============================] - 1s 14us/step - loss: 0.2491 - accuracy: 0.9309 - val_loss: 0.2660 - val_accuracy: 0.9285\n",
      "Epoch 91/200\n",
      "48000/48000 [==============================] - 1s 13us/step - loss: 0.2491 - accuracy: 0.9304 - val_loss: 0.2669 - val_accuracy: 0.9287\n",
      "Epoch 92/200\n",
      "48000/48000 [==============================] - 1s 13us/step - loss: 0.2488 - accuracy: 0.9308 - val_loss: 0.2656 - val_accuracy: 0.9287\n",
      "Epoch 93/200\n",
      "48000/48000 [==============================] - 1s 13us/step - loss: 0.2487 - accuracy: 0.9303 - val_loss: 0.2658 - val_accuracy: 0.9280\n",
      "Epoch 94/200\n",
      "48000/48000 [==============================] - 1s 13us/step - loss: 0.2484 - accuracy: 0.9310 - val_loss: 0.2662 - val_accuracy: 0.9285\n",
      "Epoch 95/200\n",
      "48000/48000 [==============================] - 1s 13us/step - loss: 0.2482 - accuracy: 0.9308 - val_loss: 0.2663 - val_accuracy: 0.9282\n",
      "Epoch 96/200\n",
      "48000/48000 [==============================] - 1s 13us/step - loss: 0.2481 - accuracy: 0.9308 - val_loss: 0.2659 - val_accuracy: 0.9287\n",
      "Epoch 97/200\n",
      "48000/48000 [==============================] - 1s 13us/step - loss: 0.2480 - accuracy: 0.9307 - val_loss: 0.2655 - val_accuracy: 0.9284\n",
      "Epoch 98/200\n",
      "48000/48000 [==============================] - 1s 13us/step - loss: 0.2477 - accuracy: 0.9306 - val_loss: 0.2656 - val_accuracy: 0.9288\n",
      "Epoch 99/200\n",
      "48000/48000 [==============================] - 1s 14us/step - loss: 0.2476 - accuracy: 0.9308 - val_loss: 0.2654 - val_accuracy: 0.9282\n",
      "Epoch 100/200\n",
      "48000/48000 [==============================] - 1s 13us/step - loss: 0.2474 - accuracy: 0.9310 - val_loss: 0.2664 - val_accuracy: 0.9283\n",
      "Epoch 101/200\n",
      "48000/48000 [==============================] - 1s 13us/step - loss: 0.2473 - accuracy: 0.9306 - val_loss: 0.2660 - val_accuracy: 0.9284\n",
      "Epoch 102/200\n",
      "48000/48000 [==============================] - 1s 13us/step - loss: 0.2471 - accuracy: 0.9310 - val_loss: 0.2666 - val_accuracy: 0.9272\n",
      "Epoch 103/200\n",
      "48000/48000 [==============================] - 1s 13us/step - loss: 0.2469 - accuracy: 0.9315 - val_loss: 0.2662 - val_accuracy: 0.9290\n",
      "Epoch 104/200\n",
      "48000/48000 [==============================] - 1s 13us/step - loss: 0.2468 - accuracy: 0.9311 - val_loss: 0.2665 - val_accuracy: 0.9293\n",
      "Epoch 105/200\n",
      "48000/48000 [==============================] - 1s 13us/step - loss: 0.2466 - accuracy: 0.9310 - val_loss: 0.2665 - val_accuracy: 0.9273\n",
      "Epoch 106/200\n",
      "48000/48000 [==============================] - 1s 13us/step - loss: 0.2467 - accuracy: 0.9321 - val_loss: 0.2659 - val_accuracy: 0.9282\n",
      "Epoch 107/200\n",
      "48000/48000 [==============================] - 1s 13us/step - loss: 0.2463 - accuracy: 0.9310 - val_loss: 0.2667 - val_accuracy: 0.9274\n",
      "Epoch 108/200\n",
      "48000/48000 [==============================] - 1s 13us/step - loss: 0.2461 - accuracy: 0.9311 - val_loss: 0.2659 - val_accuracy: 0.9287\n",
      "Epoch 109/200\n",
      "48000/48000 [==============================] - 1s 13us/step - loss: 0.2462 - accuracy: 0.9311 - val_loss: 0.2662 - val_accuracy: 0.9283\n",
      "Epoch 110/200\n",
      "48000/48000 [==============================] - 1s 13us/step - loss: 0.2459 - accuracy: 0.9315 - val_loss: 0.2667 - val_accuracy: 0.9280\n"
     ]
    },
    {
     "name": "stdout",
     "output_type": "stream",
     "text": [
      "Epoch 111/200\n",
      "48000/48000 [==============================] - 1s 13us/step - loss: 0.2459 - accuracy: 0.9316 - val_loss: 0.2660 - val_accuracy: 0.9285\n",
      "Epoch 112/200\n",
      "48000/48000 [==============================] - 1s 13us/step - loss: 0.2456 - accuracy: 0.9316 - val_loss: 0.2663 - val_accuracy: 0.9279\n",
      "Epoch 113/200\n",
      "48000/48000 [==============================] - 1s 13us/step - loss: 0.2456 - accuracy: 0.9319 - val_loss: 0.2660 - val_accuracy: 0.9287\n",
      "Epoch 114/200\n",
      "48000/48000 [==============================] - 1s 13us/step - loss: 0.2454 - accuracy: 0.9316 - val_loss: 0.2659 - val_accuracy: 0.9283\n",
      "Epoch 115/200\n",
      "48000/48000 [==============================] - 1s 13us/step - loss: 0.2452 - accuracy: 0.9314 - val_loss: 0.2679 - val_accuracy: 0.9271\n",
      "Epoch 116/200\n",
      "48000/48000 [==============================] - 1s 14us/step - loss: 0.2452 - accuracy: 0.9320 - val_loss: 0.2656 - val_accuracy: 0.9293\n",
      "Epoch 117/200\n",
      "48000/48000 [==============================] - 1s 13us/step - loss: 0.2449 - accuracy: 0.9315 - val_loss: 0.2663 - val_accuracy: 0.9283\n",
      "Epoch 118/200\n",
      "48000/48000 [==============================] - 1s 13us/step - loss: 0.2446 - accuracy: 0.9319 - val_loss: 0.2668 - val_accuracy: 0.9287\n",
      "Epoch 119/200\n",
      "48000/48000 [==============================] - 1s 13us/step - loss: 0.2448 - accuracy: 0.9314 - val_loss: 0.2660 - val_accuracy: 0.9281\n",
      "Epoch 120/200\n",
      "48000/48000 [==============================] - 1s 13us/step - loss: 0.2446 - accuracy: 0.9321 - val_loss: 0.2665 - val_accuracy: 0.9277\n",
      "Epoch 121/200\n",
      "48000/48000 [==============================] - 1s 13us/step - loss: 0.2444 - accuracy: 0.9319 - val_loss: 0.2676 - val_accuracy: 0.9278\n",
      "Epoch 122/200\n",
      "48000/48000 [==============================] - 1s 13us/step - loss: 0.2443 - accuracy: 0.9320 - val_loss: 0.2659 - val_accuracy: 0.9283\n",
      "Epoch 123/200\n",
      "48000/48000 [==============================] - 1s 13us/step - loss: 0.2442 - accuracy: 0.9321 - val_loss: 0.2665 - val_accuracy: 0.9279\n",
      "Epoch 124/200\n",
      "48000/48000 [==============================] - 1s 13us/step - loss: 0.2441 - accuracy: 0.9318 - val_loss: 0.2683 - val_accuracy: 0.9277\n",
      "Epoch 125/200\n",
      "48000/48000 [==============================] - 1s 13us/step - loss: 0.2442 - accuracy: 0.9320 - val_loss: 0.2666 - val_accuracy: 0.9282\n",
      "Epoch 126/200\n",
      "48000/48000 [==============================] - 1s 13us/step - loss: 0.2439 - accuracy: 0.9320 - val_loss: 0.2662 - val_accuracy: 0.9280\n",
      "Epoch 127/200\n",
      "48000/48000 [==============================] - 1s 13us/step - loss: 0.2437 - accuracy: 0.9321 - val_loss: 0.2673 - val_accuracy: 0.9279\n",
      "Epoch 128/200\n",
      "48000/48000 [==============================] - 1s 13us/step - loss: 0.2437 - accuracy: 0.9320 - val_loss: 0.2663 - val_accuracy: 0.9289\n",
      "Epoch 129/200\n",
      "48000/48000 [==============================] - 1s 13us/step - loss: 0.2435 - accuracy: 0.9322 - val_loss: 0.2659 - val_accuracy: 0.9288\n",
      "Epoch 130/200\n",
      "48000/48000 [==============================] - 1s 12us/step - loss: 0.2435 - accuracy: 0.9318 - val_loss: 0.2652 - val_accuracy: 0.9290\n",
      "Epoch 131/200\n",
      "48000/48000 [==============================] - 1s 13us/step - loss: 0.2431 - accuracy: 0.9326 - val_loss: 0.2675 - val_accuracy: 0.9268\n",
      "Epoch 132/200\n",
      "48000/48000 [==============================] - 1s 16us/step - loss: 0.2433 - accuracy: 0.9317 - val_loss: 0.2668 - val_accuracy: 0.9287\n",
      "Epoch 133/200\n",
      "48000/48000 [==============================] - 1s 15us/step - loss: 0.2430 - accuracy: 0.9325 - val_loss: 0.2669 - val_accuracy: 0.9285\n",
      "Epoch 134/200\n",
      "48000/48000 [==============================] - 1s 13us/step - loss: 0.2430 - accuracy: 0.9322 - val_loss: 0.2676 - val_accuracy: 0.9265\n",
      "Epoch 135/200\n",
      "48000/48000 [==============================] - 1s 14us/step - loss: 0.2428 - accuracy: 0.9323 - val_loss: 0.2664 - val_accuracy: 0.9277\n",
      "Epoch 136/200\n",
      "48000/48000 [==============================] - 1s 13us/step - loss: 0.2426 - accuracy: 0.9322 - val_loss: 0.2671 - val_accuracy: 0.9280\n",
      "Epoch 137/200\n",
      "48000/48000 [==============================] - 1s 13us/step - loss: 0.2427 - accuracy: 0.9326 - val_loss: 0.2670 - val_accuracy: 0.9283\n",
      "Epoch 138/200\n",
      "48000/48000 [==============================] - 1s 13us/step - loss: 0.2424 - accuracy: 0.9324 - val_loss: 0.2662 - val_accuracy: 0.9289\n",
      "Epoch 139/200\n",
      "48000/48000 [==============================] - 1s 14us/step - loss: 0.2424 - accuracy: 0.9324 - val_loss: 0.2672 - val_accuracy: 0.9277\n",
      "Epoch 140/200\n",
      "48000/48000 [==============================] - 1s 14us/step - loss: 0.2423 - accuracy: 0.9327 - val_loss: 0.2664 - val_accuracy: 0.9283\n",
      "Epoch 141/200\n",
      "48000/48000 [==============================] - 1s 14us/step - loss: 0.2423 - accuracy: 0.9321 - val_loss: 0.2664 - val_accuracy: 0.9284\n",
      "Epoch 142/200\n",
      "48000/48000 [==============================] - 1s 14us/step - loss: 0.2420 - accuracy: 0.9325 - val_loss: 0.2675 - val_accuracy: 0.9280\n",
      "Epoch 143/200\n",
      "48000/48000 [==============================] - 1s 14us/step - loss: 0.2421 - accuracy: 0.9323 - val_loss: 0.2662 - val_accuracy: 0.9287\n",
      "Epoch 144/200\n",
      "48000/48000 [==============================] - 1s 13us/step - loss: 0.2418 - accuracy: 0.9330 - val_loss: 0.2672 - val_accuracy: 0.9273\n",
      "Epoch 145/200\n",
      "48000/48000 [==============================] - 1s 13us/step - loss: 0.2419 - accuracy: 0.9330 - val_loss: 0.2663 - val_accuracy: 0.9283\n",
      "Epoch 146/200\n",
      "48000/48000 [==============================] - 1s 13us/step - loss: 0.2416 - accuracy: 0.9326 - val_loss: 0.2673 - val_accuracy: 0.9281\n",
      "Epoch 147/200\n",
      "48000/48000 [==============================] - 1s 13us/step - loss: 0.2415 - accuracy: 0.9326 - val_loss: 0.2666 - val_accuracy: 0.9280\n",
      "Epoch 148/200\n",
      "48000/48000 [==============================] - 1s 13us/step - loss: 0.2414 - accuracy: 0.9331 - val_loss: 0.2673 - val_accuracy: 0.9283\n",
      "Epoch 149/200\n",
      "48000/48000 [==============================] - 1s 13us/step - loss: 0.2414 - accuracy: 0.9325 - val_loss: 0.2670 - val_accuracy: 0.9285\n",
      "Epoch 150/200\n",
      "48000/48000 [==============================] - 1s 13us/step - loss: 0.2414 - accuracy: 0.9335 - val_loss: 0.2659 - val_accuracy: 0.9293\n",
      "Epoch 151/200\n",
      "48000/48000 [==============================] - 1s 13us/step - loss: 0.2413 - accuracy: 0.9325 - val_loss: 0.2670 - val_accuracy: 0.9288\n",
      "Epoch 152/200\n",
      "48000/48000 [==============================] - 1s 13us/step - loss: 0.2411 - accuracy: 0.9329 - val_loss: 0.2667 - val_accuracy: 0.9281\n",
      "Epoch 153/200\n",
      "48000/48000 [==============================] - 1s 13us/step - loss: 0.2409 - accuracy: 0.9331 - val_loss: 0.2662 - val_accuracy: 0.9294\n",
      "Epoch 154/200\n",
      "48000/48000 [==============================] - 1s 13us/step - loss: 0.2410 - accuracy: 0.9327 - val_loss: 0.2666 - val_accuracy: 0.9288\n",
      "Epoch 155/200\n",
      "48000/48000 [==============================] - 1s 14us/step - loss: 0.2407 - accuracy: 0.9330 - val_loss: 0.2664 - val_accuracy: 0.9287\n",
      "Epoch 156/200\n",
      "48000/48000 [==============================] - 1s 13us/step - loss: 0.2407 - accuracy: 0.9336 - val_loss: 0.2668 - val_accuracy: 0.9286\n",
      "Epoch 157/200\n",
      "48000/48000 [==============================] - 1s 13us/step - loss: 0.2407 - accuracy: 0.9336 - val_loss: 0.2671 - val_accuracy: 0.9272\n",
      "Epoch 158/200\n",
      "48000/48000 [==============================] - 1s 13us/step - loss: 0.2405 - accuracy: 0.9328 - val_loss: 0.2663 - val_accuracy: 0.9279\n",
      "Epoch 159/200\n",
      "48000/48000 [==============================] - 1s 13us/step - loss: 0.2403 - accuracy: 0.9333 - val_loss: 0.2674 - val_accuracy: 0.9275\n",
      "Epoch 160/200\n",
      "48000/48000 [==============================] - 1s 13us/step - loss: 0.2402 - accuracy: 0.9335 - val_loss: 0.2673 - val_accuracy: 0.9278\n",
      "Epoch 161/200\n",
      "48000/48000 [==============================] - 1s 13us/step - loss: 0.2402 - accuracy: 0.9332 - val_loss: 0.2673 - val_accuracy: 0.9278\n",
      "Epoch 162/200\n",
      "48000/48000 [==============================] - 1s 13us/step - loss: 0.2402 - accuracy: 0.9328 - val_loss: 0.2673 - val_accuracy: 0.9292\n",
      "Epoch 163/200\n",
      "48000/48000 [==============================] - 1s 13us/step - loss: 0.2400 - accuracy: 0.9333 - val_loss: 0.2683 - val_accuracy: 0.9276\n",
      "Epoch 164/200\n",
      "48000/48000 [==============================] - 1s 13us/step - loss: 0.2400 - accuracy: 0.9331 - val_loss: 0.2676 - val_accuracy: 0.9281\n",
      "Epoch 165/200\n"
     ]
    },
    {
     "name": "stdout",
     "output_type": "stream",
     "text": [
      "48000/48000 [==============================] - 1s 13us/step - loss: 0.2398 - accuracy: 0.9335 - val_loss: 0.2671 - val_accuracy: 0.9283\n",
      "Epoch 166/200\n",
      "48000/48000 [==============================] - 1s 13us/step - loss: 0.2397 - accuracy: 0.9332 - val_loss: 0.2680 - val_accuracy: 0.9272\n",
      "Epoch 167/200\n",
      "48000/48000 [==============================] - 1s 14us/step - loss: 0.2398 - accuracy: 0.9337 - val_loss: 0.2664 - val_accuracy: 0.9287\n",
      "Epoch 168/200\n",
      "48000/48000 [==============================] - 1s 13us/step - loss: 0.2395 - accuracy: 0.9338 - val_loss: 0.2674 - val_accuracy: 0.9283\n",
      "Epoch 169/200\n",
      "48000/48000 [==============================] - 1s 13us/step - loss: 0.2396 - accuracy: 0.9334 - val_loss: 0.2681 - val_accuracy: 0.9285\n",
      "Epoch 170/200\n",
      "48000/48000 [==============================] - 1s 13us/step - loss: 0.2394 - accuracy: 0.9332 - val_loss: 0.2674 - val_accuracy: 0.9290\n",
      "Epoch 171/200\n",
      "48000/48000 [==============================] - 1s 13us/step - loss: 0.2394 - accuracy: 0.9339 - val_loss: 0.2681 - val_accuracy: 0.9278\n",
      "Epoch 172/200\n",
      "48000/48000 [==============================] - 1s 13us/step - loss: 0.2392 - accuracy: 0.9333 - val_loss: 0.2664 - val_accuracy: 0.9293\n",
      "Epoch 173/200\n",
      "48000/48000 [==============================] - 1s 13us/step - loss: 0.2392 - accuracy: 0.9335 - val_loss: 0.2676 - val_accuracy: 0.9284\n",
      "Epoch 174/200\n",
      "48000/48000 [==============================] - 1s 13us/step - loss: 0.2391 - accuracy: 0.9334 - val_loss: 0.2678 - val_accuracy: 0.9278\n",
      "Epoch 175/200\n",
      "48000/48000 [==============================] - 1s 13us/step - loss: 0.2390 - accuracy: 0.9335 - val_loss: 0.2677 - val_accuracy: 0.9283\n",
      "Epoch 176/200\n",
      "48000/48000 [==============================] - 1s 13us/step - loss: 0.2390 - accuracy: 0.9341 - val_loss: 0.2681 - val_accuracy: 0.9284\n",
      "Epoch 177/200\n",
      "48000/48000 [==============================] - 1s 13us/step - loss: 0.2389 - accuracy: 0.9336 - val_loss: 0.2681 - val_accuracy: 0.9272\n",
      "Epoch 178/200\n",
      "48000/48000 [==============================] - 1s 13us/step - loss: 0.2388 - accuracy: 0.9338 - val_loss: 0.2684 - val_accuracy: 0.9277\n",
      "Epoch 179/200\n",
      "48000/48000 [==============================] - 1s 13us/step - loss: 0.2388 - accuracy: 0.9337 - val_loss: 0.2688 - val_accuracy: 0.9283\n",
      "Epoch 180/200\n",
      "48000/48000 [==============================] - 1s 13us/step - loss: 0.2388 - accuracy: 0.9336 - val_loss: 0.2675 - val_accuracy: 0.9288\n",
      "Epoch 181/200\n",
      "48000/48000 [==============================] - 1s 13us/step - loss: 0.2384 - accuracy: 0.9342 - val_loss: 0.2670 - val_accuracy: 0.9292\n",
      "Epoch 182/200\n",
      "48000/48000 [==============================] - 1s 13us/step - loss: 0.2384 - accuracy: 0.9339 - val_loss: 0.2671 - val_accuracy: 0.9285\n",
      "Epoch 183/200\n",
      "48000/48000 [==============================] - 1s 13us/step - loss: 0.2383 - accuracy: 0.9336 - val_loss: 0.2675 - val_accuracy: 0.9281\n",
      "Epoch 184/200\n",
      "48000/48000 [==============================] - 1s 13us/step - loss: 0.2384 - accuracy: 0.9339 - val_loss: 0.2673 - val_accuracy: 0.9285\n",
      "Epoch 185/200\n",
      "48000/48000 [==============================] - 1s 13us/step - loss: 0.2383 - accuracy: 0.9339 - val_loss: 0.2677 - val_accuracy: 0.9283\n",
      "Epoch 186/200\n",
      "48000/48000 [==============================] - 1s 13us/step - loss: 0.2382 - accuracy: 0.9344 - val_loss: 0.2669 - val_accuracy: 0.9291\n",
      "Epoch 187/200\n",
      "48000/48000 [==============================] - 1s 13us/step - loss: 0.2380 - accuracy: 0.9340 - val_loss: 0.2679 - val_accuracy: 0.9282\n",
      "Epoch 188/200\n",
      "48000/48000 [==============================] - 1s 13us/step - loss: 0.2380 - accuracy: 0.9335 - val_loss: 0.2678 - val_accuracy: 0.9280\n",
      "Epoch 189/200\n",
      "48000/48000 [==============================] - 1s 13us/step - loss: 0.2379 - accuracy: 0.9341 - val_loss: 0.2677 - val_accuracy: 0.9283\n",
      "Epoch 190/200\n",
      "48000/48000 [==============================] - 1s 13us/step - loss: 0.2379 - accuracy: 0.9334 - val_loss: 0.2684 - val_accuracy: 0.9279\n",
      "Epoch 191/200\n",
      "48000/48000 [==============================] - 1s 13us/step - loss: 0.2378 - accuracy: 0.9339 - val_loss: 0.2673 - val_accuracy: 0.9293\n",
      "Epoch 192/200\n",
      "48000/48000 [==============================] - 1s 13us/step - loss: 0.2375 - accuracy: 0.9339 - val_loss: 0.2689 - val_accuracy: 0.9270\n",
      "Epoch 193/200\n",
      "48000/48000 [==============================] - 1s 14us/step - loss: 0.2377 - accuracy: 0.9339 - val_loss: 0.2684 - val_accuracy: 0.9278\n",
      "Epoch 194/200\n",
      "48000/48000 [==============================] - 1s 13us/step - loss: 0.2376 - accuracy: 0.9341 - val_loss: 0.2676 - val_accuracy: 0.9277\n",
      "Epoch 195/200\n",
      "48000/48000 [==============================] - 1s 13us/step - loss: 0.2375 - accuracy: 0.9345 - val_loss: 0.2682 - val_accuracy: 0.9291\n",
      "Epoch 196/200\n",
      "48000/48000 [==============================] - 1s 13us/step - loss: 0.2374 - accuracy: 0.9341 - val_loss: 0.2681 - val_accuracy: 0.9281\n",
      "Epoch 197/200\n",
      "48000/48000 [==============================] - 1s 12us/step - loss: 0.2372 - accuracy: 0.9342 - val_loss: 0.2685 - val_accuracy: 0.9278\n",
      "Epoch 198/200\n",
      "48000/48000 [==============================] - 1s 12us/step - loss: 0.2374 - accuracy: 0.9340 - val_loss: 0.2682 - val_accuracy: 0.9285\n",
      "Epoch 199/200\n",
      "48000/48000 [==============================] - 1s 12us/step - loss: 0.2374 - accuracy: 0.9346 - val_loss: 0.2682 - val_accuracy: 0.9284\n",
      "Epoch 200/200\n",
      "48000/48000 [==============================] - 1s 12us/step - loss: 0.2370 - accuracy: 0.9340 - val_loss: 0.2685 - val_accuracy: 0.9286\n"
     ]
    }
   ],
   "source": [
    "#train the network\n",
    "history = model.fit(input_X_train, output_Y_train, batch_size=BATCH_SIZE, epochs=N_EPOCH, verbose=VERBOSE, validation_split=VALIDATION_SPLIT)\n",
    "\n"
   ]
  },
  {
   "cell_type": "markdown",
   "metadata": {
    "colab_type": "text",
    "id": "2MpCg_YTMP17"
   },
   "source": [
    "**Looking at the results of the trained network**\n",
    "\n",
    "Let's evaluate the model to see how well it has learned ( or not) the MNIST problem."
   ]
  },
  {
   "cell_type": "code",
   "execution_count": 23,
   "metadata": {
    "colab": {},
    "colab_type": "code",
    "id": "ZN9rro7KMP19"
   },
   "outputs": [
    {
     "name": "stdout",
     "output_type": "stream",
     "text": [
      "10000/10000 [==============================] - 0s 35us/step\n",
      "\n",
      "Test score/loss: 0.27114191164970397\n",
      "Test accuracy: 0.9254000186920166\n"
     ]
    }
   ],
   "source": [
    "#test the network using the generalisation test dataset\n",
    "score = model.evaluate(input_X_test, output_Y_test, verbose=VERBOSE)\n",
    "print(\"\\nTest score/loss:\", score[0])\n",
    "print(\"Test accuracy:\", score[1])\n"
   ]
  },
  {
   "cell_type": "markdown",
   "metadata": {
    "colab_type": "text",
    "id": "GZuRJvfwMP2K"
   },
   "source": [
    "Training the Multi-Layer Perceptron\n",
    "=========\n",
    "**Defining the network: Multi-Layer Perceptron**\n",
    "\n",
    "We will now create a multi-layer perceptron with 784 input units, two hidden layers with 128 hidden units each, and an output layer with the 10 units.\n",
    "\n"
   ]
  },
  {
   "cell_type": "code",
   "execution_count": 24,
   "metadata": {
    "colab": {},
    "colab_type": "code",
    "id": "HoF0ib-SMP2N"
   },
   "outputs": [
    {
     "name": "stdout",
     "output_type": "stream",
     "text": [
      "Model: \"sequential_5\"\n",
      "_________________________________________________________________\n",
      "Layer (type)                 Output Shape              Param #   \n",
      "=================================================================\n",
      "dense_9 (Dense)              (None, 128)               100480    \n",
      "_________________________________________________________________\n",
      "activation_9 (Activation)    (None, 128)               0         \n",
      "_________________________________________________________________\n",
      "dense_10 (Dense)             (None, 128)               16512     \n",
      "_________________________________________________________________\n",
      "activation_10 (Activation)   (None, 128)               0         \n",
      "_________________________________________________________________\n",
      "dense_11 (Dense)             (None, 10)                1290      \n",
      "_________________________________________________________________\n",
      "activation_11 (Activation)   (None, 10)                0         \n",
      "=================================================================\n",
      "Total params: 118,282\n",
      "Trainable params: 118,282\n",
      "Non-trainable params: 0\n",
      "_________________________________________________________________\n"
     ]
    }
   ],
   "source": [
    "N_EPOCH = 20 # we need fewer epoch than before, as the multi-layer percetpron can learn faster.\n",
    "N_HIDDEN = 128\n",
    "\n",
    "model = Sequential()\n",
    "\n",
    "# Hidden layer 1 with 128 hidden units and ReLu activation function\n",
    "model.add(Dense(N_HIDDEN, input_shape=(RESHAPED,)))\n",
    "model.add(Activation('relu'))\n",
    "# Hidden layer 2 with 128 hidden units and ReLu activation function\n",
    "model.add(Dense(N_HIDDEN))\n",
    "model.add(Activation('relu'))\n",
    "\n",
    "# output layer with 10 units and softmax activation\n",
    "model.add(Dense(N_CLASSES))\n",
    "model.add(Activation('softmax'))\n",
    "\n",
    "# Summary of the whole model\n",
    "model.summary()\n",
    "\n",
    "# model compilation\n",
    "model.compile(loss='categorical_crossentropy', optimizer=OPTIMIZER, metrics=['accuracy'])"
   ]
  },
  {
   "cell_type": "markdown",
   "metadata": {
    "colab_type": "text",
    "id": "OgYzi3hyMP2V"
   },
   "source": [
    "**Let's train the mulri-layer perceptron network**\n",
    "\n",
    "Let's now train (fit) the network with the above-defined batch size (128), and number of epochs (20)."
   ]
  },
  {
   "cell_type": "code",
   "execution_count": 25,
   "metadata": {
    "colab": {},
    "colab_type": "code",
    "id": "iNa3cmoaMP2X"
   },
   "outputs": [
    {
     "name": "stdout",
     "output_type": "stream",
     "text": [
      "Train on 48000 samples, validate on 12000 samples\n",
      "Epoch 1/20\n",
      "48000/48000 [==============================] - 1s 26us/step - loss: 0.4912 - accuracy: 0.8636 - val_loss: 0.2570 - val_accuracy: 0.9256\n",
      "Epoch 2/20\n",
      "48000/48000 [==============================] - 1s 24us/step - loss: 0.2401 - accuracy: 0.9295 - val_loss: 0.1966 - val_accuracy: 0.9434\n",
      "Epoch 3/20\n",
      "48000/48000 [==============================] - 1s 27us/step - loss: 0.1841 - accuracy: 0.9466 - val_loss: 0.1645 - val_accuracy: 0.9521\n",
      "Epoch 4/20\n",
      "48000/48000 [==============================] - 2s 32us/step - loss: 0.1504 - accuracy: 0.9559 - val_loss: 0.1382 - val_accuracy: 0.9620\n",
      "Epoch 5/20\n",
      "48000/48000 [==============================] - 1s 25us/step - loss: 0.1264 - accuracy: 0.9638 - val_loss: 0.1280 - val_accuracy: 0.9644\n",
      "Epoch 6/20\n",
      "48000/48000 [==============================] - 1s 24us/step - loss: 0.1088 - accuracy: 0.9689 - val_loss: 0.1205 - val_accuracy: 0.9664\n",
      "Epoch 7/20\n",
      "48000/48000 [==============================] - 1s 29us/step - loss: 0.0943 - accuracy: 0.9726 - val_loss: 0.1085 - val_accuracy: 0.9684\n",
      "Epoch 8/20\n",
      "48000/48000 [==============================] - 1s 26us/step - loss: 0.0843 - accuracy: 0.9759 - val_loss: 0.1150 - val_accuracy: 0.9670\n",
      "Epoch 9/20\n",
      "48000/48000 [==============================] - 1s 26us/step - loss: 0.0742 - accuracy: 0.9786 - val_loss: 0.1054 - val_accuracy: 0.9689\n",
      "Epoch 10/20\n",
      "48000/48000 [==============================] - 1s 27us/step - loss: 0.0679 - accuracy: 0.9806 - val_loss: 0.0982 - val_accuracy: 0.9710\n",
      "Epoch 11/20\n",
      "48000/48000 [==============================] - 2s 34us/step - loss: 0.0606 - accuracy: 0.9827 - val_loss: 0.0986 - val_accuracy: 0.9724\n",
      "Epoch 12/20\n",
      "48000/48000 [==============================] - 2s 37us/step - loss: 0.0548 - accuracy: 0.9846 - val_loss: 0.0897 - val_accuracy: 0.9734\n",
      "Epoch 13/20\n",
      "48000/48000 [==============================] - 2s 35us/step - loss: 0.0492 - accuracy: 0.9860 - val_loss: 0.0908 - val_accuracy: 0.9718\n",
      "Epoch 14/20\n",
      "48000/48000 [==============================] - 2s 38us/step - loss: 0.0444 - accuracy: 0.9871 - val_loss: 0.0863 - val_accuracy: 0.9755\n",
      "Epoch 15/20\n",
      "48000/48000 [==============================] - 1s 31us/step - loss: 0.0407 - accuracy: 0.9887 - val_loss: 0.0859 - val_accuracy: 0.974814 - accura\n",
      "Epoch 16/20\n",
      "48000/48000 [==============================] - 1s 26us/step - loss: 0.0371 - accuracy: 0.9900 - val_loss: 0.0854 - val_accuracy: 0.9753\n",
      "Epoch 17/20\n",
      "48000/48000 [==============================] - 1s 25us/step - loss: 0.0332 - accuracy: 0.9911 - val_loss: 0.0918 - val_accuracy: 0.9722\n",
      "Epoch 18/20\n",
      "48000/48000 [==============================] - 1s 25us/step - loss: 0.0295 - accuracy: 0.9926 - val_loss: 0.0891 - val_accuracy: 0.9748\n",
      "Epoch 19/20\n",
      "48000/48000 [==============================] - 1s 25us/step - loss: 0.0273 - accuracy: 0.9934 - val_loss: 0.0885 - val_accuracy: 0.9753\n",
      "Epoch 20/20\n",
      "48000/48000 [==============================] - 1s 25us/step - loss: 0.0246 - accuracy: 0.9940 - val_loss: 0.0863 - val_accuracy: 0.9761\n"
     ]
    }
   ],
   "source": [
    "#train the network\n",
    "history = model.fit(input_X_train, output_Y_train, batch_size=BATCH_SIZE, epochs=N_EPOCH, verbose=VERBOSE, validation_split=VALIDATION_SPLIT)\n"
   ]
  },
  {
   "cell_type": "markdown",
   "metadata": {
    "colab_type": "text",
    "id": "kV5v4LNjMP2e"
   },
   "source": [
    "**Looking at the results of the trained network**\n",
    "\n",
    "Let's explotre the results both for the score and accuracy values, as well as to visualise the plots of these values during the training."
   ]
  },
  {
   "cell_type": "code",
   "execution_count": 26,
   "metadata": {
    "colab": {},
    "colab_type": "code",
    "id": "CXpu8p9uMP2f"
   },
   "outputs": [
    {
     "name": "stdout",
     "output_type": "stream",
     "text": [
      "10000/10000 [==============================] - 0s 29us/step\n",
      "\n",
      "Test score/loss: 0.0750860998799093\n",
      "Test accuracy: 0.9768000245094299\n"
     ]
    }
   ],
   "source": [
    "#test the network\n",
    "score = model.evaluate(input_X_test, output_Y_test, verbose=VERBOSE)\n",
    "print(\"\\nTest score/loss:\", score[0])\n",
    "print(\"Test accuracy:\", score[1])"
   ]
  },
  {
   "cell_type": "code",
   "execution_count": 27,
   "metadata": {
    "colab": {},
    "colab_type": "code",
    "id": "yYRZkVf6MP2t"
   },
   "outputs": [
    {
     "name": "stdout",
     "output_type": "stream",
     "text": [
      "dict_keys(['val_loss', 'val_accuracy', 'loss', 'accuracy'])\n"
     ]
    },
    {
     "data": {
      "image/png": "[encoded data removed]",
      "text/plain": [
       "<Figure size 432x288 with 1 Axes>"
      ]
     },
     "metadata": {
      "needs_background": "light"
     },
     "output_type": "display_data"
    }
   ],
   "source": [
    "# list all data in history\n",
    "print(history.history.keys())\n",
    "# summarize history for accuracy\n",
    "plt.plot(history.history['accuracy'])\n",
    "plt.plot(history.history['val_accuracy'])\n",
    "plt.title('model accuracy')\n",
    "plt.ylabel('accuracy')\n",
    "plt.xlabel('epoch')\n",
    "plt.legend(['train', 'test'], loc='upper left')\n",
    "plt.show()\n"
   ]
  },
  {
   "cell_type": "code",
   "execution_count": 28,
   "metadata": {
    "colab": {},
    "colab_type": "code",
    "id": "MJ9YbKviMP2z"
   },
   "outputs": [
    {
     "data": {
      "image/png": "[encoded data removed]",
      "text/plain": [
       "<Figure size 432x288 with 1 Axes>"
      ]
     },
     "metadata": {
      "needs_background": "light"
     },
     "output_type": "display_data"
    }
   ],
   "source": [
    "# summarize history for loss\n",
    "plt.plot(history.history['loss'])\n",
    "plt.plot(history.history['val_loss'])\n",
    "plt.title('model loss')\n",
    "plt.ylabel('loss')\n",
    "plt.xlabel('epoch')\n",
    "plt.legend(['train', 'test'], loc='upper left')\n",
    "plt.show()"
   ]
  },
  {
   "cell_type": "markdown",
   "metadata": {
    "colab_type": "text",
    "id": "CV-aShF1MP24"
   },
   "source": [
    "**Adding weight droputs**\n",
    "\n",
    "An efficient way to reduce the number of parameters (weights) to be trained, as well as to increase generalisation capabilities, is to randomly remove (i.e. __dropout__) a certain proportion of the nodes at random in each epoch."
   ]
  },
  {
   "cell_type": "code",
   "execution_count": 29,
   "metadata": {
    "colab": {},
    "colab_type": "code",
    "id": "4GNrMiVoMP25"
   },
   "outputs": [
    {
     "name": "stdout",
     "output_type": "stream",
     "text": [
      "Model: \"sequential_6\"\n",
      "_________________________________________________________________\n",
      "Layer (type)                 Output Shape              Param #   \n",
      "=================================================================\n",
      "dense_12 (Dense)             (None, 128)               100480    \n",
      "_________________________________________________________________\n",
      "activation_12 (Activation)   (None, 128)               0         \n",
      "_________________________________________________________________\n",
      "dropout_3 (Dropout)          (None, 128)               0         \n",
      "_________________________________________________________________\n",
      "dense_13 (Dense)             (None, 128)               16512     \n",
      "_________________________________________________________________\n",
      "activation_13 (Activation)   (None, 128)               0         \n",
      "_________________________________________________________________\n",
      "dropout_4 (Dropout)          (None, 128)               0         \n",
      "_________________________________________________________________\n",
      "dense_14 (Dense)             (None, 10)                1290      \n",
      "_________________________________________________________________\n",
      "activation_14 (Activation)   (None, 10)                0         \n",
      "=================================================================\n",
      "Total params: 118,282\n",
      "Trainable params: 118,282\n",
      "Non-trainable params: 0\n",
      "_________________________________________________________________\n"
     ]
    }
   ],
   "source": [
    "# import the dropout layer type\n",
    "from keras.layers.core import Dropout\n",
    "\n",
    "# Probability of weights dropout\n",
    "P_DROPOUT = 0.3\n",
    "\n",
    "# We can increse this parameter afterwards\n",
    "N_EPOCH = 20\n",
    "\n",
    "model = Sequential()\n",
    "model.add(Dense(N_HIDDEN, input_shape=(RESHAPED,)))\n",
    "model.add(Activation('relu'))\n",
    "model.add(Dropout(P_DROPOUT))\n",
    "model.add(Dense(N_HIDDEN))\n",
    "model.add(Activation('relu'))\n",
    "model.add(Dropout(P_DROPOUT))\n",
    "model.add(Dense(N_CLASSES))\n",
    "model.add(Activation('softmax'))\n",
    "\n",
    "# model compilation\n",
    "model.summary()\n",
    "\n",
    "# model compilation\n",
    "model.compile(loss='categorical_crossentropy', optimizer=OPTIMIZER, metrics=['accuracy'])\n"
   ]
  },
  {
   "cell_type": "markdown",
   "metadata": {
    "colab_type": "text",
    "id": "NBJJWwueMP2-"
   },
   "source": [
    "**Let's train the multi-layer perceptron network with DROPOUT**\n",
    "\n",
    "Let's now train (fit) the above dropout network with the above-defined batch size (128), and number of epochs (250)."
   ]
  },
  {
   "cell_type": "code",
   "execution_count": 30,
   "metadata": {
    "colab": {},
    "colab_type": "code",
    "id": "Xqa-9UHxMP3A"
   },
   "outputs": [
    {
     "name": "stdout",
     "output_type": "stream",
     "text": [
      "Train on 48000 samples, validate on 12000 samples\n",
      "Epoch 1/20\n",
      "48000/48000 [==============================] - 2s 33us/step - loss: 0.6713 - accuracy: 0.7961 - val_loss: 0.2639 - val_accuracy: 0.9241\n",
      "Epoch 2/20\n",
      "48000/48000 [==============================] - 2s 41us/step - loss: 0.3363 - accuracy: 0.9002 - val_loss: 0.1957 - val_accuracy: 0.9413\n",
      "Epoch 3/20\n",
      "48000/48000 [==============================] - 1s 29us/step - loss: 0.2712 - accuracy: 0.9198 - val_loss: 0.1684 - val_accuracy: 0.9511\n",
      "Epoch 4/20\n",
      "48000/48000 [==============================] - 2s 34us/step - loss: 0.2315 - accuracy: 0.9316 - val_loss: 0.1466 - val_accuracy: 0.9565\n",
      "Epoch 5/20\n",
      "48000/48000 [==============================] - 2s 41us/step - loss: 0.2045 - accuracy: 0.9401 - val_loss: 0.1299 - val_accuracy: 0.9622\n",
      "Epoch 6/20\n",
      "48000/48000 [==============================] - 1s 28us/step - loss: 0.1837 - accuracy: 0.9456 - val_loss: 0.1236 - val_accuracy: 0.9642\n",
      "Epoch 7/20\n",
      "48000/48000 [==============================] - 1s 27us/step - loss: 0.1678 - accuracy: 0.9496 - val_loss: 0.1109 - val_accuracy: 0.9678\n",
      "Epoch 8/20\n",
      "48000/48000 [==============================] - 1s 28us/step - loss: 0.1550 - accuracy: 0.9538 - val_loss: 0.1061 - val_accuracy: 0.9693\n",
      "Epoch 9/20\n",
      "48000/48000 [==============================] - 2s 36us/step - loss: 0.1478 - accuracy: 0.9557 - val_loss: 0.1048 - val_accuracy: 0.9703\n",
      "Epoch 10/20\n",
      "48000/48000 [==============================] - 2s 39us/step - loss: 0.1396 - accuracy: 0.9582 - val_loss: 0.0970 - val_accuracy: 0.9724\n",
      "Epoch 11/20\n",
      "48000/48000 [==============================] - 2s 33us/step - loss: 0.1308 - accuracy: 0.9606 - val_loss: 0.0948 - val_accuracy: 0.9718\n",
      "Epoch 12/20\n",
      "48000/48000 [==============================] - 2s 37us/step - loss: 0.1268 - accuracy: 0.9609 - val_loss: 0.0918 - val_accuracy: 0.9733\n",
      "Epoch 13/20\n",
      "48000/48000 [==============================] - 2s 40us/step - loss: 0.1178 - accuracy: 0.9642 - val_loss: 0.0966 - val_accuracy: 0.9731\n",
      "Epoch 14/20\n",
      "48000/48000 [==============================] - 2s 45us/step - loss: 0.1142 - accuracy: 0.9655 - val_loss: 0.0863 - val_accuracy: 0.9749\n",
      "Epoch 15/20\n",
      "48000/48000 [==============================] - 2s 41us/step - loss: 0.1124 - accuracy: 0.9660 - val_loss: 0.0858 - val_accuracy: 0.9739\n",
      "Epoch 16/20\n",
      "48000/48000 [==============================] - 2s 33us/step - loss: 0.1062 - accuracy: 0.9677 - val_loss: 0.0835 - val_accuracy: 0.9756\n",
      "Epoch 17/20\n",
      "48000/48000 [==============================] - 2s 34us/step - loss: 0.1017 - accuracy: 0.9699 - val_loss: 0.0835 - val_accuracy: 0.9767\n",
      "Epoch 18/20\n",
      "48000/48000 [==============================] - 2s 37us/step - loss: 0.0990 - accuracy: 0.9693 - val_loss: 0.0821 - val_accuracy: 0.9763\n",
      "Epoch 19/20\n",
      "48000/48000 [==============================] - 2s 42us/step - loss: 0.0955 - accuracy: 0.9707 - val_loss: 0.0809 - val_accuracy: 0.9762\n",
      "Epoch 20/20\n",
      "48000/48000 [==============================] - 3s 67us/step - loss: 0.0932 - accuracy: 0.9702 - val_loss: 0.0825 - val_accuracy: 0.9759\n"
     ]
    }
   ],
   "source": [
    "#train the network\n",
    "history = model.fit(input_X_train, output_Y_train, batch_size=BATCH_SIZE, epochs=N_EPOCH, verbose=VERBOSE, validation_split=VALIDATION_SPLIT)\n"
   ]
  },
  {
   "cell_type": "markdown",
   "metadata": {
    "colab_type": "text",
    "id": "x-z1NP88MP3I"
   },
   "source": [
    "**Looking at the results of the trained dropout network**\n",
    "\n",
    "Let's explore the effects of adding the weight dropout on the network performance.\n",
    "\n",
    "You can see that the dropout has further improved our results."
   ]
  },
  {
   "cell_type": "code",
   "execution_count": 31,
   "metadata": {
    "colab": {},
    "colab_type": "code",
    "id": "K8qIacDmMP3N"
   },
   "outputs": [
    {
     "name": "stdout",
     "output_type": "stream",
     "text": [
      "10000/10000 [==============================] - 0s 31us/step\n",
      "\n",
      "Test score: 0.08064564523221925\n",
      "Test accuracy: 0.9754999876022339\n",
      "dict_keys(['val_loss', 'val_accuracy', 'loss', 'accuracy'])\n"
     ]
    },
    {
     "data": {
      "image/png": "[encoded data removed]",
      "text/plain": [
       "<Figure size 432x288 with 1 Axes>"
      ]
     },
     "metadata": {
      "needs_background": "light"
     },
     "output_type": "display_data"
    }
   ],
   "source": [
    "#test the network\n",
    "score = model.evaluate(input_X_test, output_Y_test, verbose=VERBOSE)\n",
    "print(\"\\nTest score:\", score[0])\n",
    "print(\"Test accuracy:\", score[1])\n",
    "\n",
    "# list all data in history\n",
    "print(history.history.keys())\n",
    "\n",
    "# summarize history for accuracy\n",
    "plt.plot(history.history['accuracy'])\n",
    "plt.plot(history.history['val_accuracy'])\n",
    "plt.title('model accuracy')\n",
    "plt.ylabel('accuracy')\n",
    "plt.xlabel('epoch')\n",
    "plt.legend(['train', 'test'], loc='upper left')\n",
    "plt.show()"
   ]
  },
  {
   "cell_type": "markdown",
   "metadata": {
    "colab_type": "text",
    "id": "8IUIcenlMP3S"
   },
   "source": [
    "Exploring Training Hyperparameters\n",
    "-------------\n",
    "\n",
    "You can explore the role of various hyperparameters to see how you can further improve the MLP model's performance on the MNIST dataset. \n",
    "\n",
    "For example, if you increase the number of epochs for the dropout network to 250, you will see that the test and train accuracy errors will converge (accuracy closer to 97% for both training and test), which means that we have achieved the best tradeoff between training and testing.\n",
    "\n",
    "You can carry out many additional simulations on hypeparameter exploration where you can try for example:\n",
    "\n",
    "- different number of epochs\n",
    "- different learning rate\n",
    "- different number of hidden nodes \n",
    "- different proportion of dropout rates \n",
    "- different optimisers in addition to SGD (e.g. RMSprop, Adam) \n",
    "- different batch size \n",
    "\n",
    "This final exercise will constitute the first neural network coursework. See Coursework specification documenty for more details.\n"
   ]
  },
  {
   "cell_type": "markdown",
   "metadata": {
    "colab_type": "text",
    "id": "uPKj5NAdMP3T"
   },
   "source": [
    "Conclusions\n",
    "-------------\n",
    "\n",
    "With this tutorial we have practiced the training of both a Simple Perceptron, and a Multi-Layer Perceptron, with a benchmark dataset containing images of handwritten numbers.\n",
    "This helped us understand how to load the datase, visualise it, and visualise the training history and the effects of adding hidden layers and then adding weight dropout.\n",
    "\n",
    "**Copyright (c)** 2019 Angelo Cangelosi, MIT License. Code and examples adapted from Gulli & Pal (2017) Deep Learning with Keras. Punkt Publishing"
   ]
  },
  {
   "cell_type": "code",
   "execution_count": 0,
   "metadata": {
    "colab": {},
    "colab_type": "code",
    "id": "L879MYIcMP3V"
   },
   "outputs": [],
   "source": []
  }
 ],
 "metadata": {
  "colab": {
   "collapsed_sections": [],
   "name": "Lab5b_Keras_MLP_MNIST.ipynb",
   "provenance": []
  },
  "kernelspec": {
   "display_name": "Python 3",
   "language": "python",
   "name": "python3"
  },
  "language_info": {
   "codemirror_mode": {
    "name": "ipython",
    "version": 3
   },
   "file_extension": ".py",
   "mimetype": "text/x-python",
   "name": "python",
   "nbconvert_exporter": "python",
   "pygments_lexer": "ipython3",
   "version": "3.7.4"
  }
 },
 "nbformat": 4,
 "nbformat_minor": 1
}

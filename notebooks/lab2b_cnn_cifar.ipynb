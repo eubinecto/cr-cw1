{
  "nbformat": 4,
  "nbformat_minor": 0,
  "metadata": {
    "accelerator": "GPU",
    "colab": {
      "name": "Lab6b_Keras_CNN_CIFAR_new2.ipynb",
      "provenance": [],
      "collapsed_sections": []
    },
    "kernelspec": {
      "display_name": "Python 3",
      "language": "python",
      "name": "python3"
    },
    "language_info": {
      "codemirror_mode": {
        "name": "ipython",
        "version": 3
      },
      "file_extension": ".py",
      "mimetype": "text/x-python",
      "name": "python",
      "nbconvert_exporter": "python",
      "pygments_lexer": "ipython3",
      "version": "3.7.4"
    }
  },
  "cells": [
    {
      "cell_type": "markdown",
      "metadata": {
        "colab_type": "text",
        "id": "m_SLMzgGIpjE"
      },
      "source": [
        "Advanced Convolutional Neural Networks (CNNs) with CIFAR-10 dataset\n",
        "=========\n",
        "\n",
        "In this tutorial we will learn how to use more complex CNNs, showing that the training of a __deeper__ CNN can improve the performance of the model. We will also explore the concept of __data augmentation__ to understand how to increase the variability of the training set by, for example, rotating the original images to generate new training stimuli.\n",
        "\n",
        "This tutorail will use the CIFAR-10 training set.\n"
      ]
    },
    {
      "cell_type": "markdown",
      "metadata": {
        "colab_type": "text",
        "id": "PKafL_SXIpjI"
      },
      "source": [
        "**CNN for CIFAR-10**\n",
        "\n",
        "To work with more complex CNNs, we will now use a more complex training dataset called __CIFAR-10__. https://www.cs.toronto.edu/~kriz/cifar.html . CIFAR-10 is a benchamark machine learning set of low-resolution, colour images. It includes 60000 32x32 colour (using 3 RGB colour channels) images in these 10 classes of objects: airplane, automobile, bird, cat, deer, dog, frog, horse, ship, truck. Each class has 6000. There are 50000 training images and 10000 test images. This dataset is enclosed in the default Anaconda KERAS package. \n"
      ]
    },
    {
      "cell_type": "markdown",
      "metadata": {
        "colab_type": "text",
        "id": "XSw16YYkIpjK"
      },
      "source": [
        "**Initialisation of the program**\n",
        "\n",
        "The program starts with the importing of typical Keras and other Python service modules. "
      ]
    },
    {
      "cell_type": "code",
      "metadata": {
        "colab_type": "code",
        "id": "ivhGtDs0TI78",
        "outputId": "f607015e-711a-4c83-a5a7-a318bd38ce5c",
        "colab": {
          "base_uri": "https://localhost:8080/",
          "height": 102
        }
      },
      "source": [
        "# Run this cell ONLY if using Google Colab\n",
        "\n",
        "%tensorflow_version 1.13  # use previous version"
      ],
      "execution_count": 1,
      "outputs": [
        {
          "output_type": "stream",
          "text": [
            "`%tensorflow_version` only switches the major version: `1.x` or `2.x`.\n",
            "You set: `1.13  # use previous version`. This will be interpreted as: `1.x`.\n",
            "\n",
            "\n",
            "TensorFlow 1.x selected.\n"
          ],
          "name": "stdout"
        }
      ]
    },
    {
      "cell_type": "code",
      "metadata": {
        "colab_type": "code",
        "id": "x595vK3pIpjN",
        "outputId": "97377c44-cd0f-4028-c541-c04eb52c23ce",
        "colab": {
          "base_uri": "https://localhost:8080/",
          "height": 51
        }
      },
      "source": [
        "# importing of modules for CIFAR-10 CNN \n",
        "from keras.datasets import cifar10\n",
        "from keras.utils import np_utils\n",
        "from keras.models import Sequential\n",
        "from keras.layers.core import Dense, Dropout, Activation, Flatten\n",
        "from keras.layers.convolutional import Conv2D, MaxPooling2D\n",
        "from keras.optimizers import SGD, Adam, RMSprop\n",
        "\n",
        "# importing of service libraries\n",
        "import numpy as np\n",
        "import matplotlib.pyplot as plt\n",
        "\n",
        "print('Libraries imported.')"
      ],
      "execution_count": 2,
      "outputs": [
        {
          "output_type": "stream",
          "text": [
            "Using TensorFlow backend.\n"
          ],
          "name": "stderr"
        },
        {
          "output_type": "stream",
          "text": [
            "Libraries imported.\n"
          ],
          "name": "stdout"
        }
      ]
    },
    {
      "cell_type": "markdown",
      "metadata": {
        "colab_type": "text",
        "id": "Wx5--x5hIpjV"
      },
      "source": [
        "The following constant and variable definitions are needed for the network and training parameters.\n"
      ]
    },
    {
      "cell_type": "code",
      "metadata": {
        "colab_type": "code",
        "id": "O1SvoRcMIpjX",
        "outputId": "de989a0e-f0e9-4878-e65f-6d8900bfb9bb",
        "colab": {
          "base_uri": "https://localhost:8080/",
          "height": 34
        }
      },
      "source": [
        "#training constants\n",
        "BATCH_SIZE = 128\n",
        "N_EPOCH = 20 # use 20 for best initial results\n",
        "N_CLASSES = 10\n",
        "VERBOSE = 1\n",
        "VALIDATION_SPLIT = 0.2\n",
        "OPTIM = RMSprop()\n",
        "\n",
        "print('Main variables initialised.')"
      ],
      "execution_count": 3,
      "outputs": [
        {
          "output_type": "stream",
          "text": [
            "Main variables initialised.\n"
          ],
          "name": "stdout"
        }
      ]
    },
    {
      "cell_type": "markdown",
      "metadata": {
        "colab_type": "text",
        "id": "KpuekS__Ipjd"
      },
      "source": [
        "Constant definition for the training set images"
      ]
    },
    {
      "cell_type": "code",
      "metadata": {
        "colab_type": "code",
        "id": "DWaibn5BIpje",
        "outputId": "0c43ebf8-f546-4959-f78c-72b02c96ee7b",
        "colab": {
          "base_uri": "https://localhost:8080/",
          "height": 34
        }
      },
      "source": [
        "# CIFAR_10 is a set of 60K images 32x32 pixels on 3 channels\n",
        "IMG_CHANNELS = 3\n",
        "IMG_ROWS = 32\n",
        "IMG_COLS = 32\n",
        "\n",
        "print('Image variables initialisation')"
      ],
      "execution_count": 4,
      "outputs": [
        {
          "output_type": "stream",
          "text": [
            "Image variables initialisation\n"
          ],
          "name": "stdout"
        }
      ]
    },
    {
      "cell_type": "markdown",
      "metadata": {
        "colab_type": "text",
        "id": "QcOhLgJ8Ipjk"
      },
      "source": [
        "__CIFAR-10 data loading and processing__\n",
        "\n",
        "Loading and preparation of the CIFAR-10 training set."
      ]
    },
    {
      "cell_type": "code",
      "metadata": {
        "colab_type": "code",
        "id": "uVzGwn80Ipjm",
        "outputId": "ac568c41-f9ae-4ccc-ff8c-a35bc2edf506",
        "colab": {
          "base_uri": "https://localhost:8080/",
          "height": 102
        }
      },
      "source": [
        "#load dataset\n",
        "(input_X_train, output_y_train), (input_X_test, output_y_test) = cifar10.load_data()\n",
        "print('input_X_train shape:', input_X_train.shape)\n",
        "print(input_X_train.shape[0], 'train samples')\n",
        "print(input_X_test.shape[0], 'test samples')\n",
        " \n",
        "# convert to categorical\n",
        "output_Y_train = np_utils.to_categorical(output_y_train, N_CLASSES)\n",
        "output_Y_test = np_utils.to_categorical(output_y_test, N_CLASSES) \n",
        "\n",
        "# float and normalization\n",
        "input_X_train = input_X_train.astype('float32')\n",
        "input_X_test = input_X_test.astype('float32')\n",
        "input_X_train /= 255\n",
        "input_X_test /= 255\n"
      ],
      "execution_count": 5,
      "outputs": [
        {
          "output_type": "stream",
          "text": [
            "Downloading data from https://www.cs.toronto.edu/~kriz/cifar-10-python.tar.gz\n",
            "170500096/170498071 [==============================] - 6s 0us/step\n",
            "input_X_train shape: (50000, 32, 32, 3)\n",
            "50000 train samples\n",
            "10000 test samples\n"
          ],
          "name": "stdout"
        }
      ]
    },
    {
      "cell_type": "markdown",
      "metadata": {
        "colab_type": "text",
        "id": "f6_L0SrmIpjr"
      },
      "source": [
        "**Visualisation of two sample CIFAR-10 images**\n",
        "\n",
        "Here we will visualise two sample images from the dataset."
      ]
    },
    {
      "cell_type": "code",
      "metadata": {
        "colab_type": "code",
        "id": "U2gu1BhgIpjs",
        "outputId": "c0001e08-b926-4ce2-c3ee-3d50d45cea62",
        "colab": {
          "base_uri": "https://localhost:8080/",
          "height": 1000
        }
      },
      "source": [
        "# visualisation of the numerical vector and 2D colour plot of the sample CIFAR imnage 2\n",
        "Selected_Image = 2\n",
        "image = input_X_train[Selected_Image]\n",
        "print (\"Sample input image: \" + str(image))\n",
        "plt.imshow(image)\n",
        "plt.show() \n",
        "\n",
        "Selected_Image = 3\n",
        "image = input_X_train[Selected_Image]\n",
        "print (\"Sample input image: \" + str(image))\n",
        "plt.imshow(image)\n",
        "plt.show() \n",
        "\n",
        "\n",
        "\n"
      ],
      "execution_count": 6,
      "outputs": [
        {
          "output_type": "stream",
          "text": [
            "Sample input image: [[[1.         1.         1.        ]\n",
            "  [0.99215686 0.99215686 0.99215686]\n",
            "  [0.99215686 0.99215686 0.99215686]\n",
            "  ...\n",
            "  [0.99215686 0.99215686 0.99215686]\n",
            "  [0.99215686 0.99215686 0.99215686]\n",
            "  [0.99215686 0.99215686 0.99215686]]\n",
            "\n",
            " [[1.         1.         1.        ]\n",
            "  [1.         1.         1.        ]\n",
            "  [1.         1.         1.        ]\n",
            "  ...\n",
            "  [1.         1.         1.        ]\n",
            "  [1.         1.         1.        ]\n",
            "  [1.         1.         1.        ]]\n",
            "\n",
            " [[1.         1.         1.        ]\n",
            "  [0.99607843 0.99607843 0.99607843]\n",
            "  [0.99607843 0.99607843 0.99607843]\n",
            "  ...\n",
            "  [0.99607843 0.99607843 0.99607843]\n",
            "  [0.99607843 0.99607843 0.99607843]\n",
            "  [0.99607843 0.99607843 0.99607843]]\n",
            "\n",
            " ...\n",
            "\n",
            " [[0.44313726 0.47058824 0.4392157 ]\n",
            "  [0.43529412 0.4627451  0.43529412]\n",
            "  [0.4117647  0.4392157  0.41568628]\n",
            "  ...\n",
            "  [0.28235295 0.31764707 0.3137255 ]\n",
            "  [0.28235295 0.3137255  0.30980393]\n",
            "  [0.28235295 0.3137255  0.30980393]]\n",
            "\n",
            " [[0.43529412 0.4627451  0.43137255]\n",
            "  [0.40784314 0.43529412 0.40784314]\n",
            "  [0.3882353  0.41568628 0.38431373]\n",
            "  ...\n",
            "  [0.26666668 0.29411766 0.28627452]\n",
            "  [0.27450982 0.29803923 0.29411766]\n",
            "  [0.30588236 0.32941177 0.32156864]]\n",
            "\n",
            " [[0.41568628 0.44313726 0.4117647 ]\n",
            "  [0.3882353  0.41568628 0.38431373]\n",
            "  [0.37254903 0.4        0.36862746]\n",
            "  ...\n",
            "  [0.30588236 0.33333334 0.3254902 ]\n",
            "  [0.30980393 0.33333334 0.3254902 ]\n",
            "  [0.3137255  0.3372549  0.32941177]]]\n"
          ],
          "name": "stdout"
        },
        {
          "output_type": "display_data",
          "data": {
            "image/png": "[encoded data removed]",
            "text/plain": [
              "<Figure size 432x288 with 1 Axes>"
            ]
          },
          "metadata": {
            "tags": []
          }
        },
        {
          "output_type": "stream",
          "text": [
            "Sample input image: [[[0.10980392 0.09803922 0.03921569]\n",
            "  [0.14509805 0.13333334 0.07450981]\n",
            "  [0.14901961 0.13725491 0.07843138]\n",
            "  ...\n",
            "  [0.29803923 0.2627451  0.15294118]\n",
            "  [0.31764707 0.28235295 0.16862746]\n",
            "  [0.33333334 0.29803923 0.18431373]]\n",
            "\n",
            " [[0.12941177 0.10980392 0.05098039]\n",
            "  [0.13333334 0.11764706 0.05490196]\n",
            "  [0.1254902  0.10588235 0.04705882]\n",
            "  ...\n",
            "  [0.37254903 0.32156864 0.21568628]\n",
            "  [0.3764706  0.32156864 0.21960784]\n",
            "  [0.33333334 0.28235295 0.1764706 ]]\n",
            "\n",
            " [[0.15294118 0.1254902  0.05882353]\n",
            "  [0.15686275 0.12941177 0.06666667]\n",
            "  [0.22352941 0.19607843 0.12941177]\n",
            "  ...\n",
            "  [0.3647059  0.29803923 0.20392157]\n",
            "  [0.41960785 0.34901962 0.25882354]\n",
            "  [0.37254903 0.3019608  0.21176471]]\n",
            "\n",
            " ...\n",
            "\n",
            " [[0.3254902  0.28627452 0.20392157]\n",
            "  [0.34117648 0.3019608  0.21960784]\n",
            "  [0.32941177 0.2901961  0.20392157]\n",
            "  ...\n",
            "  [0.3882353  0.3647059  0.27450982]\n",
            "  [0.3529412  0.32941177 0.23921569]\n",
            "  [0.31764707 0.29411766 0.20392157]]\n",
            "\n",
            " [[0.34509805 0.28235295 0.2       ]\n",
            "  [0.3529412  0.2901961  0.20392157]\n",
            "  [0.3647059  0.3019608  0.21960784]\n",
            "  ...\n",
            "  [0.3137255  0.2901961  0.20784314]\n",
            "  [0.29803923 0.27450982 0.19215687]\n",
            "  [0.32156864 0.29803923 0.21568628]]\n",
            "\n",
            " [[0.38039216 0.30588236 0.21960784]\n",
            "  [0.36862746 0.29411766 0.20784314]\n",
            "  [0.3647059  0.29411766 0.20784314]\n",
            "  ...\n",
            "  [0.21176471 0.18431373 0.10980392]\n",
            "  [0.24705882 0.21960784 0.14509805]\n",
            "  [0.28235295 0.25490198 0.18039216]]]\n"
          ],
          "name": "stdout"
        },
        {
          "output_type": "display_data",
          "data": {
            "image/png": "[encoded data removed]",
            "text/plain": [
              "<Figure size 432x288 with 1 Axes>"
            ]
          },
          "metadata": {
            "tags": []
          }
        }
      ]
    },
    {
      "cell_type": "markdown",
      "metadata": {
        "colab_type": "text",
        "id": "rTUkz65eIpjx"
      },
      "source": [
        "**Simple CNN model definition**\n",
        "\n",
        "This code defines a simple CNN network.\n",
        "The model will learn 32 convolutional filters, each of a 3 x 3 size. The output dimension is the same one of the input shape, with a 32 x 32 filters (default stride of 1 is used). The activation function ReLU will be used. \n",
        "The network then has a max-pooling layer with pool size 2 x 2, and a dropout at 25%.\n",
        "\n",
        "The next level of depth has a dense layer with 512 units and ReLU activation, followed by a dropout at 50%.\n",
        "Finally, a softmax layer is used with 10 units/classes as output, i.e. one for each of the 10 classes of objects encoded with one-hot coding."
      ]
    },
    {
      "cell_type": "code",
      "metadata": {
        "colab_type": "code",
        "id": "ZAWZ0UKzIpjz",
        "outputId": "3a1a9016-67ee-449a-dd89-d712ad2ed07c",
        "colab": {
          "base_uri": "https://localhost:8080/",
          "height": 275
        }
      },
      "source": [
        "# network definition\n",
        "\n",
        "model = Sequential()\n",
        "model.add(Conv2D(32, (3, 3), padding='same', input_shape=(IMG_ROWS, IMG_COLS, IMG_CHANNELS)))\n",
        "model.add(Activation('relu'))\n",
        "model.add(MaxPooling2D(pool_size=(2, 2)))\n",
        "model.add(Dropout(0.25))\n",
        "  \n",
        "model.add(Flatten())\n",
        "model.add(Dense(512))\n",
        "model.add(Activation('relu'))\n",
        "model.add(Dropout(0.5))\n",
        "\n",
        "model.add(Dense(N_CLASSES))\n",
        "model.add(Activation('softmax'))\n",
        "\n",
        "print('CNN network definition.')"
      ],
      "execution_count": 7,
      "outputs": [
        {
          "output_type": "stream",
          "text": [
            "WARNING:tensorflow:From /usr/local/lib/python3.6/dist-packages/keras/backend/tensorflow_backend.py:66: The name tf.get_default_graph is deprecated. Please use tf.compat.v1.get_default_graph instead.\n",
            "\n",
            "WARNING:tensorflow:From /usr/local/lib/python3.6/dist-packages/keras/backend/tensorflow_backend.py:541: The name tf.placeholder is deprecated. Please use tf.compat.v1.placeholder instead.\n",
            "\n",
            "WARNING:tensorflow:From /usr/local/lib/python3.6/dist-packages/keras/backend/tensorflow_backend.py:4432: The name tf.random_uniform is deprecated. Please use tf.random.uniform instead.\n",
            "\n",
            "WARNING:tensorflow:From /usr/local/lib/python3.6/dist-packages/keras/backend/tensorflow_backend.py:4267: The name tf.nn.max_pool is deprecated. Please use tf.nn.max_pool2d instead.\n",
            "\n",
            "WARNING:tensorflow:From /usr/local/lib/python3.6/dist-packages/keras/backend/tensorflow_backend.py:148: The name tf.placeholder_with_default is deprecated. Please use tf.compat.v1.placeholder_with_default instead.\n",
            "\n",
            "WARNING:tensorflow:From /usr/local/lib/python3.6/dist-packages/keras/backend/tensorflow_backend.py:3733: calling dropout (from tensorflow.python.ops.nn_ops) with keep_prob is deprecated and will be removed in a future version.\n",
            "Instructions for updating:\n",
            "Please use `rate` instead of `keep_prob`. Rate should be set to `rate = 1 - keep_prob`.\n",
            "CNN network definition.\n"
          ],
          "name": "stdout"
        }
      ]
    },
    {
      "cell_type": "markdown",
      "metadata": {
        "colab_type": "text",
        "id": "M8B4dEyVIpj2"
      },
      "source": [
        "**CNN compilation**\n",
        "\n",
        "This compiles the CNN model, and then shows its summary. \n"
      ]
    },
    {
      "cell_type": "code",
      "metadata": {
        "colab_type": "code",
        "id": "rLrhT0HSIpj4",
        "outputId": "96a5d99a-d736-40bb-cbb2-9f4e0bab1454",
        "scrolled": true,
        "colab": {
          "base_uri": "https://localhost:8080/",
          "height": 581
        }
      },
      "source": [
        "# compile the model\n",
        "model.compile(loss='categorical_crossentropy', optimizer=OPTIM, metrics=['accuracy'])\n",
        "\n",
        "model.summary()\n"
      ],
      "execution_count": 8,
      "outputs": [
        {
          "output_type": "stream",
          "text": [
            "WARNING:tensorflow:From /usr/local/lib/python3.6/dist-packages/keras/optimizers.py:793: The name tf.train.Optimizer is deprecated. Please use tf.compat.v1.train.Optimizer instead.\n",
            "\n",
            "WARNING:tensorflow:From /usr/local/lib/python3.6/dist-packages/keras/backend/tensorflow_backend.py:3576: The name tf.log is deprecated. Please use tf.math.log instead.\n",
            "\n",
            "CNN: \"sequential_1\"\n",
            "_________________________________________________________________\n",
            "Layer (type)                 Output Shape              Param #   \n",
            "=================================================================\n",
            "conv2d_1 (Conv2D)            (None, 32, 32, 32)        896       \n",
            "_________________________________________________________________\n",
            "activation_1 (Activation)    (None, 32, 32, 32)        0         \n",
            "_________________________________________________________________\n",
            "max_pooling2d_1 (MaxPooling2 (None, 16, 16, 32)        0         \n",
            "_________________________________________________________________\n",
            "dropout_1 (Dropout)          (None, 16, 16, 32)        0         \n",
            "_________________________________________________________________\n",
            "flatten_1 (Flatten)          (None, 8192)              0         \n",
            "_________________________________________________________________\n",
            "dense_1 (Dense)              (None, 512)               4194816   \n",
            "_________________________________________________________________\n",
            "activation_2 (Activation)    (None, 512)               0         \n",
            "_________________________________________________________________\n",
            "dropout_2 (Dropout)          (None, 512)               0         \n",
            "_________________________________________________________________\n",
            "dense_2 (Dense)              (None, 10)                5130      \n",
            "_________________________________________________________________\n",
            "activation_3 (Activation)    (None, 10)                0         \n",
            "=================================================================\n",
            "Total params: 4,200,842\n",
            "Trainable params: 4,200,842\n",
            "Non-trainable params: 0\n",
            "_________________________________________________________________\n"
          ],
          "name": "stdout"
        }
      ]
    },
    {
      "cell_type": "markdown",
      "metadata": {
        "colab_type": "text",
        "id": "rAJPemJyIpj9"
      },
      "source": [
        "**Training of the CNN**\n",
        "\n",
        "This line of code trains the model, saving the results in the history variable.\n",
        "\n"
      ]
    },
    {
      "cell_type": "code",
      "metadata": {
        "colab_type": "code",
        "id": "s9K5fqdXIpj-",
        "outputId": "1263f5d4-c480-4876-cf10-0033e634c7ca",
        "colab": {
          "base_uri": "https://localhost:8080/",
          "height": 1000
        }
      },
      "source": [
        "# training/fitting of the DNN model\n",
        "\n",
        "history = model.fit(input_X_train, output_Y_train, batch_size=BATCH_SIZE, epochs=N_EPOCH, validation_split=VALIDATION_SPLIT,  verbose=VERBOSE)\n"
      ],
      "execution_count": 9,
      "outputs": [
        {
          "output_type": "stream",
          "text": [
            "WARNING:tensorflow:From /usr/local/lib/python3.6/dist-packages/tensorflow_core/python/ops/math_grad.py:1424: where (from tensorflow.python.ops.array_ops) is deprecated and will be removed in a future version.\n",
            "Instructions for updating:\n",
            "Use tf.where in 2.0, which has the same broadcast rule as np.where\n",
            "WARNING:tensorflow:From /usr/local/lib/python3.6/dist-packages/keras/backend/tensorflow_backend.py:1033: The name tf.assign_add is deprecated. Please use tf.compat.v1.assign_add instead.\n",
            "\n",
            "WARNING:tensorflow:From /usr/local/lib/python3.6/dist-packages/keras/backend/tensorflow_backend.py:1020: The name tf.assign is deprecated. Please use tf.compat.v1.assign instead.\n",
            "\n",
            "WARNING:tensorflow:From /usr/local/lib/python3.6/dist-packages/keras/backend/tensorflow_backend.py:3005: The name tf.Session is deprecated. Please use tf.compat.v1.Session instead.\n",
            "\n",
            "Train on 40000 samples, validate on 10000 samples\n",
            "Epoch 1/20\n",
            "WARNING:tensorflow:From /usr/local/lib/python3.6/dist-packages/keras/backend/tensorflow_backend.py:190: The name tf.get_default_session is deprecated. Please use tf.compat.v1.get_default_session instead.\n",
            "\n",
            "WARNING:tensorflow:From /usr/local/lib/python3.6/dist-packages/keras/backend/tensorflow_backend.py:197: The name tf.ConfigProto is deprecated. Please use tf.compat.v1.ConfigProto instead.\n",
            "\n",
            "WARNING:tensorflow:From /usr/local/lib/python3.6/dist-packages/keras/backend/tensorflow_backend.py:207: The name tf.global_variables is deprecated. Please use tf.compat.v1.global_variables instead.\n",
            "\n",
            "WARNING:tensorflow:From /usr/local/lib/python3.6/dist-packages/keras/backend/tensorflow_backend.py:216: The name tf.is_variable_initialized is deprecated. Please use tf.compat.v1.is_variable_initialized instead.\n",
            "\n",
            "WARNING:tensorflow:From /usr/local/lib/python3.6/dist-packages/keras/backend/tensorflow_backend.py:223: The name tf.variables_initializer is deprecated. Please use tf.compat.v1.variables_initializer instead.\n",
            "\n",
            "40000/40000 [==============================] - 18s 460us/step - loss: 1.7776 - acc: 0.3789 - val_loss: 1.4110 - val_acc: 0.5186\n",
            "Epoch 2/20\n",
            "40000/40000 [==============================] - 3s 77us/step - loss: 1.4014 - acc: 0.5031 - val_loss: 1.2720 - val_acc: 0.5597\n",
            "Epoch 3/20\n",
            "40000/40000 [==============================] - 3s 77us/step - loss: 1.2725 - acc: 0.5505 - val_loss: 1.2935 - val_acc: 0.5431\n",
            "Epoch 4/20\n",
            "40000/40000 [==============================] - 3s 78us/step - loss: 1.1879 - acc: 0.5824 - val_loss: 1.1285 - val_acc: 0.6050\n",
            "Epoch 5/20\n",
            "40000/40000 [==============================] - 3s 77us/step - loss: 1.1172 - acc: 0.6053 - val_loss: 1.1174 - val_acc: 0.5991\n",
            "Epoch 6/20\n",
            "40000/40000 [==============================] - 3s 77us/step - loss: 1.0606 - acc: 0.6299 - val_loss: 1.0950 - val_acc: 0.6167\n",
            "Epoch 7/20\n",
            "40000/40000 [==============================] - 3s 78us/step - loss: 1.0143 - acc: 0.6442 - val_loss: 1.0848 - val_acc: 0.6169\n",
            "Epoch 8/20\n",
            "40000/40000 [==============================] - 3s 79us/step - loss: 0.9728 - acc: 0.6604 - val_loss: 1.1371 - val_acc: 0.6182\n",
            "Epoch 9/20\n",
            "40000/40000 [==============================] - 3s 81us/step - loss: 0.9248 - acc: 0.6754 - val_loss: 1.0271 - val_acc: 0.6499\n",
            "Epoch 10/20\n",
            "40000/40000 [==============================] - 3s 77us/step - loss: 0.8954 - acc: 0.6874 - val_loss: 1.0576 - val_acc: 0.6352\n",
            "Epoch 11/20\n",
            "40000/40000 [==============================] - 3s 78us/step - loss: 0.8599 - acc: 0.7012 - val_loss: 1.0702 - val_acc: 0.6344\n",
            "Epoch 12/20\n",
            "40000/40000 [==============================] - 3s 76us/step - loss: 0.8306 - acc: 0.7129 - val_loss: 1.0345 - val_acc: 0.6450\n",
            "Epoch 13/20\n",
            "40000/40000 [==============================] - 3s 78us/step - loss: 0.8034 - acc: 0.7173 - val_loss: 1.0193 - val_acc: 0.6596\n",
            "Epoch 14/20\n",
            "40000/40000 [==============================] - 3s 82us/step - loss: 0.7729 - acc: 0.7300 - val_loss: 1.0567 - val_acc: 0.6611\n",
            "Epoch 15/20\n",
            "40000/40000 [==============================] - 3s 77us/step - loss: 0.7457 - acc: 0.7409 - val_loss: 1.0552 - val_acc: 0.6605\n",
            "Epoch 16/20\n",
            "40000/40000 [==============================] - 3s 82us/step - loss: 0.7285 - acc: 0.7462 - val_loss: 1.0087 - val_acc: 0.6710\n",
            "Epoch 17/20\n",
            "40000/40000 [==============================] - 3s 78us/step - loss: 0.7115 - acc: 0.7525 - val_loss: 1.0439 - val_acc: 0.6614\n",
            "Epoch 18/20\n",
            "40000/40000 [==============================] - 3s 76us/step - loss: 0.6888 - acc: 0.7610 - val_loss: 1.0520 - val_acc: 0.6769\n",
            "Epoch 19/20\n",
            "40000/40000 [==============================] - 3s 78us/step - loss: 0.6700 - acc: 0.7685 - val_loss: 1.1116 - val_acc: 0.6545\n",
            "Epoch 20/20\n",
            "40000/40000 [==============================] - 3s 79us/step - loss: 0.6510 - acc: 0.7755 - val_loss: 1.0475 - val_acc: 0.6761\n"
          ],
          "name": "stdout"
        }
      ]
    },
    {
      "cell_type": "markdown",
      "metadata": {
        "colab_type": "text",
        "id": "7-kbN3RlIpkD"
      },
      "source": [
        "**Saving of the model and of the trained weights**\n",
        "\n",
        "This saves the model definition and the weights, after training.\n",
        "\n"
      ]
    },
    {
      "cell_type": "code",
      "metadata": {
        "colab_type": "code",
        "id": "Z57S_sTRIpkF",
        "outputId": "89dd6eee-0c23-48d9-f10e-193301c252f7",
        "colab": {
          "base_uri": "https://localhost:8080/",
          "height": 34
        }
      },
      "source": [
        "#save model in json format into a file\n",
        "model_json = model.to_json()\n",
        "open('cifar10_architecture.json', 'w').write(model_json)\n",
        "\n",
        "#save the trained weights\n",
        "model.save_weights('cifar10_weights.h5', overwrite=True)\n",
        "\n",
        "print('CNN definition configuration file saved.')"
      ],
      "execution_count": 10,
      "outputs": [
        {
          "output_type": "stream",
          "text": [
            "CNN definition configuration file saved.\n"
          ],
          "name": "stdout"
        }
      ]
    },
    {
      "cell_type": "markdown",
      "metadata": {
        "colab_type": "text",
        "id": "7GvXVkx1IpkJ"
      },
      "source": [
        "**Analysis of the results**\n",
        "\n",
        "This code generates the test scores, so we can visualise and inspect the model's peformance.\n",
        "\n",
        "It also plots the accuracy and loss values along the training timescale.\n"
      ]
    },
    {
      "cell_type": "code",
      "metadata": {
        "colab_type": "code",
        "id": "N2XtixmtIpkL",
        "outputId": "b738a14e-6159-4ecb-b9d5-c5ff99911440",
        "colab": {
          "base_uri": "https://localhost:8080/",
          "height": 658
        }
      },
      "source": [
        "#Testing\n",
        "score = model.evaluate(input_X_test, output_Y_test, batch_size=BATCH_SIZE, verbose=VERBOSE)\n",
        "print(\"\\nTest score/loss:\", score[0])\n",
        "print('Test accuracy:', score[1])\n",
        "\n",
        "# list all data in history\n",
        "print(history.history.keys())\n",
        "\n",
        "# summarize history for accuracy\n",
        "#plt.plot(mo)\n",
        "plt.plot(history.history['acc'])\n",
        "plt.plot(history.history['val_acc'])\n",
        "plt.title('model accuracy')\n",
        "plt.ylabel('accuracy')\n",
        "plt.xlabel('epoch')\n",
        "plt.legend(['train', 'test'], loc='upper left')\n",
        "plt.show()\n",
        "\n",
        "# summarize history for loss\n",
        "plt.plot(history.history['loss'])\n",
        "plt.plot(history.history['val_loss'])\n",
        "plt.title('model loss')\n",
        "plt.ylabel('loss')\n",
        "plt.xlabel('epoch')\n",
        "plt.legend(['train', 'test'], loc='upper left')\n",
        "plt.show()\n"
      ],
      "execution_count": 11,
      "outputs": [
        {
          "output_type": "stream",
          "text": [
            "10000/10000 [==============================] - 0s 32us/step\n",
            "\n",
            "Test score/loss: 1.0540032930374146\n",
            "Test accuracy: 0.6635\n",
            "dict_keys(['val_loss', 'val_acc', 'loss', 'acc'])\n"
          ],
          "name": "stdout"
        },
        {
          "output_type": "display_data",
          "data": {
            "image/png": "[encoded data removed]",
            "text/plain": [
              "<Figure size 432x288 with 1 Axes>"
            ]
          },
          "metadata": {
            "tags": []
          }
        },
        {
          "output_type": "display_data",
          "data": {
            "image/png": "[encoded data removed]",
            "text/plain": [
              "<Figure size 432x288 with 1 Axes>"
            ]
          },
          "metadata": {
            "tags": []
          }
        }
      ]
    },
    {
      "cell_type": "markdown",
      "metadata": {
        "colab_type": "text",
        "id": "1o9i5nqDIpkO"
      },
      "source": [
        "A deeper CNN\n",
        "-------------\n",
        "\n",
        "To improve the performance of the network on the CIFAR-10 dataset, it is possible to use a deeper CNN, with a chain of multiple convolution and pooling layers.\n",
        "The following network will be used:\n",
        "\n",
        "conv+conv+maxpool+dropout+conv+conv+maxpool\n",
        "\n",
        "The final classification layers will use the standard:\n",
        "\n",
        "dense+dropout+dense\n",
        "\n",
        "All the layers will use the reLu function, except the final one with the Softmax function necessary for the categorical classification \n"
      ]
    },
    {
      "cell_type": "code",
      "metadata": {
        "colab_type": "code",
        "id": "VmaK6n4AIpkP",
        "outputId": "f0757aee-a61b-4644-fa1a-1f2ed40230ea",
        "colab": {
          "base_uri": "https://localhost:8080/",
          "height": 819
        }
      },
      "source": [
        "# REUSE THE SAME INITIALISATION CODE AND THE TRAINING AND TEST DATA SET LOADING OPERATION\n",
        "\n",
        "N_EPOCH = 40 # bigger network will benefit from extra training epochs\n",
        "\n",
        "# Complex DNN model definition\n",
        "model = Sequential()\n",
        " \n",
        "model.add(Conv2D(32, kernel_size=3, padding='same', input_shape=(IMG_ROWS, IMG_COLS, IMG_CHANNELS)))\n",
        "model.add(Activation('relu'))\n",
        "model.add(Conv2D(32, kernel_size=3, padding='same'))\n",
        "model.add(Activation('relu'))\n",
        "model.add(MaxPooling2D(pool_size=(2, 2)))\n",
        "model.add(Dropout(0.25))\n",
        " \n",
        "model.add(Conv2D(64, kernel_size=3, padding='same'))\n",
        "model.add(Activation('relu'))\n",
        "model.add(Conv2D(64, 3, 3))\n",
        "model.add(Activation('relu'))\n",
        "model.add(MaxPooling2D(pool_size=(2, 2)))\n",
        "model.add(Dropout(0.25))\n",
        " \n",
        "model.add(Flatten())\n",
        "model.add(Dense(512))\n",
        "model.add(Activation('relu'))\n",
        "model.add(Dropout(0.5))\n",
        "model.add(Dense(N_CLASSES))\n",
        "model.add(Activation('softmax'))\n",
        "\n",
        "\n",
        "#optim = SGD(lr=0.01, decay=1e-6, momentum=0.9, nesterov=True)\n",
        "model.compile(loss='categorical_crossentropy', optimizer=OPTIM, metrics=['accuracy'])\n",
        "\n",
        "model.summary()\n",
        " \n"
      ],
      "execution_count": 12,
      "outputs": [
        {
          "output_type": "stream",
          "text": [
            "CNN: \"sequential_2\"\n",
            "_________________________________________________________________\n",
            "Layer (type)                 Output Shape              Param #   \n",
            "=================================================================\n",
            "conv2d_2 (Conv2D)            (None, 32, 32, 32)        896       \n",
            "_________________________________________________________________\n",
            "activation_4 (Activation)    (None, 32, 32, 32)        0         \n",
            "_________________________________________________________________\n",
            "conv2d_3 (Conv2D)            (None, 32, 32, 32)        9248      \n",
            "_________________________________________________________________\n",
            "activation_5 (Activation)    (None, 32, 32, 32)        0         \n",
            "_________________________________________________________________\n",
            "max_pooling2d_2 (MaxPooling2 (None, 16, 16, 32)        0         \n",
            "_________________________________________________________________\n",
            "dropout_3 (Dropout)          (None, 16, 16, 32)        0         \n",
            "_________________________________________________________________\n",
            "conv2d_4 (Conv2D)            (None, 16, 16, 64)        18496     \n",
            "_________________________________________________________________\n",
            "activation_6 (Activation)    (None, 16, 16, 64)        0         \n",
            "_________________________________________________________________\n",
            "conv2d_5 (Conv2D)            (None, 14, 14, 64)        36928     \n",
            "_________________________________________________________________\n",
            "activation_7 (Activation)    (None, 14, 14, 64)        0         \n",
            "_________________________________________________________________\n",
            "max_pooling2d_3 (MaxPooling2 (None, 7, 7, 64)          0         \n",
            "_________________________________________________________________\n",
            "dropout_4 (Dropout)          (None, 7, 7, 64)          0         \n",
            "_________________________________________________________________\n",
            "flatten_2 (Flatten)          (None, 3136)              0         \n",
            "_________________________________________________________________\n",
            "dense_3 (Dense)              (None, 512)               1606144   \n",
            "_________________________________________________________________\n",
            "activation_8 (Activation)    (None, 512)               0         \n",
            "_________________________________________________________________\n",
            "dropout_5 (Dropout)          (None, 512)               0         \n",
            "_________________________________________________________________\n",
            "dense_4 (Dense)              (None, 10)                5130      \n",
            "_________________________________________________________________\n",
            "activation_9 (Activation)    (None, 10)                0         \n",
            "=================================================================\n",
            "Total params: 1,676,842\n",
            "Trainable params: 1,676,842\n",
            "Non-trainable params: 0\n",
            "_________________________________________________________________\n"
          ],
          "name": "stdout"
        },
        {
          "output_type": "stream",
          "text": [
            "/usr/local/lib/python3.6/dist-packages/ipykernel_launcher.py:16: UserWarning: Update your `Conv2D` call to the Keras 2 API: `Conv2D(64, (3, 3))`\n",
            "  app.launch_new_instance()\n"
          ],
          "name": "stderr"
        }
      ]
    },
    {
      "cell_type": "markdown",
      "metadata": {
        "id": "N_WU_cUNkmr-",
        "colab_type": "text"
      },
      "source": [
        "**Training of the deeper CNN**\n",
        "\n",
        "Let's train (fit) this new model.\n",
        "\n"
      ]
    },
    {
      "cell_type": "code",
      "metadata": {
        "id": "ctRJSHkVkmr_",
        "colab_type": "code",
        "colab": {
          "base_uri": "https://localhost:8080/",
          "height": 1000
        },
        "outputId": "ecb44a2a-b583-43db-aeab-afeebbf1857a"
      },
      "source": [
        "# training/fitting of the complex DNN model \n",
        "history = model.fit(input_X_train, output_Y_train, batch_size=BATCH_SIZE, epochs=N_EPOCH, validation_split=VALIDATION_SPLIT,  verbose=VERBOSE)\n"
      ],
      "execution_count": 13,
      "outputs": [
        {
          "output_type": "stream",
          "text": [
            "Train on 40000 samples, validate on 10000 samples\n",
            "Epoch 1/40\n",
            "40000/40000 [==============================] - 6s 140us/step - loss: 1.7905 - acc: 0.3527 - val_loss: 1.4485 - val_acc: 0.4849\n",
            "Epoch 2/40\n",
            "40000/40000 [==============================] - 5s 115us/step - loss: 1.3502 - acc: 0.5185 - val_loss: 1.2457 - val_acc: 0.5569\n",
            "Epoch 3/40\n",
            "40000/40000 [==============================] - 5s 119us/step - loss: 1.1431 - acc: 0.5972 - val_loss: 1.1808 - val_acc: 0.5716\n",
            "Epoch 4/40\n",
            "40000/40000 [==============================] - 5s 117us/step - loss: 1.0054 - acc: 0.6464 - val_loss: 1.0106 - val_acc: 0.6510\n",
            "Epoch 5/40\n",
            "40000/40000 [==============================] - 5s 120us/step - loss: 0.8983 - acc: 0.6858 - val_loss: 0.8821 - val_acc: 0.6884\n",
            "Epoch 6/40\n",
            "40000/40000 [==============================] - 5s 118us/step - loss: 0.8271 - acc: 0.7135 - val_loss: 0.8134 - val_acc: 0.7177\n",
            "Epoch 7/40\n",
            "40000/40000 [==============================] - 5s 117us/step - loss: 0.7664 - acc: 0.7318 - val_loss: 0.8752 - val_acc: 0.7071\n",
            "Epoch 8/40\n",
            "40000/40000 [==============================] - 5s 117us/step - loss: 0.7142 - acc: 0.7511 - val_loss: 0.7474 - val_acc: 0.7449\n",
            "Epoch 9/40\n",
            "40000/40000 [==============================] - 5s 116us/step - loss: 0.6772 - acc: 0.7648 - val_loss: 0.8191 - val_acc: 0.7203\n",
            "Epoch 10/40\n",
            "40000/40000 [==============================] - 5s 116us/step - loss: 0.6440 - acc: 0.7772 - val_loss: 0.6970 - val_acc: 0.7647\n",
            "Epoch 11/40\n",
            "40000/40000 [==============================] - 5s 116us/step - loss: 0.6189 - acc: 0.7853 - val_loss: 0.6946 - val_acc: 0.7734\n",
            "Epoch 12/40\n",
            "40000/40000 [==============================] - 5s 116us/step - loss: 0.6027 - acc: 0.7939 - val_loss: 0.7091 - val_acc: 0.7675\n",
            "Epoch 13/40\n",
            "40000/40000 [==============================] - 5s 118us/step - loss: 0.5845 - acc: 0.8009 - val_loss: 0.6766 - val_acc: 0.7744\n",
            "Epoch 14/40\n",
            "40000/40000 [==============================] - 5s 116us/step - loss: 0.5684 - acc: 0.8051 - val_loss: 0.7363 - val_acc: 0.7784\n",
            "Epoch 15/40\n",
            "40000/40000 [==============================] - 5s 116us/step - loss: 0.5579 - acc: 0.8101 - val_loss: 0.7956 - val_acc: 0.7742\n",
            "Epoch 16/40\n",
            "40000/40000 [==============================] - 5s 117us/step - loss: 0.5552 - acc: 0.8147 - val_loss: 0.7808 - val_acc: 0.7686\n",
            "Epoch 17/40\n",
            "40000/40000 [==============================] - 5s 117us/step - loss: 0.5415 - acc: 0.8167 - val_loss: 0.8161 - val_acc: 0.7792\n",
            "Epoch 18/40\n",
            "40000/40000 [==============================] - 5s 118us/step - loss: 0.5428 - acc: 0.8189 - val_loss: 0.7198 - val_acc: 0.7773\n",
            "Epoch 19/40\n",
            "40000/40000 [==============================] - 5s 116us/step - loss: 0.5411 - acc: 0.8200 - val_loss: 0.7348 - val_acc: 0.7714\n",
            "Epoch 20/40\n",
            "40000/40000 [==============================] - 5s 116us/step - loss: 0.5390 - acc: 0.8213 - val_loss: 0.7948 - val_acc: 0.7838\n",
            "Epoch 21/40\n",
            "40000/40000 [==============================] - 5s 116us/step - loss: 0.5427 - acc: 0.8197 - val_loss: 0.6729 - val_acc: 0.7818\n",
            "Epoch 22/40\n",
            "40000/40000 [==============================] - 5s 116us/step - loss: 0.5336 - acc: 0.8247 - val_loss: 0.8125 - val_acc: 0.7885\n",
            "Epoch 23/40\n",
            "40000/40000 [==============================] - 5s 116us/step - loss: 0.5377 - acc: 0.8236 - val_loss: 0.7319 - val_acc: 0.7765\n",
            "Epoch 24/40\n",
            "40000/40000 [==============================] - 5s 115us/step - loss: 0.5318 - acc: 0.8253 - val_loss: 0.7815 - val_acc: 0.7765\n",
            "Epoch 25/40\n",
            "40000/40000 [==============================] - 5s 116us/step - loss: 0.5362 - acc: 0.8241 - val_loss: 0.9593 - val_acc: 0.7682\n",
            "Epoch 26/40\n",
            "40000/40000 [==============================] - 5s 117us/step - loss: 0.5365 - acc: 0.8242 - val_loss: 0.7042 - val_acc: 0.7696\n",
            "Epoch 27/40\n",
            "40000/40000 [==============================] - 5s 116us/step - loss: 0.5262 - acc: 0.8265 - val_loss: 0.8039 - val_acc: 0.7886\n",
            "Epoch 28/40\n",
            "40000/40000 [==============================] - 5s 116us/step - loss: 0.5371 - acc: 0.8262 - val_loss: 0.7264 - val_acc: 0.7843\n",
            "Epoch 29/40\n",
            "40000/40000 [==============================] - 5s 118us/step - loss: 0.5381 - acc: 0.8262 - val_loss: 0.7465 - val_acc: 0.7791\n",
            "Epoch 30/40\n",
            "40000/40000 [==============================] - 5s 118us/step - loss: 0.5366 - acc: 0.8258 - val_loss: 0.7870 - val_acc: 0.7832\n",
            "Epoch 31/40\n",
            "40000/40000 [==============================] - 5s 118us/step - loss: 0.5532 - acc: 0.8248 - val_loss: 0.9120 - val_acc: 0.7489\n",
            "Epoch 32/40\n",
            "40000/40000 [==============================] - 5s 117us/step - loss: 0.5482 - acc: 0.8246 - val_loss: 0.8171 - val_acc: 0.7736\n",
            "Epoch 33/40\n",
            "40000/40000 [==============================] - 5s 118us/step - loss: 0.5443 - acc: 0.8232 - val_loss: 0.7181 - val_acc: 0.7667\n",
            "Epoch 34/40\n",
            "40000/40000 [==============================] - 5s 117us/step - loss: 0.5483 - acc: 0.8230 - val_loss: 0.7555 - val_acc: 0.7697\n",
            "Epoch 35/40\n",
            "40000/40000 [==============================] - 5s 117us/step - loss: 0.5478 - acc: 0.8255 - val_loss: 0.7867 - val_acc: 0.7640\n",
            "Epoch 36/40\n",
            "40000/40000 [==============================] - 5s 117us/step - loss: 0.5430 - acc: 0.8254 - val_loss: 0.8609 - val_acc: 0.7529\n",
            "Epoch 37/40\n",
            "40000/40000 [==============================] - 5s 117us/step - loss: 0.5464 - acc: 0.8249 - val_loss: 0.9904 - val_acc: 0.7247\n",
            "Epoch 38/40\n",
            "40000/40000 [==============================] - 5s 117us/step - loss: 0.5598 - acc: 0.8228 - val_loss: 1.0285 - val_acc: 0.7582\n",
            "Epoch 39/40\n",
            "40000/40000 [==============================] - 5s 118us/step - loss: 0.5591 - acc: 0.8229 - val_loss: 0.8739 - val_acc: 0.7656\n",
            "Epoch 40/40\n",
            "40000/40000 [==============================] - 5s 117us/step - loss: 0.5580 - acc: 0.8224 - val_loss: 0.6898 - val_acc: 0.7914\n"
          ],
          "name": "stdout"
        }
      ]
    },
    {
      "cell_type": "markdown",
      "metadata": {
        "colab_type": "text",
        "id": "hhkax6pXIpkT"
      },
      "source": [
        "**Analysis of the Deeper CNN results**\n",
        "\n",
        "This generates the test scores and plots for the new, deeper DNN.\n"
      ]
    },
    {
      "cell_type": "code",
      "metadata": {
        "colab_type": "code",
        "id": "FfRvK-lUIpkU",
        "outputId": "2a52e422-10c8-4c41-f97a-5db9e5312c3d",
        "colab": {
          "base_uri": "https://localhost:8080/",
          "height": 658
        }
      },
      "source": [
        "#Testing\n",
        "score = model.evaluate(input_X_test, output_Y_test, batch_size=BATCH_SIZE, verbose=VERBOSE)\n",
        "print(\"\\nTest score/loss:\", score[0])\n",
        "print('Test accuracy:', score[1])\n",
        "\n",
        "# list all data in history\n",
        "print(history.history.keys())\n",
        "\n",
        "# summarize history for accuracy\n",
        "#plt.plot(mo)\n",
        "plt.plot(history.history['acc'])\n",
        "plt.plot(history.history['val_acc'])\n",
        "plt.title('model accuracy')\n",
        "plt.ylabel('accuracy')\n",
        "plt.xlabel('epoch')\n",
        "plt.legend(['train', 'test'], loc='upper left')\n",
        "plt.show()\n",
        "\n",
        "# summarize history for loss\n",
        "plt.plot(history.history['loss'])\n",
        "plt.plot(history.history['val_loss'])\n",
        "plt.title('model loss')\n",
        "plt.ylabel('loss')\n",
        "plt.xlabel('epoch')\n",
        "plt.legend(['train', 'test'], loc='upper left')\n",
        "plt.show()"
      ],
      "execution_count": 14,
      "outputs": [
        {
          "output_type": "stream",
          "text": [
            "10000/10000 [==============================] - 0s 50us/step\n",
            "\n",
            "Test score/loss: 0.6985499654769898\n",
            "Test accuracy: 0.7895\n",
            "dict_keys(['val_loss', 'val_acc', 'loss', 'acc'])\n"
          ],
          "name": "stdout"
        },
        {
          "output_type": "display_data",
          "data": {
            "image/png": "[encoded data removed]",
            "text/plain": [
              "<Figure size 432x288 with 1 Axes>"
            ]
          },
          "metadata": {
            "tags": []
          }
        },
        {
          "output_type": "display_data",
          "data": {
            "image/png": "[encoded data removed]",
            "text/plain": [
              "<Figure size 432x288 with 1 Axes>"
            ]
          },
          "metadata": {
            "tags": []
          }
        }
      ]
    },
    {
      "cell_type": "markdown",
      "metadata": {
        "colab_type": "text",
        "id": "v-Mzs-L7IpkZ"
      },
      "source": [
        "Data Augmentation\n",
        "-------------\n",
        "\n",
        "To further improve the performance of the model, it is advisable to use a larger training set, to expose the network to more variations of the images.\n",
        "One way to achieve this, without having to collect new images from the real world, is to __augment__ the existing images with multiple types of transformations of the dataset stimuli. This can include rotation of the image, rescaling, horizontal/vertical flip, zooming, channel shift, etc.\n",
        "\n",
        "Below is an example of the code that augments the current datase.\n",
        "\n",
        "\n"
      ]
    },
    {
      "cell_type": "code",
      "metadata": {
        "colab_type": "code",
        "id": "-85_nYLXIpkZ",
        "outputId": "815cd477-865e-40af-c5fe-91b4055cccfe",
        "colab": {
          "base_uri": "https://localhost:8080/",
          "height": 34
        }
      },
      "source": [
        "from keras.preprocessing.image import ImageDataGenerator\n",
        "#from keras.datasets import cifar10\n",
        "\n",
        "#load dataset\n",
        "#(input_X_train, output_y_train), (input_X_test, output_y_test) = cifar10.load_data()\n",
        "\n",
        "# augumenting\n",
        "print(\"Augmenting training set images...\")\n",
        "    \n",
        "datagen = ImageDataGenerator(\n",
        "   rotation_range=40,\n",
        "   width_shift_range=0.2,\n",
        "   height_shift_range=0.2,\n",
        "   zoom_range=0.2,\n",
        "   horizontal_flip=True,\n",
        "   fill_mode='nearest')\n",
        "\n",
        "# rotation_range is a value in degrees (0 - 180) for randomly rotating pictures\n",
        "# width_shift and height_shift are ranges for randomly translating pictures vertically or horizontally\n",
        "# zoom_range is for randomly zooming pictures \n",
        "# horizontal_flip is for randomly flipping the images horizontally\n",
        "# fill_mode fills in new pixels that can appear after a rotation or a shift\n"
      ],
      "execution_count": 9,
      "outputs": [
        {
          "output_type": "stream",
          "text": [
            "Augmenting training set images...\n"
          ],
          "name": "stdout"
        }
      ]
    },
    {
      "cell_type": "markdown",
      "metadata": {
        "colab_type": "text",
        "id": "yWIpifR4Ipkc"
      },
      "source": [
        "__Training with augmented data__\n",
        "\n",
        "The function below used the dynamic generation of the augmented data during the training (just in time)."
      ]
    },
    {
      "cell_type": "code",
      "metadata": {
        "colab_type": "code",
        "id": "kd_JgZM9Ipkd",
        "outputId": "e5e1e715-d2cc-4be2-b7fd-853d4da6fed2",
        "colab": {
          "base_uri": "https://localhost:8080/",
          "height": 1000
        }
      },
      "source": [
        "\n",
        "#fit the dataset\n",
        "datagen.fit(input_X_train)\n",
        "\n",
        "\n",
        "# train by fitting the model on batches with real-time data augmentation\n",
        "history = model.fit_generator(datagen.flow(input_X_train, output_Y_train, batch_size=BATCH_SIZE), samples_per_epoch=input_X_train.shape[0], epochs=N_EPOCH, verbose=VERBOSE)\n",
        "\n"
      ],
      "execution_count": 10,
      "outputs": [
        {
          "output_type": "stream",
          "text": [
            "WARNING:tensorflow:From /usr/local/lib/python3.6/dist-packages/tensorflow_core/python/ops/math_grad.py:1424: where (from tensorflow.python.ops.array_ops) is deprecated and will be removed in a future version.\n",
            "Instructions for updating:\n",
            "Use tf.where in 2.0, which has the same broadcast rule as np.where\n"
          ],
          "name": "stdout"
        },
        {
          "output_type": "stream",
          "text": [
            "/usr/local/lib/python3.6/dist-packages/ipykernel_launcher.py:9: UserWarning: Update your `fit_generator` call to the Keras 2 API: `fit_generator(<keras_pre..., epochs=50, verbose=1, steps_per_epoch=390)`\n",
            "  if __name__ == '__main__':\n"
          ],
          "name": "stderr"
        },
        {
          "output_type": "stream",
          "text": [
            "WARNING:tensorflow:From /usr/local/lib/python3.6/dist-packages/keras/backend/tensorflow_backend.py:1033: The name tf.assign_add is deprecated. Please use tf.compat.v1.assign_add instead.\n",
            "\n",
            "WARNING:tensorflow:From /usr/local/lib/python3.6/dist-packages/keras/backend/tensorflow_backend.py:1020: The name tf.assign is deprecated. Please use tf.compat.v1.assign instead.\n",
            "\n",
            "WARNING:tensorflow:From /usr/local/lib/python3.6/dist-packages/keras/backend/tensorflow_backend.py:3005: The name tf.Session is deprecated. Please use tf.compat.v1.Session instead.\n",
            "\n",
            "Epoch 1/50\n",
            "WARNING:tensorflow:From /usr/local/lib/python3.6/dist-packages/keras/backend/tensorflow_backend.py:190: The name tf.get_default_session is deprecated. Please use tf.compat.v1.get_default_session instead.\n",
            "\n",
            "WARNING:tensorflow:From /usr/local/lib/python3.6/dist-packages/keras/backend/tensorflow_backend.py:197: The name tf.ConfigProto is deprecated. Please use tf.compat.v1.ConfigProto instead.\n",
            "\n",
            "WARNING:tensorflow:From /usr/local/lib/python3.6/dist-packages/keras/backend/tensorflow_backend.py:207: The name tf.global_variables is deprecated. Please use tf.compat.v1.global_variables instead.\n",
            "\n",
            "WARNING:tensorflow:From /usr/local/lib/python3.6/dist-packages/keras/backend/tensorflow_backend.py:216: The name tf.is_variable_initialized is deprecated. Please use tf.compat.v1.is_variable_initialized instead.\n",
            "\n",
            "WARNING:tensorflow:From /usr/local/lib/python3.6/dist-packages/keras/backend/tensorflow_backend.py:223: The name tf.variables_initializer is deprecated. Please use tf.compat.v1.variables_initializer instead.\n",
            "\n",
            "390/390 [==============================] - 26s 67ms/step - loss: 1.9339 - acc: 0.2905\n",
            "Epoch 2/50\n",
            "390/390 [==============================] - 23s 59ms/step - loss: 1.6617 - acc: 0.3999\n",
            "Epoch 3/50\n",
            "390/390 [==============================] - 23s 59ms/step - loss: 1.5360 - acc: 0.4455\n",
            "Epoch 4/50\n",
            "390/390 [==============================] - 23s 59ms/step - loss: 1.4478 - acc: 0.4849\n",
            "Epoch 5/50\n",
            "390/390 [==============================] - 23s 58ms/step - loss: 1.3884 - acc: 0.5020\n",
            "Epoch 6/50\n",
            "390/390 [==============================] - 23s 59ms/step - loss: 1.3428 - acc: 0.5182\n",
            "Epoch 7/50\n",
            "390/390 [==============================] - 23s 59ms/step - loss: 1.3045 - acc: 0.5374\n",
            "Epoch 8/50\n",
            "390/390 [==============================] - 23s 59ms/step - loss: 1.2816 - acc: 0.5476\n",
            "Epoch 9/50\n",
            "390/390 [==============================] - 23s 59ms/step - loss: 1.2605 - acc: 0.5516\n",
            "Epoch 10/50\n",
            "390/390 [==============================] - 23s 59ms/step - loss: 1.2411 - acc: 0.5624\n",
            "Epoch 11/50\n",
            "390/390 [==============================] - 23s 59ms/step - loss: 1.2306 - acc: 0.5668\n",
            "Epoch 12/50\n",
            "390/390 [==============================] - 23s 59ms/step - loss: 1.2166 - acc: 0.5704\n",
            "Epoch 13/50\n",
            "390/390 [==============================] - 23s 58ms/step - loss: 1.2081 - acc: 0.5786\n",
            "Epoch 14/50\n",
            "390/390 [==============================] - 23s 60ms/step - loss: 1.1967 - acc: 0.5816\n",
            "Epoch 15/50\n",
            "390/390 [==============================] - 23s 59ms/step - loss: 1.1831 - acc: 0.5859\n",
            "Epoch 16/50\n",
            "390/390 [==============================] - 23s 59ms/step - loss: 1.1819 - acc: 0.5909\n",
            "Epoch 17/50\n",
            "390/390 [==============================] - 23s 59ms/step - loss: 1.1757 - acc: 0.5911\n",
            "Epoch 18/50\n",
            "390/390 [==============================] - 23s 58ms/step - loss: 1.1687 - acc: 0.5968\n",
            "Epoch 19/50\n",
            "390/390 [==============================] - 23s 59ms/step - loss: 1.1731 - acc: 0.5931\n",
            "Epoch 20/50\n",
            "390/390 [==============================] - 23s 59ms/step - loss: 1.1690 - acc: 0.5949\n",
            "Epoch 21/50\n",
            "390/390 [==============================] - 23s 58ms/step - loss: 1.1735 - acc: 0.5940\n",
            "Epoch 22/50\n",
            "390/390 [==============================] - 23s 59ms/step - loss: 1.1698 - acc: 0.5929\n",
            "Epoch 23/50\n",
            "390/390 [==============================] - 23s 58ms/step - loss: 1.1663 - acc: 0.5954\n",
            "Epoch 24/50\n",
            "390/390 [==============================] - 23s 58ms/step - loss: 1.1731 - acc: 0.5937\n",
            "Epoch 25/50\n",
            "390/390 [==============================] - 23s 59ms/step - loss: 1.1666 - acc: 0.5988\n",
            "Epoch 26/50\n",
            "390/390 [==============================] - 23s 58ms/step - loss: 1.1760 - acc: 0.5964\n",
            "Epoch 27/50\n",
            "390/390 [==============================] - 23s 60ms/step - loss: 1.1764 - acc: 0.5967\n",
            "Epoch 28/50\n",
            "390/390 [==============================] - 23s 59ms/step - loss: 1.1803 - acc: 0.5952\n",
            "Epoch 29/50\n",
            "390/390 [==============================] - 23s 58ms/step - loss: 1.1707 - acc: 0.5951\n",
            "Epoch 30/50\n",
            "390/390 [==============================] - 23s 59ms/step - loss: 1.1923 - acc: 0.5952\n",
            "Epoch 31/50\n",
            "390/390 [==============================] - 23s 60ms/step - loss: 1.1820 - acc: 0.5955\n",
            "Epoch 32/50\n",
            "390/390 [==============================] - 23s 59ms/step - loss: 1.1877 - acc: 0.5938\n",
            "Epoch 33/50\n",
            "390/390 [==============================] - 23s 59ms/step - loss: 1.1958 - acc: 0.5921\n",
            "Epoch 34/50\n",
            "390/390 [==============================] - 23s 59ms/step - loss: 1.1942 - acc: 0.5915\n",
            "Epoch 35/50\n",
            "390/390 [==============================] - 23s 59ms/step - loss: 1.1936 - acc: 0.5927\n",
            "Epoch 36/50\n",
            "390/390 [==============================] - 23s 59ms/step - loss: 1.1941 - acc: 0.5932\n",
            "Epoch 37/50\n",
            "390/390 [==============================] - 23s 59ms/step - loss: 1.1935 - acc: 0.5934\n",
            "Epoch 38/50\n",
            "390/390 [==============================] - 23s 59ms/step - loss: 1.2060 - acc: 0.5897\n",
            "Epoch 39/50\n",
            "390/390 [==============================] - 22s 58ms/step - loss: 1.2107 - acc: 0.5873\n",
            "Epoch 40/50\n",
            "390/390 [==============================] - 23s 58ms/step - loss: 1.2096 - acc: 0.5863\n",
            "Epoch 41/50\n",
            "390/390 [==============================] - 23s 59ms/step - loss: 1.2167 - acc: 0.5877\n",
            "Epoch 42/50\n",
            "390/390 [==============================] - 23s 58ms/step - loss: 1.2165 - acc: 0.5846\n",
            "Epoch 43/50\n",
            "390/390 [==============================] - 23s 58ms/step - loss: 1.2306 - acc: 0.5833\n",
            "Epoch 44/50\n",
            "390/390 [==============================] - 23s 59ms/step - loss: 1.2269 - acc: 0.5821\n",
            "Epoch 45/50\n",
            "390/390 [==============================] - 23s 58ms/step - loss: 1.2329 - acc: 0.5802\n",
            "Epoch 46/50\n",
            "390/390 [==============================] - 23s 58ms/step - loss: 1.2346 - acc: 0.5806\n",
            "Epoch 47/50\n",
            "390/390 [==============================] - 23s 58ms/step - loss: 1.2427 - acc: 0.5790\n",
            "Epoch 48/50\n",
            "390/390 [==============================] - 23s 58ms/step - loss: 1.2462 - acc: 0.5798\n",
            "Epoch 49/50\n",
            "390/390 [==============================] - 23s 59ms/step - loss: 1.2533 - acc: 0.5729\n",
            "Epoch 50/50\n",
            "390/390 [==============================] - 23s 58ms/step - loss: 1.2510 - acc: 0.5743\n"
          ],
          "name": "stdout"
        }
      ]
    },
    {
      "cell_type": "markdown",
      "metadata": {
        "colab_type": "text",
        "id": "Y0ZLORlPIpkh"
      },
      "source": [
        "**Analysis of the Data Augmented, Deeper CNN results**\n",
        "\n",
        "This generates the test scores and plots for the deeper DNN trained on the augmented data."
      ]
    },
    {
      "cell_type": "code",
      "metadata": {
        "colab_type": "code",
        "id": "BxZG9aM2Ipki",
        "outputId": "2c9c392e-1ee8-4485-bb92-252c23cad703",
        "colab": {
          "base_uri": "https://localhost:8080/",
          "height": 658
        }
      },
      "source": [
        "#Testing\n",
        "score = model.evaluate(input_X_test, output_Y_test, batch_size=BATCH_SIZE, verbose=VERBOSE)\n",
        "print(\"\\nTest score/loss:\", score[0])\n",
        "print('Test accuracy:', score[1])\n",
        "\n",
        "# list all data in history\n",
        "print(history.history.keys())\n",
        "\n",
        "# summarize history for accuracy\n",
        "#plt.plot(mo)\n",
        "plt.plot(history.history['acc'])\n",
        "plt.plot(history.history['val_acc'])\n",
        "plt.title('model accuracy')\n",
        "plt.ylabel('accuracy')\n",
        "plt.xlabel('epoch')\n",
        "plt.legend(['train', 'test'], loc='upper left')\n",
        "plt.show()\n",
        "\n",
        "# summarize history for loss\n",
        "plt.plot(history.history['loss'])\n",
        "plt.plot(history.history['val_loss'])\n",
        "plt.title('model loss')\n",
        "plt.ylabel('loss')\n",
        "plt.xlabel('epoch')\n",
        "plt.legend(['train', 'test'], loc='upper left')\n",
        "plt.show()\n",
        "\n"
      ],
      "execution_count": 15,
      "outputs": [
        {
          "output_type": "stream",
          "text": [
            "10000/10000 [==============================] - 1s 52us/step\n",
            "\n",
            "Test score/loss: 0.8572266122817993\n",
            "Test accuracy: 0.7483\n",
            "dict_keys(['val_loss', 'val_acc', 'loss', 'acc'])\n"
          ],
          "name": "stdout"
        },
        {
          "output_type": "display_data",
          "data": {
            "image/png": "[encoded data removed]",
            "text/plain": [
              "<Figure size 432x288 with 1 Axes>"
            ]
          },
          "metadata": {
            "tags": []
          }
        },
        {
          "output_type": "display_data",
          "data": {
            "image/png": "[encoded data removed]",
            "text/plain": [
              "<Figure size 432x288 with 1 Axes>"
            ]
          },
          "metadata": {
            "tags": []
          }
        }
      ]
    },
    {
      "cell_type": "markdown",
      "metadata": {
        "colab_type": "text",
        "id": "4Bwi-kLYIpkl"
      },
      "source": [
        "Below is a commented different example of a data augmentation approach. \n",
        "\n",
        "But we have carried out plenty of slow, long simulations for this class, and we can stop here."
      ]
    },
    {
      "cell_type": "code",
      "metadata": {
        "colab_type": "code",
        "id": "q_JAWfc4Ipkm",
        "colab": {}
      },
      "source": [
        "\n",
        "from keras.preprocessing.image import ImageDataGenerator\n",
        "\n",
        "datagen = ImageDataGenerator(\n",
        "        featurewise_center=False,  # set input mean to 0 over the dataset\n",
        "        samplewise_center=False,  # set each sample mean to 0\n",
        "        featurewise_std_normalization=False,  # divide inputs by std of the dataset\n",
        "        samplewise_std_normalization=False,  # divide each input by its std\n",
        "        zca_whitening=False,  # apply ZCA whitening\n",
        "        rotation_range=0,  # randomly rotate images in the range (degrees, 0 to 180)\n",
        "        width_shift_range=0.1,  # randomly shift images horizontally (fraction of total width)\n",
        "        height_shift_range=0.1,  # randomly shift images vertically (fraction of total height)\n",
        "        horizontal_flip=True,  # randomly flip images\n",
        "        vertical_flip=False)  # randomly flip images\n",
        "\n",
        "datagen.fit(input_X_train)"
      ],
      "execution_count": 0,
      "outputs": []
    },
    {
      "cell_type": "markdown",
      "metadata": {
        "colab_type": "text",
        "id": "ouCjBST_Ipkq"
      },
      "source": [
        "Conclusions\n",
        "-------------\n",
        "\n",
        "Today we learned to train more complex DNNs, and to use data augmentation to further improve the network training and performance.\n",
        "\n",
        "**Copyright (c)** 2019 Angelo Cangelosi, MIT License. Code and examples adapted from Gulli & Pal (2017) Deep Learning with Kera. Punkt Publishing"
      ]
    }
  ]
}
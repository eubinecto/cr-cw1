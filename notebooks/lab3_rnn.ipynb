{
  "nbformat": 4,
  "nbformat_minor": 0,
  "metadata": {
    "kernelspec": {
      "display_name": "Python 2",
      "language": "python",
      "name": "python2"
    },
    "language_info": {
      "codemirror_mode": {
        "name": "ipython",
        "version": 2
      },
      "file_extension": ".py",
      "mimetype": "text/x-python",
      "name": "python",
      "nbconvert_exporter": "python",
      "pygments_lexer": "ipython2",
      "version": "2.7.15"
    },
    "colab": {
      "name": "Lab3_RNN.ipynb",
      "provenance": []
    }
  },
  "cells": [
    {
      "cell_type": "markdown",
      "metadata": {
        "id": "JpnRb1rNp6mv"
      },
      "source": [
        "Recurrent Neural Networks (RNN): Simple RNNs and LSTMs\n",
        "=========\n",
        "\n",
        "In this tutorial we will learn how to use Recurremt Neural Networks (RNNs) for text processing.\n",
        "The first example uses a simple RNN to generate the characters in a small text corpus (Alice in Wonderland novel).\n",
        "We will then look at the Long Short Term Memory (LSTM) networks, for more advanced recurrent models. The LSTM will be tested on a sentiment analysis corpus.\n"
      ]
    },
    {
      "cell_type": "markdown",
      "metadata": {
        "id": "AjaUzq1ip6m1"
      },
      "source": [
        "1 - Simple RNNs to Generate text\n",
        "=========\n",
        "\n",
        "This exmple will use a simple RNN with one layer of hidden and recurrent units. \n",
        "\n",
        "Let's first import the usual keras and utility functions. This will include the first importing and use of the SimpleRNN recurrent layer type in Keras.\n"
      ]
    },
    {
      "cell_type": "code",
      "metadata": {
        "id": "gx1fsJ45p6nA"
      },
      "source": [
        "from __future__ import print_function\n",
        "from keras.layers import Dense, Activation\n",
        "from keras.layers.recurrent import SimpleRNN\n",
        "from keras.models import Sequential\n",
        "import numpy as np\n"
      ],
      "execution_count": 29,
      "outputs": []
    },
    {
      "cell_type": "markdown",
      "metadata": {
        "id": "fIdP2MSmp6nP"
      },
      "source": [
        "**Loading text file and converting to clean text**\n",
        "\n",
        "This code will read the file \"alice_in_wonderland.txt\". This file is available for download here http://www.gutenberg.org/files/11/11-0.txt (and can also be downloaded from Balckboard ). \n",
        "\n",
        "The code will do some preliminary cleanup of the text (e.g. removing non-ASCII characters and line breaks) and write all words in the variable called \"whole_text\".\n"
      ]
    },
    {
      "cell_type": "code",
      "metadata": {
        "id": "KtQ15qnCp6nS",
        "colab": {
          "base_uri": "https://localhost:8080/"
        },
        "outputId": "cacc3826-8761-439c-e3ae-0fb37f55656d"
      },
      "source": [
        "print(\"Loading text file...\")\n",
        "\n",
        "INPUT_FILE = \"alice_in_wonderland.txt\"\n",
        "\n",
        "fin = open(INPUT_FILE, 'rb')\n",
        "lines = []\n",
        "for line in fin:\n",
        "    line = line.strip().lower()\n",
        "    line = line.decode(\"ascii\", \"ignore\")\n",
        "    if len(line) == 0:\n",
        "        continue\n",
        "    lines.append(line)\n",
        "fin.close()\n",
        "whole_text = \" \".join(lines)\n",
        "\n",
        "print(\"Done!\")\n"
      ],
      "execution_count": 30,
      "outputs": [
        {
          "output_type": "stream",
          "text": [
            "Loading text file...\n",
            "Done!\n"
          ],
          "name": "stdout"
        }
      ]
    },
    {
      "cell_type": "markdown",
      "metadata": {
        "id": "tzRl-KiBp6nh"
      },
      "source": [
        "**Characters look-up table**\n",
        "\n",
        "This code will create the look-up table from the 42 characters to integer IDs, and viceversa. "
      ]
    },
    {
      "cell_type": "code",
      "metadata": {
        "id": "ZzNWK_g1p6nj",
        "colab": {
          "base_uri": "https://localhost:8080/"
        },
        "outputId": "2f05d71f-ca32-470f-e5fa-8eed7e45c34b"
      },
      "source": [
        "print(\"Preparing characters look-up table...\")\n",
        "\n",
        "chars = set([c for c in whole_text])\n",
        "nb_chars = len(chars)\n",
        "char2index = dict((c, i) for i, c in enumerate(chars))\n",
        "index2char = dict((i, c) for i, c in enumerate(chars))\n",
        "\n",
        "print(\"Done!\")"
      ],
      "execution_count": 31,
      "outputs": [
        {
          "output_type": "stream",
          "text": [
            "Preparing characters look-up table...\n",
            "Done!\n"
          ],
          "name": "stdout"
        }
      ]
    },
    {
      "cell_type": "markdown",
      "metadata": {
        "id": "F5VKYsImp6nv"
      },
      "source": [
        "**Input text and output character**\n",
        "\n",
        "To create the input text, the code will step through the whole text by a number of characters defined by the __STEP__ variable (1 in our case) and then extract a set of characters whose size is determined by the __SEQLEN__ variable (10 in our case). The next character after the extracted characters is the output label, i,e. the next character to predict.\n",
        "\n",
        "Here is an example of the input/output for the part of text starting as\" it turned into a pig\" \n",
        "\n",
        "   INPUT (10)    ->   OUTPUT (1)\n",
        "- \"it turned \"   ->   i\n",
        "- \"t turned i\"   ->   n\n",
        "- \" turned in\"   ->   t\n",
        "- \"turned int\"   ->   o\n",
        "- \"urned into\"   ->\n",
        "- \"rned into \"   ->   a\n",
        "- \"ned into a\"   ->\n",
        "- \"ed into a \"   ->   p\n",
        "- \"d into a p\"   ->   i\n",
        "- \" into a pi\"   ->   g\n"
      ]
    },
    {
      "cell_type": "code",
      "metadata": {
        "id": "hyS8tFKsp6nx",
        "colab": {
          "base_uri": "https://localhost:8080/"
        },
        "outputId": "dbdba0e7-4b09-47e2-d3e6-ea7c28e4a089"
      },
      "source": [
        "print(\"Creating input and label text...\")\n",
        "\n",
        "SEQLEN = 10\n",
        "STEP = 1\n",
        "\n",
        "input_chars = []\n",
        "label_chars = []\n",
        "for i in range(0, len(whole_text) - SEQLEN, STEP):\n",
        "    input_chars.append(whole_text[i:i + SEQLEN])\n",
        "    label_chars.append(whole_text[i + SEQLEN])\n",
        "\n",
        "print(\"Done!\")"
      ],
      "execution_count": 32,
      "outputs": [
        {
          "output_type": "stream",
          "text": [
            "Creating input and label text...\n",
            "Done!\n"
          ],
          "name": "stdout"
        }
      ]
    },
    {
      "cell_type": "markdown",
      "metadata": {
        "id": "yaTGaKHap6n_"
      },
      "source": [
        "**Vectorisation of the input and output**\n",
        "\n",
        "This preprares the input and output vectors of the training set. \n",
        "The input vector uses one-hot encoding of the __SEQLEN__ (10) characters present in the input text segment, times the __nb_chars__ (42) possible characters.\n",
        "The output label uses one-hot encoding for the activation of a single character out of the __nb_chars__ number of units/characters.\n"
      ]
    },
    {
      "cell_type": "code",
      "metadata": {
        "id": "ssALtUABp6oC",
        "colab": {
          "base_uri": "https://localhost:8080/"
        },
        "outputId": "a0fb5f1c-bf02-4e2d-8b97-7572475dba1f"
      },
      "source": [
        "print(\"Vectorizing input and label text...\")\n",
        "\n",
        "X = np.zeros((len(input_chars), SEQLEN, nb_chars), dtype=np.bool)\n",
        "y = np.zeros((len(input_chars), nb_chars), dtype=np.bool)\n",
        "for i, input_char in enumerate(input_chars):\n",
        "    for j, ch in enumerate(input_char):\n",
        "        X[i, j, char2index[ch]] = 1\n",
        "    y[i, char2index[label_chars[i]]] = 1\n",
        "\n",
        "print(\"Done!\")"
      ],
      "execution_count": 33,
      "outputs": [
        {
          "output_type": "stream",
          "text": [
            "Vectorizing input and label text...\n",
            "Done!\n"
          ],
          "name": "stdout"
        }
      ]
    },
    {
      "cell_type": "markdown",
      "metadata": {
        "id": "lZKv1Xwep6oJ"
      },
      "source": [
        "**Simple RNN CNN definition**\n",
        "\n",
        "This codes defines the key variables of the model and training, and creates the sequential model. The model consists of a simple recurrent neural network (RNN) with a hidden layer of 128 simple recurrent units.\n",
        "\n",
        "The __return_sequences__ is set to __False__ as the output only consists of one character, and not a sequence. \n",
        "The __unroll=True__ setting improves performance on the TensorFlow backend.\n",
        "The optimiser uses the __rmsprop__ for backpropagation.\n",
        "\n"
      ]
    },
    {
      "cell_type": "code",
      "metadata": {
        "id": "gZFdn5ynp6oL",
        "colab": {
          "base_uri": "https://localhost:8080/"
        },
        "outputId": "33004af4-8e54-45d5-bd5e-a37ae220003d"
      },
      "source": [
        "# Definition of the network and training hyperparameters\n",
        "HIDDEN_SIZE = 128\n",
        "BATCH_SIZE = 128\n",
        "NUM_ITERATIONS = 25\n",
        "NUM_EPOCHS_PER_ITERATION = 1\n",
        "NUM_PREDS_PER_EPOCH = 100\n",
        "\n",
        "# Definition of the network topology, with simpleRNN hidden layer\n",
        "model = Sequential()\n",
        "model.add(SimpleRNN(HIDDEN_SIZE, return_sequences=False, input_shape=(SEQLEN, nb_chars), unroll=True))\n",
        "model.add(Dense(nb_chars))\n",
        "model.add(Activation(\"softmax\"))\n",
        "\n",
        "model.compile(loss=\"categorical_crossentropy\", optimizer=\"rmsprop\")\n",
        "\n",
        "#show the model summary\n",
        "model.summary()"
      ],
      "execution_count": 34,
      "outputs": [
        {
          "output_type": "stream",
          "text": [
            "CNN: \"sequential_4\"\n",
            "_________________________________________________________________\n",
            "Layer (type)                 Output Shape              Param #   \n",
            "=================================================================\n",
            "simple_rnn_3 (SimpleRNN)     (None, 128)               23424     \n",
            "_________________________________________________________________\n",
            "dense_4 (Dense)              (None, 54)                6966      \n",
            "_________________________________________________________________\n",
            "activation_4 (Activation)    (None, 54)                0         \n",
            "=================================================================\n",
            "Total params: 30,390\n",
            "Trainable params: 30,390\n",
            "Non-trainable params: 0\n",
            "_________________________________________________________________\n"
          ],
          "name": "stdout"
        }
      ]
    },
    {
      "cell_type": "markdown",
      "metadata": {
        "id": "GrEyYv-hp6oR"
      },
      "source": [
        "**Training and testing of the model**\n",
        "\n",
        "The model is trained for __NUM_ITERATIONS__ (25) epochs and tested after each epoch, to allow us to monitor the improvement of the model performance in character prediction.\n",
        "\n",
        "The test consists of generating a character from the model given a random input, then dropping the first character from the input and appending the predicted character from the previous run as the new input, to generate another character. This is done for __NUM_PREDS_PER_EPOCH__ (100) steps. The completed string gives us an indication of the quality of the model's processing of English words (within the limited lexicon of Alice's novel).\n"
      ]
    },
    {
      "cell_type": "code",
      "metadata": {
        "id": "OKeEI_hup6oT",
        "colab": {
          "base_uri": "https://localhost:8080/"
        },
        "outputId": "fbbfb428-45ff-4cca-9c71-72748bfeb110"
      },
      "source": [
        "for iteration in range(NUM_ITERATIONS):\n",
        "    print(\"=\" * 50)\n",
        "    print(\"Iteration #: %d\" % (iteration))\n",
        "    model.fit(X, y, batch_size=BATCH_SIZE, epochs=NUM_EPOCHS_PER_ITERATION)\n",
        "    \n",
        "    # testing model\n",
        "    # randomly choose a row from input_chars, then use it to \n",
        "    # generate text from model for next 100 chars\n",
        "    test_idx = np.random.randint(len(input_chars))\n",
        "    test_chars = input_chars[test_idx]\n",
        "    print(\"Generating from seed: %s\" % (test_chars))\n",
        "    print(test_chars, end=\"\")\n",
        "    for i in range(NUM_PREDS_PER_EPOCH):\n",
        "        Xtest = np.zeros((1, SEQLEN, nb_chars))\n",
        "        for i, ch in enumerate(test_chars):\n",
        "            Xtest[0, i, char2index[ch]] = 1\n",
        "        pred = model.predict(Xtest, verbose=0)[0]\n",
        "        ypred = index2char[np.argmax(pred)]\n",
        "        print(ypred, end=\"\")\n",
        "        # move forward with test_chars + ypred\n",
        "        test_chars = test_chars[1:] + ypred\n",
        "    print()\n"
      ],
      "execution_count": 35,
      "outputs": [
        {
          "output_type": "stream",
          "text": [
            "==================================================\n",
            "Iteration #: 0\n",
            "Epoch 1/1\n",
            "158172/158172 [==============================] - 8s 49us/step - loss: 2.3335\n",
            "Generating from seed:  branch of\n",
            " branch of and the said the said the said the said the said the said the said the said the said the said the s\n",
            "==================================================\n",
            "Iteration #: 1\n",
            "Epoch 1/1\n",
            "158172/158172 [==============================] - 8s 48us/step - loss: 2.0456\n",
            "Generating from seed: hese stran\n",
            "hese strand the gromed to the wast the was the wast the was the wast the was the wast the was the wast the was\n",
            "==================================================\n",
            "Iteration #: 2\n",
            "Epoch 1/1\n",
            "158172/158172 [==============================] - 8s 48us/step - loss: 1.9394\n",
            "Generating from seed: lings. i q\n",
            "lings. i queen the lithen the wast an it the mast and the say said alice was she was so the was so the was so \n",
            "==================================================\n",
            "Iteration #: 3\n",
            "Epoch 1/1\n",
            "158172/158172 [==============================] - 7s 47us/step - loss: 1.8585\n",
            "Generating from seed: xcept thos\n",
            "xcept thos down the mare the mare the mare the mare the mare the mare the mare the mare the mare the mare the \n",
            "==================================================\n",
            "Iteration #: 4\n",
            "Epoch 1/1\n",
            "158172/158172 [==============================] - 8s 50us/step - loss: 1.7934\n",
            "Generating from seed: hought at \n",
            "hought at the dont and she had ere the dinter all she had it was a little the dont and she had ere the dinter \n",
            "==================================================\n",
            "Iteration #: 5\n",
            "Epoch 1/1\n",
            "158172/158172 [==============================] - 8s 49us/step - loss: 1.7396\n",
            "Generating from seed: the direct\n",
            "the directed to the dont was and her and the cater all the cane alice was see was the was the was the was the \n",
            "==================================================\n",
            "Iteration #: 6\n",
            "Epoch 1/1\n",
            "158172/158172 [==============================] - 8s 48us/step - loss: 1.6942\n",
            "Generating from seed:  when i wa\n",
            " when i was the latter it was so the looked and the looked and the looked and the looked and the looked and th\n",
            "==================================================\n",
            "Iteration #: 7\n",
            "Epoch 1/1\n",
            "158172/158172 [==============================] - 8s 48us/step - loss: 1.6553\n",
            "Generating from seed: cheshire c\n",
            "cheshire could the coure she was and the coure she was and the coure she was and the coure she was and the cou\n",
            "==================================================\n",
            "Iteration #: 8\n",
            "Epoch 1/1\n",
            "158172/158172 [==============================] - 8s 48us/step - loss: 1.6223\n",
            "Generating from seed: tone of gr\n",
            "tone of grawn do work the looked and the queen the dormouse of the gryphon and she said the queen the dormouse\n",
            "==================================================\n",
            "Iteration #: 9\n",
            "Epoch 1/1\n",
            "158172/158172 [==============================] - 8s 49us/step - loss: 1.5931\n",
            "Generating from seed: k at the f\n",
            "k at the foond the hatter what it was the did the did the did the did the did the did the did the did the did \n",
            "==================================================\n",
            "Iteration #: 10\n",
            "Epoch 1/1\n",
            "158172/158172 [==============================] - 8s 48us/step - loss: 1.5685\n",
            "Generating from seed: ase, which\n",
            "ase, which the mound of the hatter the more that it was a the gryphon the mound of the hatter the more that it\n",
            "==================================================\n",
            "Iteration #: 11\n",
            "Epoch 1/1\n",
            "158172/158172 [==============================] - 8s 49us/step - loss: 1.5462\n",
            "Generating from seed:  proud as \n",
            " proud as it was a little the partoned the caterpillar the caterpillar the caterpillar the caterpillar the cat\n",
            "==================================================\n",
            "Iteration #: 12\n",
            "Epoch 1/1\n",
            "158172/158172 [==============================] - 8s 48us/step - loss: 1.5266\n",
            "Generating from seed: left foot,\n",
            "left foot, and the dormouse said the dormouse said the dormouse said the dormouse said the dormouse said the d\n",
            "==================================================\n",
            "Iteration #: 13\n",
            "Epoch 1/1\n",
            "158172/158172 [==============================] - 8s 48us/step - loss: 1.5095\n",
            "Generating from seed: he fifth b\n",
            "he fifth began to the caterpillar the mouse was not at the caterpillar the mouse was not at the caterpillar th\n",
            "==================================================\n",
            "Iteration #: 14\n",
            "Epoch 1/1\n",
            "158172/158172 [==============================] - 8s 48us/step - loss: 1.4936\n",
            "Generating from seed: rudeness w\n",
            "rudeness work in a little said alice, and the caterpillar she cat replied and the project gutenberg-tm electro\n",
            "==================================================\n",
            "Iteration #: 15\n",
            "Epoch 1/1\n",
            "158172/158172 [==============================] - 8s 48us/step - loss: 1.4789\n",
            "Generating from seed: after the \n",
            "after the more the gryphon the mouse was a little the court she had been the more the gryphon the mouse was a \n",
            "==================================================\n",
            "Iteration #: 16\n",
            "Epoch 1/1\n",
            "158172/158172 [==============================] - 8s 48us/step - loss: 1.4671\n",
            "Generating from seed: d be quite\n",
            "d be quite a compliance turnled at the caterpillar. the gryphon the dormouse said the queen the dormouse said \n",
            "==================================================\n",
            "Iteration #: 17\n",
            "Epoch 1/1\n",
            "158172/158172 [==============================] - 8s 48us/step - loss: 1.4550\n",
            "Generating from seed: d alice, (\n",
            "d alice, (alice was and she went on the simple she had been the dormouse was a little began was a little began\n",
            "==================================================\n",
            "Iteration #: 18\n",
            "Epoch 1/1\n",
            "158172/158172 [==============================] - 8s 48us/step - loss: 1.4450\n",
            "Generating from seed: no idea wh\n",
            "no idea what they would not the tround to be she had been the mouse soon a grown began to the formation of the\n",
            "==================================================\n",
            "Iteration #: 19\n",
            "Epoch 1/1\n",
            "158172/158172 [==============================] - 8s 48us/step - loss: 1.4359\n",
            "Generating from seed: nd raised \n",
            "nd raised the queen the queen the queen the queen the queen the queen the queen the queen the queen the queen \n",
            "==================================================\n",
            "Iteration #: 20\n",
            "Epoch 1/1\n",
            "158172/158172 [==============================] - 8s 48us/step - loss: 1.4268\n",
            "Generating from seed: he mouse. \n",
            "he mouse. the mock turtle she was so the head alice to the caterpillar the dormouse was the mock turtle she wa\n",
            "==================================================\n",
            "Iteration #: 21\n",
            "Epoch 1/1\n",
            "158172/158172 [==============================] - 8s 48us/step - loss: 1.4190\n",
            "Generating from seed:  voice of \n",
            " voice of the same a she had been the mock turtle so the mouse go the hatter what it was and the mouse go the \n",
            "==================================================\n",
            "Iteration #: 22\n",
            "Epoch 1/1\n",
            "158172/158172 [==============================] - 8s 49us/step - loss: 1.4114\n",
            "Generating from seed:  the cater\n",
            " the caterpillar. i dont like the caterpillar. i dont like the caterpillar. i dont like the caterpillar. i don\n",
            "==================================================\n",
            "Iteration #: 23\n",
            "Epoch 1/1\n",
            "158172/158172 [==============================] - 8s 49us/step - loss: 1.4033\n",
            "Generating from seed: the jury, \n",
            "the jury, and the project gutenberg-tm works in the project gutenberg-tm works in the project gutenberg-tm wor\n",
            "==================================================\n",
            "Iteration #: 24\n",
            "Epoch 1/1\n",
            "158172/158172 [==============================] - 8s 48us/step - loss: 1.3972\n",
            "Generating from seed: ng the sea\n",
            "ng the sear it was of the began the same a great of the work in a shant the project gutenberg-tm electronic wo\n"
          ],
          "name": "stdout"
        }
      ]
    },
    {
      "cell_type": "markdown",
      "metadata": {
        "id": "KXjvnFK6p6og"
      },
      "source": [
        "This example shows how we can train a Simple RNN to predict the next charaters, using the information from the sequentail relationship between words in the training text.\n",
        "You can try the same code on a different, longer text, or try different hyperparameters.\n",
        "\n",
        "We are now ready to try a more complex RNN architecture, for more complex time series tasks.\n"
      ]
    },
    {
      "cell_type": "markdown",
      "metadata": {
        "id": "wY5Pe1aCp6oi"
      },
      "source": [
        "2 - LSTM for Sentiment Analysis\n",
        "=========\n",
        "\n",
        "This example will show how to code the more complex RNN model of the Long Short Term Memmory (LSTM) network. This tutorial will use the example of sentiment analysis prediction.\n",
        "\n",
        "Let's start with the usual importing of Keras and utility modules. This will of course include the LSTM recurrent layer type.\n"
      ]
    },
    {
      "cell_type": "code",
      "metadata": {
        "id": "FJqODAGwp6ok",
        "colab": {
          "base_uri": "https://localhost:8080/"
        },
        "outputId": "6f8b97e9-fd36-4030-d8a4-f3bdde5f29d6"
      },
      "source": [
        "from keras.layers.core import Activation, Dense, Dropout, SpatialDropout1D\n",
        "from keras.layers.embeddings import Embedding\n",
        "from keras.layers.recurrent import LSTM\n",
        "from keras.models import Sequential\n",
        "from keras.preprocessing import sequence\n",
        "from sklearn.model_selection import train_test_split\n",
        "import collections\n",
        "import matplotlib.pyplot as plt\n",
        "import nltk\n",
        "nltk.download('punkt') # download instruction required if pubkt nltk package not installed\n",
        "import numpy as np\n",
        "import os\n",
        "\n",
        "print(\"Initialisation Done! Make sure you have initialised ntlk punkt\")"
      ],
      "execution_count": 12,
      "outputs": [
        {
          "output_type": "stream",
          "text": [
            "[nltk_data] Downloading package punkt to /root/nltk_data...\n",
            "[nltk_data]   Package punkt is already up-to-date!\n",
            "Initialisation Done! Make sure you have initialised ntlk punkt\n"
          ],
          "name": "stdout"
        }
      ]
    },
    {
      "cell_type": "markdown",
      "metadata": {
        "id": "X8a2MWghp6oq"
      },
      "source": [
        "Let's now define the main hyperparameter values and text corpus details.\n"
      ]
    },
    {
      "cell_type": "code",
      "metadata": {
        "id": "__8WvCXSp6ot"
      },
      "source": [
        "INPUT_FILE = \"umich-sentiment-train.txt\"\n",
        "\n",
        "EMBEDDING_SIZE = 128\n",
        "HIDDEN_LAYER_SIZE = 64\n",
        "BATCH_SIZE = 32\n",
        "NUM_EPOCHS = 10\n"
      ],
      "execution_count": 13,
      "outputs": []
    },
    {
      "cell_type": "markdown",
      "metadata": {
        "id": "QpXCUzwep6oz"
      },
      "source": [
        "**Analysis of words in corpus**\n",
        "\n",
        "This code load the text from the UMICH labelled sentiment analysis corpus file, to identify the number of unique words (length of the __word_freq__ variable, i.e. 2313) and the max number of words in the longest sentence (__maxlen__ expected to be 42). These two variables will be needed later for the preaparation of the training set.\n"
      ]
    },
    {
      "cell_type": "code",
      "metadata": {
        "id": "E63yJkoMp6o1",
        "colab": {
          "base_uri": "https://localhost:8080/"
        },
        "outputId": "c93f1d6c-36d0-44f3-d876-0e14048c74d3"
      },
      "source": [
        "# Read training data and generate vocabulary\n",
        "maxlen = 0\n",
        "word_freqs = collections.Counter()\n",
        "num_recs = 0\n",
        "\n",
        "ftrain = open(INPUT_FILE, 'rb')\n",
        "for line in ftrain:\n",
        "    label, sentence = line.strip().split(b\"\\t\")\n",
        "    words = nltk.word_tokenize(sentence.decode(\"ascii\", \"ignore\").lower())\n",
        "    if len(words) > maxlen:\n",
        "        maxlen = len(words)\n",
        "    for word in words:\n",
        "        word_freqs[word] += 1\n",
        "    num_recs += 1\n",
        "ftrain.close()\n",
        "\n",
        "## Get some information about our corpus\n",
        "print (maxlen)            # 42\n",
        "print (len(word_freqs))   # 2313"
      ],
      "execution_count": 14,
      "outputs": [
        {
          "output_type": "stream",
          "text": [
            "42\n",
            "2313\n"
          ],
          "name": "stdout"
        }
      ]
    },
    {
      "cell_type": "markdown",
      "metadata": {
        "id": "ZiqZt7Dlp6pB"
      },
      "source": [
        "**Unkown word and padding word and lookup tables**\n",
        "\n",
        "Knowing the number of unique words will permit the identification of the out of vocabulary (OOV) words, which can be replaced by the pseudo-word \"UNK\" (for unknown). When testing the network prediction, this will allow us to handle previously unseen OOV words.\n",
        "\n",
        "We can decide a fixed sequence length by truncating longer sentences to that length as appropriate (__MAX_SENTENCE_LENGTH = 40__). We also use the PAD to make shorter sentence equivalent to the fixed max length.\n",
        "\n",
        "Overall, we set our VOCABULARY_SIZE to 2002. i.e. 2,000 words from our vocabulary plus the UNK pseudo-word and the PAD pseudo word used for padding sentences up to the max length.\n",
        "\n",
        "We then create the look-up tables. Each row of input to the network is a sequence of word indices, where the indices are ordered by most frequent to least frequent word in the training set."
      ]
    },
    {
      "cell_type": "code",
      "metadata": {
        "id": "abPruGn0p6pD"
      },
      "source": [
        "MAX_FEATURES = 2000\n",
        "MAX_SENTENCE_LENGTH = 40\n",
        "\n",
        "# 1 is UNK, 0 is PAD\n",
        "# We take MAX_FEATURES-1 featurs to accound for PAD\n",
        "vocab_size = min(MAX_FEATURES, len(word_freqs)) + 2\n",
        "word2index = {x[0]: i+2 for i, x in \n",
        "                enumerate(word_freqs.most_common(MAX_FEATURES))}\n",
        "word2index[\"PAD\"] = 0\n",
        "word2index[\"UNK\"] = 1\n",
        "index2word = {v:k for k, v in word2index.items()}\n"
      ],
      "execution_count": 15,
      "outputs": []
    },
    {
      "cell_type": "markdown",
      "metadata": {
        "id": "ivjEnz11p6pI"
      },
      "source": [
        "**Prepare training sequences**\n",
        "\n",
        "The input sentences need to be converted to  word index sequences (inlcuding their padiing to the max sequecne length). \n",
        "No procesing required for the output, as this is a positive/negative binary sentiment output.\n"
      ]
    },
    {
      "cell_type": "code",
      "metadata": {
        "id": "xA9RgxaDp6pK",
        "colab": {
          "base_uri": "https://localhost:8080/"
        },
        "outputId": "386d1df5-2641-4e08-f0b6-7cf05858ec51"
      },
      "source": [
        "# convert sentences to sequences\n",
        "X = np.empty((num_recs, ), dtype=list)\n",
        "y = np.zeros((num_recs, ))\n",
        "i = 0\n",
        "ftrain = open(INPUT_FILE, 'rb')\n",
        "for line in ftrain:\n",
        "    label, sentence = line.strip().split(b\"\\t\")\n",
        "    words = nltk.word_tokenize(sentence.decode(\"ascii\", \"ignore\").lower())\n",
        "    seqs = []\n",
        "    for word in words:\n",
        "        if word in word2index:\n",
        "            seqs.append(word2index[word])\n",
        "        else:\n",
        "            seqs.append(word2index[\"UNK\"])\n",
        "    X[i] = seqs\n",
        "    y[i] = int(label)\n",
        "    i += 1\n",
        "ftrain.close()\n",
        "\n",
        "# Pad the sequences (left padded with zeros)\n",
        "X = sequence.pad_sequences(X, maxlen=MAX_SENTENCE_LENGTH)\n",
        "\n",
        "# Split input into training and test\n",
        "Xtrain, Xtest, ytrain, ytest = train_test_split(X, y, test_size=0.2, random_state=42)\n",
        "print(Xtrain.shape, Xtest.shape, ytrain.shape, ytest.shape)"
      ],
      "execution_count": 16,
      "outputs": [
        {
          "output_type": "stream",
          "text": [
            "(5668, 40) (1418, 40) (5668,) (1418,)\n"
          ],
          "name": "stdout"
        }
      ]
    },
    {
      "cell_type": "markdown",
      "metadata": {
        "id": "3x4dQwv_p6pQ"
      },
      "source": [
        "**CNN building and compilation**\n",
        "\n",
        "The codes defines the LSTM model topology, as per figure below. This is a stdnard recurrent network with one layer of LSTM units.\n",
        "\n",
        "![image.png](attachment:image.png)\n"
      ]
    },
    {
      "cell_type": "code",
      "metadata": {
        "id": "7MKE0uglp6pR",
        "colab": {
          "base_uri": "https://localhost:8080/"
        },
        "outputId": "9e21e9e7-f43d-42fa-d14a-02575b2e7ef3"
      },
      "source": [
        "# Build model\n",
        "model = Sequential()\n",
        "model.add(Embedding(vocab_size, EMBEDDING_SIZE, input_length=MAX_SENTENCE_LENGTH))\n",
        "model.add(SpatialDropout1D(0.2))\n",
        "model.add(LSTM(HIDDEN_LAYER_SIZE, dropout=0.2, recurrent_dropout=0.2))\n",
        "model.add(Dense(1))\n",
        "model.add(Activation(\"sigmoid\"))\n",
        "\n",
        "model.compile(loss=\"binary_crossentropy\", optimizer=\"adam\", metrics=[\"accuracy\"])\n",
        "\n",
        "#show the model summary\n",
        "model.summary()\n"
      ],
      "execution_count": 17,
      "outputs": [
        {
          "output_type": "stream",
          "text": [
            "CNN: \"sequential_2\"\n",
            "_________________________________________________________________\n",
            "Layer (type)                 Output Shape              Param #   \n",
            "=================================================================\n",
            "embedding_1 (Embedding)      (None, 40, 128)           256256    \n",
            "_________________________________________________________________\n",
            "spatial_dropout1d_1 (Spatial (None, 40, 128)           0         \n",
            "_________________________________________________________________\n",
            "lstm_1 (LSTM)                (None, 64)                49408     \n",
            "_________________________________________________________________\n",
            "dense_2 (Dense)              (None, 1)                 65        \n",
            "_________________________________________________________________\n",
            "activation_2 (Activation)    (None, 1)                 0         \n",
            "=================================================================\n",
            "Total params: 305,729\n",
            "Trainable params: 305,729\n",
            "Non-trainable params: 0\n",
            "_________________________________________________________________\n"
          ],
          "name": "stdout"
        }
      ]
    },
    {
      "cell_type": "markdown",
      "metadata": {
        "id": "oRy2C7YJp6pV"
      },
      "source": [
        "**Training of the model**\n",
        "\n",
        "Let's train our LSTM RNN.\n",
        "The model uses the binary cross-entropy loss function, suitable for binary value prediction. The Adam optimizer is one of the best and most frequently used general purpose optimizers.\n"
      ]
    },
    {
      "cell_type": "code",
      "metadata": {
        "id": "aDc6PUGfp6pX",
        "colab": {
          "base_uri": "https://localhost:8080/"
        },
        "outputId": "f58e260c-848f-4b47-8457-8aee55103d71"
      },
      "source": [
        "history = model.fit(Xtrain, ytrain, batch_size=BATCH_SIZE, epochs=NUM_EPOCHS, validation_data=(Xtest, ytest))"
      ],
      "execution_count": 18,
      "outputs": [
        {
          "output_type": "stream",
          "text": [
            "/usr/local/lib/python2.7/dist-packages/tensorflow_core/python/framework/indexed_slices.py:433: UserWarning: Converting sparse IndexedSlices to a dense Tensor of unknown shape. This may consume a large amount of memory.\n",
            "  \"Converting sparse IndexedSlices to a dense Tensor of unknown shape. \"\n"
          ],
          "name": "stderr"
        },
        {
          "output_type": "stream",
          "text": [
            "Train on 5668 samples, validate on 1418 samples\n",
            "Epoch 1/10\n",
            "5668/5668 [==============================] - 7s 1ms/step - loss: 0.2499 - accuracy: 0.8911 - val_loss: 0.0708 - val_accuracy: 0.9753\n",
            "Epoch 2/10\n",
            "5668/5668 [==============================] - 6s 1ms/step - loss: 0.0314 - accuracy: 0.9901 - val_loss: 0.0439 - val_accuracy: 0.9859\n",
            "Epoch 3/10\n",
            "5668/5668 [==============================] - 6s 1ms/step - loss: 0.0092 - accuracy: 0.9974 - val_loss: 0.0442 - val_accuracy: 0.9887\n",
            "Epoch 4/10\n",
            "5668/5668 [==============================] - 6s 1ms/step - loss: 0.0079 - accuracy: 0.9974 - val_loss: 0.0455 - val_accuracy: 0.9873\n",
            "Epoch 5/10\n",
            "5668/5668 [==============================] - 6s 1ms/step - loss: 0.0036 - accuracy: 0.9993 - val_loss: 0.0461 - val_accuracy: 0.9838\n",
            "Epoch 6/10\n",
            "5668/5668 [==============================] - 6s 1ms/step - loss: 0.0024 - accuracy: 0.9996 - val_loss: 0.0551 - val_accuracy: 0.9887\n",
            "Epoch 7/10\n",
            "5668/5668 [==============================] - 6s 1ms/step - loss: 0.0035 - accuracy: 0.9989 - val_loss: 0.0488 - val_accuracy: 0.9894\n",
            "Epoch 8/10\n",
            "5668/5668 [==============================] - 6s 1ms/step - loss: 0.0052 - accuracy: 0.9989 - val_loss: 0.0892 - val_accuracy: 0.9760\n",
            "Epoch 9/10\n",
            "5668/5668 [==============================] - 6s 1ms/step - loss: 0.0034 - accuracy: 0.9993 - val_loss: 0.0624 - val_accuracy: 0.9852\n",
            "Epoch 10/10\n",
            "5668/5668 [==============================] - 6s 1ms/step - loss: 0.0021 - accuracy: 0.9995 - val_loss: 0.0557 - val_accuracy: 0.9873\n"
          ],
          "name": "stdout"
        }
      ]
    },
    {
      "cell_type": "markdown",
      "metadata": {
        "id": "hwTrIcuLp6pk"
      },
      "source": [
        "**Plotting of the results**\n",
        "\n",
        "The code below will produce accuracy and loss plots for training and validation data.\n"
      ]
    },
    {
      "cell_type": "code",
      "metadata": {
        "id": "j1c-1aJFp6pl",
        "colab": {
          "base_uri": "https://localhost:8080/",
          "height": 297
        },
        "outputId": "9b9f7032-c060-4df7-9750-2720f1d4a7cd"
      },
      "source": [
        "# plot loss and accuracy\n",
        "plt.subplot(211)\n",
        "plt.title(\"Accuracy\")\n",
        "plt.plot(history.history[\"accuracy\"], color=\"g\", label=\"Train\")\n",
        "plt.plot(history.history[\"val_accuracy\"], color=\"b\", label=\"Validation\")\n",
        "plt.legend(loc=\"best\")\n",
        "\n",
        "plt.subplot(212)\n",
        "plt.title(\"Loss\")\n",
        "plt.plot(history.history[\"loss\"], color=\"g\", label=\"Train\")\n",
        "plt.plot(history.history[\"val_loss\"], color=\"b\", label=\"Validation\")\n",
        "plt.legend(loc=\"best\")\n",
        "\n",
        "plt.tight_layout()\n",
        "plt.show()\n"
      ],
      "execution_count": 20,
      "outputs": [
        {
          "output_type": "display_data",
          "data": {
            "image/png": "[encoded data removed]",
            "text/plain": [
              "<Figure size 432x288 with 2 Axes>"
            ]
          },
          "metadata": {
            "tags": [],
            "needs_background": "light"
          }
        }
      ]
    },
    {
      "cell_type": "markdown",
      "metadata": {
        "id": "U99eFGdup6pp"
      },
      "source": [
        "**Evaluation of the model**\n",
        "\n",
        "The model is evaluated against the full test set, printing the score and accuracy. \n",
        "The code also generates a few random sentences from the test set and prints the model's prediction, the label and the actual sentence. This will give us an idea of the quality of the prediction.\n"
      ]
    },
    {
      "cell_type": "code",
      "metadata": {
        "id": "C57xXLt0p6pq",
        "colab": {
          "base_uri": "https://localhost:8080/"
        },
        "outputId": "34b9dd8e-35a2-42c1-f8dc-e718678728ec"
      },
      "source": [
        "# evaluate\n",
        "score, acc = model.evaluate(Xtest, ytest, batch_size=BATCH_SIZE)\n",
        "print(\"Test score: %.3f, accuracy: %.3f\" % (score, acc))\n",
        "\n",
        "for i in range(5):\n",
        "    idx = np.random.randint(len(Xtest))\n",
        "    xtest = Xtest[idx].reshape(1,40)\n",
        "    ylabel = ytest[idx]\n",
        "    ypred = model.predict(xtest)[0][0]\n",
        "    sent = \" \".join([index2word[x] for x in xtest[0].tolist() if x != 0])\n",
        "    print(\"%.0f\\t%d\\t%s\" % (ypred, ylabel, sent))\n"
      ],
      "execution_count": 21,
      "outputs": [
        {
          "output_type": "stream",
          "text": [
            "1418/1418 [==============================] - 1s 397us/step\n",
            "Test score: 0.056, accuracy: 0.987\n",
            "0\t0\ti hate harry potter , that daniel wotshisface needs a fucking slap ...\n",
            "1\t1\ti am going to start reading the harry potter series again because that is one awesome story .\n",
            "0\t0\tda vinci code sucks .\n",
            "0\t0\tmy point is , harry potter is evil ...\n",
            "1\t1\ti love harry potter .\n"
          ],
          "name": "stdout"
        }
      ]
    },
    {
      "cell_type": "markdown",
      "metadata": {
        "id": "rIQKK-orp6px"
      },
      "source": [
        "Conclusions\n",
        "-------------\n",
        "\n",
        "This exercise finishes our short deep leanring course. You know have a pracyicla understanding of how to train a simple MLP (multi-Layer Perceptron), CNNs (Concolutional Neural Networks) with different layers, a simple RNN (Recurrent Neural network) and the more complex LSTM (Long Short Term Neural Network). Well done!\n",
        "\n",
        "**Copyright (c)** 2019 Angelo Cangelosi, MIT License. Code and examples adapted from Gulli & Pal (2017) Deep Learning with Keras. Punkt Publishing"
      ]
    }
  ]
}
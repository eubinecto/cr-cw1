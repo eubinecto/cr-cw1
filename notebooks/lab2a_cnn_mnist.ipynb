{
  "nbformat": 4,
  "nbformat_minor": 0,
  "metadata": {
    "accelerator": "GPU",
    "colab": {
      "name": "Lab2a_Keras_CNN_MNIST.ipynb",
      "provenance": [],
      "collapsed_sections": []
    },
    "kernelspec": {
      "display_name": "Python 3",
      "language": "python",
      "name": "python3"
    },
    "language_info": {
      "codemirror_mode": {
        "name": "ipython",
        "version": 3
      },
      "file_extension": ".py",
      "mimetype": "text/x-python",
      "name": "python",
      "nbconvert_exporter": "python",
      "pygments_lexer": "ipython3",
      "version": "3.7.4"
    }
  },
  "cells": [
    {
      "cell_type": "markdown",
      "metadata": {
        "id": "amX102GVM0OO"
      },
      "source": [
        "Introduction to Convolutional Neural Networks (CNNs)\n",
        "=========\n",
        "\n",
        "Convolutional neural networks (CNNs, aka ConvNets) exploit the spatial information in input stimuli (e.g. 2D images), instead of using input as a lineral vector of numbers.\n",
        "The CNN architecture is inspired by the topology and function of the visual cortex, in which a hierarchy of layers process visual information in an incremental way. E.g. our brain starts from the recognition of on/off pixels, then their grouping into lines, their subsequent combination is simple 2D shapes, up to the recognition of compelx 3D shapes and objects.\n",
        "\n",
        "Specifically, a deep CNN consists of many stacked layers. There are two main types of layers, convolutional and pooling, which typically alternate. \n",
        "\n",
        "An important principle of the convolution layer is that of receptive fields. That is, a 2D subregion (submatrix) of the input image (matrix) is connected to one hidden unit, and this subregion corresponds to the receptive field of this hidden unit. The next hidden unit will have a receptive field from the adjactent (or partially overlapping) subregion of the input matrix. This corresponds to the convolution mechanism. In Keras, the size of each submatrix is called __kernel size__. This is one of the key hyperparameters in CNNs. \n",
        "\n",
        "For example, with an MNIST image of 28x28 pixels, and a receptive field (kernel size) of 5x5 pixles feeding into a single hidden unit, and with a shifting of the subregion by 1 pixel (stride length), the next hidden layer will constitute a (feature) map of 23x23 units.\n",
        "\n",
        "Each input matrix or hidden layer can be connected to multiple __feature maps__ in the next hidden layer. All the neurons in the hidden layer of each feature map will share the same weights and biases. This way each feature map layer learns a set of position-independent latent features derived from the image. \n",
        "\n",
        "The pooling (aka sub-sampling) mechanism is used to group (pool) together the output of a fetaure map. This can be done with Max Pooling (where the highest value of the pooling units is used in the next hidden unit) or Average Pooling (where the average value of the subregion activations is computed). \n"
      ]
    },
    {
      "cell_type": "markdown",
      "metadata": {
        "id": "wLCI1BC7M0OW"
      },
      "source": [
        "**LeNet for MNIST**\n",
        "\n",
        "One of the pioneering works in Deep Learning and CNN was the original model by Yann LeCun and colleagues (see: Y. LeCun and Y. Bengio, 1995, \"Convolutional Networks for Images, Speech, and Time-Series\". Brain theory neural networks, vol. 3361). This is referred to as the LeNet. This LeNet was for example used on the MNIST problem, to show the robustness to simple geometric transformations and distortion of the handwritten code. Here we will look at the Keras code for the LeNet on MNIST dataset.\n",
        "\n",
        "In this exercise we will implemente the code for the specific LeNet network."
      ]
    },
    {
      "cell_type": "markdown",
      "metadata": {
        "id": "HiX1ak-IM0Ob"
      },
      "source": [
        "**2D Convolution module**\n",
        "\n",
        "The definition of a convolution module has this format:\n",
        "\n",
        "__keras.layers.convolutional.Conv2D(filters, kernel_size, padding='valid')__\n",
        "\n",
        "\n",
        "It requires the following parameters:\n",
        "- __filters__, the number of convolution kernels to use (i.e. dimensionality of the output)\n",
        "- __kernel_size__, with two integers specifying the width and height of the 2D convolution window (or a single integer to specify the same value for all spatial dimensions)\n",
        "- __padding__, with __'same'__ is used where the area around the input is padded with zeros, resulting in an output with the same size as the input. Instead, __'valid'__ is used when the convolution is only computed where the input and the filter fully overlap, resulting in a smaller output size.\n"
      ]
    },
    {
      "cell_type": "markdown",
      "metadata": {
        "id": "Dn3HyO6SM0Of"
      },
      "source": [
        "**2D Pooling module**\n",
        "\n",
        "The definition of a pooling module has this format:\n",
        "\n",
        "__keras.layers.pooling.MaxPooling2D(pool_size=(2, 2), strides=(2, 2))__\n",
        "\n",
        "\n",
        "This uses two main parameters:\n",
        "- __pool_size__, where a tuple of integers represent the verical and horizontal downscaling factors (e.g. (2, 2) will halve the image in each dimension)\n",
        "- __strides__, with the two integers for the stride/dimensions used for the max/average pooling processing\n",
        "\n"
      ]
    },
    {
      "cell_type": "markdown",
      "metadata": {
        "id": "N_myY0ilM0Oi"
      },
      "source": [
        "**Initialisation for the program**\n",
        "\n",
        "The program starts with the importing of typical Keras and other Python service modules. "
      ]
    },
    {
      "cell_type": "code",
      "metadata": {
        "id": "UkWmAbcnmGdj"
      },
      "source": [
        "# Run this cell ONLY if using Google Colab\n",
        "\n",
        "%tensorflow_version 1.13  # use previous version"
      ],
      "execution_count": null,
      "outputs": []
    },
    {
      "cell_type": "code",
      "metadata": {
        "colab": {
          "base_uri": "https://localhost:8080/",
          "height": 34
        },
        "id": "aEl9JNghM0Oq",
        "outputId": "ef00e231-79d7-48f6-9e67-a9d574a21559"
      },
      "source": [
        "# importing of modules for LeNet CNN \n",
        "from keras import backend as K\n",
        "from keras.models import Sequential\n",
        "from keras.layers.convolutional import Conv2D\n",
        "from keras.layers.convolutional import MaxPooling2D\n",
        "from keras.layers.core import Activation\n",
        "from keras.layers.core import Flatten\n",
        "from keras.layers.core import Dense\n",
        "from keras.datasets import mnist\n",
        "from keras.utils import np_utils\n",
        "from keras.optimizers import SGD, RMSprop, Adam\n",
        "\n",
        "# importing of service libraries\n",
        "import numpy as np\n",
        "import matplotlib.pyplot as plt\n",
        "\n",
        "print('Libraries imported.')"
      ],
      "execution_count": null,
      "outputs": [
        {
          "output_type": "stream",
          "text": [
            "Using TensorFlow backend.\n"
          ],
          "name": "stderr"
        },
        {
          "output_type": "stream",
          "text": [
            "Libraries imported.\n"
          ],
          "name": "stdout"
        }
      ]
    },
    {
      "cell_type": "markdown",
      "metadata": {
        "id": "2T2Gbw9BM0O5"
      },
      "source": [
        "The following variable definitions are needed for the network and training parameters, and the image size.\n"
      ]
    },
    {
      "cell_type": "code",
      "metadata": {
        "colab": {
          "base_uri": "https://localhost:8080/",
          "height": 34
        },
        "id": "iAm6KH81M0O7",
        "outputId": "408a5bf7-a276-4ac2-a695-8b8c5c302ef6"
      },
      "source": [
        "# seed for reproducibility\n",
        "np.random.seed(1671)  \n",
        "\n",
        "# network and training parameters\n",
        "N_EPOCH = 20 # later use 20 for better results\n",
        "BATCH_SIZE = 128\n",
        "VERBOSE = 1\n",
        "OPTIMIZER = Adam()\n",
        "VALIDATION_SPLIT=0.2\n",
        "\n",
        "IMG_ROWS, IMG_COLS = 28, 28 # input  dimensions of each MNIST image\n",
        "N_CLASSES = 10  # number of outputs = number of digits\n",
        "INPUT_SHAPE = (1, IMG_ROWS, IMG_COLS)\n",
        "\n",
        "print('Main variables initialised.')"
      ],
      "execution_count": null,
      "outputs": [
        {
          "output_type": "stream",
          "text": [
            "Main variables initialised.\n"
          ],
          "name": "stdout"
        }
      ]
    },
    {
      "cell_type": "markdown",
      "metadata": {
        "id": "UWSa30VZM0PD"
      },
      "source": [
        "**LeNet class definition for the CNN model**\n",
        "\n",
        "This code defines the class LeNet for the building of the CNN model.\n",
        "\n",
        "It has a first convolution module followed by a pooling layer. This convolution layer (with ReLu activation function) has 20 filters, each with a kernel size of 5x5. The output dimension is the same as the input imge of 28x28 units (because we use the __same__ padding parameter. The pooling layers uses a regioin of 2x2, with max pooling values.\n",
        "\n",
        "Another comvolution layer of 50 filters is then pooled.\n",
        "\n",
        "This layer is then flattened into a one-dimensional layer, followed by a dense layer of 500 units.\n",
        "\n",
        "Finally, a softmax dense layer in output classifies the images into the 10 number categories.\n"
      ]
    },
    {
      "cell_type": "code",
      "metadata": {
        "colab": {
          "base_uri": "https://localhost:8080/",
          "height": 34
        },
        "id": "SGhOzs6lM0PG",
        "outputId": "e477992b-58d4-484b-9fe6-0f7e95de0bfd"
      },
      "source": [
        "#define the convnet \n",
        "class LeNet:\n",
        "\t@staticmethod\n",
        "\tdef build(input_shape, classes):\n",
        "\t\tmodel = Sequential()\n",
        "        \n",
        "\t\t# CONV => RELU => POOL\n",
        "\t\tmodel.add(Conv2D(20, kernel_size=5, padding=\"same\", input_shape=input_shape))\n",
        "\t\tmodel.add(Activation(\"relu\"))\n",
        "\t\tmodel.add(MaxPooling2D(pool_size=(2, 2), strides=(2, 2), dim_ordering=\"th\"))\n",
        "        \n",
        "\t\t# CONV => RELU => POOL\n",
        "\t\tmodel.add(Conv2D(50, kernel_size=5, padding=\"same\"))\n",
        "\t\tmodel.add(Activation(\"relu\"))\n",
        "\t\tmodel.add(MaxPooling2D(pool_size=(2, 2), strides=(2, 2), dim_ordering=\"th\"))\n",
        "        \n",
        "\t\t# Flatten => RELU layers\n",
        "\t\tmodel.add(Flatten())\n",
        "\t\tmodel.add(Dense(500))\n",
        "\t\tmodel.add(Activation(\"relu\"))\n",
        " \n",
        "\t\t# a softmax classifier\n",
        "\t\tmodel.add(Dense(classes))\n",
        "\t\tmodel.add(Activation(\"softmax\"))\n",
        "\n",
        "\t\treturn model\n",
        "\n",
        "print('LeNet class defined.')"
      ],
      "execution_count": null,
      "outputs": [
        {
          "output_type": "stream",
          "text": [
            "LeNet class defined.\n"
          ],
          "name": "stdout"
        }
      ]
    },
    {
      "cell_type": "markdown",
      "metadata": {
        "id": "x5i-g_HtM0PV"
      },
      "source": [
        "**MNIST data loading and processing**\n",
        "\n",
        "This code loads the MNIST dataset, as in the previous labs.\n",
        "\n",
        "\n"
      ]
    },
    {
      "cell_type": "code",
      "metadata": {
        "colab": {
          "base_uri": "https://localhost:8080/",
          "height": 85
        },
        "id": "Jum1Is0uM0PY",
        "outputId": "48eddaee-d67c-49d3-bd90-8bc1b436eed1"
      },
      "source": [
        "# data: shuffled and split between train and test sets\n",
        "(input_X_train, output_y_train), (input_X_test, output_y_test) = mnist.load_data()\n",
        "# K.set_image_dim_ordering(\"th\")\n",
        "\n",
        "# consider them as float and normalize\n",
        "input_X_train = input_X_train.astype('float32')\n",
        "input_X_test = input_X_test.astype('float32')\n",
        "input_X_train /= 255 \n",
        "input_X_test /= 255  \n",
        "\n",
        "# we need a 60K x [1 x 28 x 28] shape as input to the CONVNET\n",
        "input_X_train = input_X_train[:, np.newaxis, :, :]\n",
        "input_X_test = input_X_test[:, np.newaxis, :, :]\n",
        "\n",
        "print(input_X_train.shape[0], 'train samples')\n",
        "print(input_X_test.shape[0], 'test samples')\n",
        "\n",
        "# convert class vectors to binary class matrices\n",
        "output_y_train = np_utils.to_categorical(output_y_train, N_CLASSES)\n",
        "output_y_test = np_utils.to_categorical(output_y_test, N_CLASSES)\n"
      ],
      "execution_count": null,
      "outputs": [
        {
          "output_type": "stream",
          "text": [
            "60000 train samples\n",
            "10000 test samples\n"
          ],
          "name": "stdout"
        }
      ]
    },
    {
      "cell_type": "markdown",
      "metadata": {
        "id": "be35OGl_M0Pe"
      },
      "source": [
        "**CNN initialisation and compilation**\n",
        "\n",
        "This initialises the model using the LeNet function, and then compiles the network and shows its summary. \n",
        "\n"
      ]
    },
    {
      "cell_type": "code",
      "metadata": {
        "colab": {
          "base_uri": "https://localhost:8080/",
          "height": 1000
        },
        "id": "Nk03ubuUM0Pg",
        "outputId": "c011911a-28d5-4f01-da44-e0a52e5f08de"
      },
      "source": [
        "# initialize the optimizer and compile the model\n",
        "model = LeNet.build(input_shape=INPUT_SHAPE, classes=N_CLASSES)\n",
        "\n",
        "model.compile(loss=\"categorical_crossentropy\", optimizer=OPTIMIZER, metrics=[\"accuracy\"])\n",
        "\n",
        "model.summary()\n"
      ],
      "execution_count": null,
      "outputs": [
        {
          "output_type": "stream",
          "text": [
            "CNN: \"sequential_1\"\n",
            "_________________________________________________________________\n",
            "Layer (type)                 Output Shape              Param #   \n",
            "=================================================================\n",
            "conv2d_1 (Conv2D)            (None, 1, 28, 20)         14020     \n",
            "_________________________________________________________________\n",
            "activation_1 (Activation)    (None, 1, 28, 20)         0         \n",
            "_________________________________________________________________\n",
            "max_pooling2d_1 (MaxPooling2 (None, 1, 14, 10)         0         \n",
            "_________________________________________________________________\n",
            "conv2d_2 (Conv2D)            (None, 1, 14, 50)         12550     \n",
            "_________________________________________________________________\n",
            "activation_2 (Activation)    (None, 1, 14, 50)         0         \n",
            "_________________________________________________________________\n",
            "max_pooling2d_2 (MaxPooling2 (None, 1, 7, 25)          0         \n",
            "_________________________________________________________________\n",
            "flatten_1 (Flatten)          (None, 175)               0         \n",
            "_________________________________________________________________\n",
            "dense_1 (Dense)              (None, 500)               88000     \n",
            "_________________________________________________________________\n",
            "activation_3 (Activation)    (None, 500)               0         \n",
            "_________________________________________________________________\n",
            "dense_2 (Dense)              (None, 10)                5010      \n",
            "_________________________________________________________________\n",
            "activation_4 (Activation)    (None, 10)                0         \n",
            "=================================================================\n",
            "Total params: 119,580\n",
            "Trainable params: 119,580\n",
            "Non-trainable params: 0\n",
            "_________________________________________________________________\n"
          ],
          "name": "stdout"
        },
        {
          "output_type": "stream",
          "text": [
            "/Users/cangela/opt/anaconda3/lib/python3.7/site-packages/ipykernel_launcher.py:10: UserWarning: Update your `MaxPooling2D` call to the Keras 2 API: `MaxPooling2D(pool_size=(2, 2), strides=(2, 2), data_format=\"channels_first\")`\n",
            "  # Remove the CWD from sys.path while we load stuff.\n",
            "/Users/cangela/opt/anaconda3/lib/python3.7/site-packages/ipykernel_launcher.py:15: UserWarning: Update your `MaxPooling2D` call to the Keras 2 API: `MaxPooling2D(pool_size=(2, 2), strides=(2, 2), data_format=\"channels_first\")`\n",
            "  from ipykernel import kernelapp as app\n"
          ],
          "name": "stderr"
        }
      ]
    },
    {
      "cell_type": "markdown",
      "metadata": {
        "id": "JUHKMyhnM0Pq"
      },
      "source": [
        "**Training of the CNN**\n",
        "\n",
        "This line of code trains the model, saving the metrics data in the history variable.\n",
        "\n"
      ]
    },
    {
      "cell_type": "code",
      "metadata": {
        "colab": {
          "base_uri": "https://localhost:8080/",
          "height": 853
        },
        "id": "AL9IqEmdM0Pt",
        "outputId": "e9343c0e-5bb1-4230-cc27-e1ffdb3d1717"
      },
      "source": [
        "# training/fitting of the LeNet model\n",
        "\n",
        "# let's reduce the number of epoch to 3, for a faster test of the checkpoint utility. Then revert to N_EPOCH = 20\n",
        "#N_EPOCH = 3\n",
        "\n",
        "history = model.fit(input_X_train, output_y_train, batch_size=BATCH_SIZE, epochs=N_EPOCH, verbose=VERBOSE, validation_split=VALIDATION_SPLIT)\n"
      ],
      "execution_count": null,
      "outputs": [
        {
          "output_type": "stream",
          "text": [
            "Train on 48000 samples, validate on 12000 samples\n",
            "Epoch 1/20\n",
            "48000/48000 [==============================] - 14s 298us/step - loss: 0.4240 - accuracy: 0.8792 - val_loss: 0.1462 - val_accuracy: 0.9572\n",
            "Epoch 2/20\n",
            "48000/48000 [==============================] - 13s 271us/step - loss: 0.1198 - accuracy: 0.9637 - val_loss: 0.1055 - val_accuracy: 0.9672\n",
            "Epoch 3/20\n",
            "48000/48000 [==============================] - 16s 341us/step - loss: 0.0868 - accuracy: 0.9731 - val_loss: 0.0855 - val_accuracy: 0.9734\n",
            "Epoch 4/20\n",
            "48000/48000 [==============================] - 14s 302us/step - loss: 0.0691 - accuracy: 0.9781 - val_loss: 0.0710 - val_accuracy: 0.9790\n",
            "Epoch 5/20\n",
            "48000/48000 [==============================] - 16s 340us/step - loss: 0.0586 - accuracy: 0.9821 - val_loss: 0.0727 - val_accuracy: 0.9775\n",
            "Epoch 6/20\n",
            "48000/48000 [==============================] - 19s 390us/step - loss: 0.0503 - accuracy: 0.9841 - val_loss: 0.0678 - val_accuracy: 0.9791\n",
            "Epoch 7/20\n",
            "48000/48000 [==============================] - 15s 321us/step - loss: 0.0435 - accuracy: 0.9861 - val_loss: 0.0664 - val_accuracy: 0.9804\n",
            "Epoch 8/20\n",
            "48000/48000 [==============================] - 15s 309us/step - loss: 0.0389 - accuracy: 0.9875 - val_loss: 0.0630 - val_accuracy: 0.9814\n",
            "Epoch 9/20\n",
            "48000/48000 [==============================] - 19s 395us/step - loss: 0.0342 - accuracy: 0.9891 - val_loss: 0.0535 - val_accuracy: 0.9837\n",
            "Epoch 10/20\n",
            "48000/48000 [==============================] - 16s 325us/step - loss: 0.0313 - accuracy: 0.9898 - val_loss: 0.0591 - val_accuracy: 0.9833\n",
            "Epoch 11/20\n",
            "48000/48000 [==============================] - 15s 308us/step - loss: 0.0277 - accuracy: 0.9907 - val_loss: 0.0621 - val_accuracy: 0.9830\n",
            "Epoch 12/20\n",
            "48000/48000 [==============================] - 13s 280us/step - loss: 0.0254 - accuracy: 0.9917 - val_loss: 0.0610 - val_accuracy: 0.9831\n",
            "Epoch 13/20\n",
            "48000/48000 [==============================] - 19s 393us/step - loss: 0.0231 - accuracy: 0.9924 - val_loss: 0.0573 - val_accuracy: 0.9847\n",
            "Epoch 14/20\n",
            "48000/48000 [==============================] - 19s 389us/step - loss: 0.0196 - accuracy: 0.9937 - val_loss: 0.0573 - val_accuracy: 0.9843\n",
            "Epoch 15/20\n",
            "48000/48000 [==============================] - 16s 334us/step - loss: 0.0201 - accuracy: 0.9936 - val_loss: 0.0589 - val_accuracy: 0.9849\n",
            "Epoch 16/20\n",
            "48000/48000 [==============================] - 15s 306us/step - loss: 0.0174 - accuracy: 0.9940 - val_loss: 0.0617 - val_accuracy: 0.9836\n",
            "Epoch 17/20\n",
            "48000/48000 [==============================] - 14s 294us/step - loss: 0.0164 - accuracy: 0.9944 - val_loss: 0.0606 - val_accuracy: 0.9835\n",
            "Epoch 18/20\n",
            "48000/48000 [==============================] - 14s 290us/step - loss: 0.0133 - accuracy: 0.9954 - val_loss: 0.0589 - val_accuracy: 0.9854\n",
            "Epoch 19/20\n",
            "48000/48000 [==============================] - 14s 292us/step - loss: 0.0120 - accuracy: 0.9959 - val_loss: 0.0679 - val_accuracy: 0.9834\n",
            "Epoch 20/20\n",
            "48000/48000 [==============================] - 13s 273us/step - loss: 0.0113 - accuracy: 0.9960 - val_loss: 0.0661 - val_accuracy: 0.9852\n"
          ],
          "name": "stdout"
        }
      ]
    },
    {
      "cell_type": "markdown",
      "metadata": {
        "id": "IAAvUJJ3M0P3"
      },
      "source": [
        "**Analysis of the training results**\n",
        "\n",
        "This generates the test scores by evaluating the trained network with the test dataset.\n",
        "\n",
        "It also plots the accuracy and loss values along the training timescale.\n",
        "\n"
      ]
    },
    {
      "cell_type": "code",
      "metadata": {
        "colab": {
          "base_uri": "https://localhost:8080/",
          "height": 658
        },
        "id": "Uc5-uwhMM0P4",
        "outputId": "00ae1c0d-019d-4fd1-ed29-c5f6e7c4e48f"
      },
      "source": [
        "score = model.evaluate(input_X_test, output_y_test, verbose=VERBOSE)\n",
        "print(\"\\nTest score/loss:\", score[0])\n",
        "print('Test accuracy:', score[1])\n",
        "\n",
        "# list all data in history\n",
        "print(history.history.keys())\n",
        "# summarize history for accuracy\n",
        "plt.plot(history.history['accuracy'])\n",
        "plt.plot(history.history['val_accuracy'])\n",
        "plt.title('model accuracy')\n",
        "plt.ylabel('accuracy')\n",
        "plt.xlabel('epoch')\n",
        "plt.legend(['train', 'test'], loc='upper left')\n",
        "plt.show()\n",
        "# summarize history for loss\n",
        "plt.plot(history.history['loss'])\n",
        "plt.plot(history.history['val_loss'])\n",
        "plt.title('model loss')\n",
        "plt.ylabel('loss')\n",
        "plt.xlabel('epoch')\n",
        "plt.legend(['train', 'test'], loc='upper left')\n",
        "plt.show()\n",
        "\n",
        "\n"
      ],
      "execution_count": null,
      "outputs": [
        {
          "output_type": "stream",
          "text": [
            "10000/10000 [==============================] - 1s 130us/step\n",
            "\n",
            "Test score/loss: 0.05378444789740763\n",
            "Test accuracy: 0.9868000149726868\n",
            "dict_keys(['val_loss', 'val_accuracy', 'loss', 'accuracy'])\n"
          ],
          "name": "stdout"
        },
        {
          "output_type": "display_data",
          "data": {
            "image/png": "[encoded data removed]",
            "text/plain": [
              "<Figure size 432x288 with 1 Axes>"
            ]
          },
          "metadata": {
            "tags": [],
            "needs_background": "light"
          }
        },
        {
          "output_type": "display_data",
          "data": {
            "image/png": "[encoded data removed]",
            "text/plain": [
              "<Figure size 432x288 with 1 Axes>"
            ]
          },
          "metadata": {
            "tags": [],
            "needs_background": "light"
          }
        }
      ]
    },
    {
      "cell_type": "markdown",
      "metadata": {
        "id": "Z9xaRsbMM0QA"
      },
      "source": [
        "Saving and Loading a Network CNN\n",
        "-------------\n",
        "\n",
        "It is possible to save the configuration of a specific network model in a JSON file format. This will also allow a later, faster reloading of the model and its training, as in the example below. "
      ]
    },
    {
      "cell_type": "code",
      "metadata": {
        "colab": {
          "base_uri": "https://localhost:8080/",
          "height": 646
        },
        "id": "m5RAM14aM0QD",
        "outputId": "1e05537a-ff3f-4cbf-994e-aabbfb918816"
      },
      "source": [
        "from keras.models import model_from_json\n",
        "\n",
        "#Creatinon of of the model configuration in jsom format\n",
        "json_string = model.to_json()\n",
        "\n",
        "#model reconstruction from json format\n",
        "model = model_from_json(json_string)\n",
        "\n",
        "# Now let's compile, summarise and then train/fit the model.\n",
        "model.compile(loss=\"categorical_crossentropy\", optimizer=OPTIMIZER, metrics=[\"accuracy\"])\n",
        "\n",
        "model.summary()\n",
        "\n",
        "# let's reduce the number of epoch to 3, for a faster test of the checkpoint utility\n",
        "N_EPOCH = 3\n",
        "\n",
        "\n",
        "history = model.fit(input_X_train, output_y_train, batch_size=BATCH_SIZE, epochs=N_EPOCH, verbose=VERBOSE, validation_split=VALIDATION_SPLIT)\n",
        "\n",
        "\n"
      ],
      "execution_count": null,
      "outputs": [
        {
          "output_type": "stream",
          "text": [
            "CNN: \"sequential_1\"\n",
            "_________________________________________________________________\n",
            "Layer (type)                 Output Shape              Param #   \n",
            "=================================================================\n",
            "conv2d_1 (Conv2D)            (None, 1, 28, 20)         14020     \n",
            "_________________________________________________________________\n",
            "activation_1 (Activation)    (None, 1, 28, 20)         0         \n",
            "_________________________________________________________________\n",
            "max_pooling2d_1 (MaxPooling2 (None, 1, 14, 10)         0         \n",
            "_________________________________________________________________\n",
            "conv2d_2 (Conv2D)            (None, 1, 14, 50)         12550     \n",
            "_________________________________________________________________\n",
            "activation_2 (Activation)    (None, 1, 14, 50)         0         \n",
            "_________________________________________________________________\n",
            "max_pooling2d_2 (MaxPooling2 (None, 1, 7, 25)          0         \n",
            "_________________________________________________________________\n",
            "flatten_1 (Flatten)          (None, 175)               0         \n",
            "_________________________________________________________________\n",
            "dense_1 (Dense)              (None, 500)               88000     \n",
            "_________________________________________________________________\n",
            "activation_3 (Activation)    (None, 500)               0         \n",
            "_________________________________________________________________\n",
            "dense_2 (Dense)              (None, 10)                5010      \n",
            "_________________________________________________________________\n",
            "activation_4 (Activation)    (None, 10)                0         \n",
            "=================================================================\n",
            "Total params: 119,580\n",
            "Trainable params: 119,580\n",
            "Non-trainable params: 0\n",
            "_________________________________________________________________\n",
            "Train on 48000 samples, validate on 12000 samples\n",
            "Epoch 1/3\n",
            "48000/48000 [==============================] - 13s 276us/step - loss: 0.2543 - accuracy: 0.9197 - val_loss: 0.1065 - val_accuracy: 0.9663\n",
            "Epoch 2/3\n",
            "48000/48000 [==============================] - 13s 274us/step - loss: 0.0858 - accuracy: 0.9736 - val_loss: 0.0918 - val_accuracy: 0.9725\n",
            "Epoch 3/3\n",
            "48000/48000 [==============================] - 13s 263us/step - loss: 0.0646 - accuracy: 0.9790 - val_loss: 0.0756 - val_accuracy: 0.9765\n"
          ],
          "name": "stdout"
        }
      ]
    },
    {
      "cell_type": "markdown",
      "metadata": {
        "id": "W_ke9T2aM0QO"
      },
      "source": [
        "Checkpoints\n",
        "-------------\n",
        "\n",
        "Another important utility in Keras is the saving of the trained weights of the network at the end of the training, or at specific timesteps called checkpoints. This will permit, for example, (i) the continuation of the training at a later stage starting from the saved checkpoint weights, (ii) the later inspection of the network performance at the chosen checkpoints, (iii) the saving of the weights of the best version during the training, e.g. for a specified accuracy value.\n",
        "\n"
      ]
    },
    {
      "cell_type": "markdown",
      "metadata": {
        "id": "c9hfpNu2M0QS"
      },
      "source": [
        "**Saving weights at the end of the training**\n",
        "\n",
        "The first example below shows how to save the weighst at the end of the training."
      ]
    },
    {
      "cell_type": "code",
      "metadata": {
        "colab": {
          "base_uri": "https://localhost:8080/",
          "height": 136
        },
        "id": "L50zzireM0QV",
        "outputId": "6624fbdd-4d5d-411a-dc59-c0593b3f02bf"
      },
      "source": [
        "from keras.models import load_model \n",
        "\n",
        "#This saves the weights at the last epoch of the previous training session\n",
        "model.save('my_model.LeNet')\n",
        "print ('Weights saved for final epoch ', N_EPOCH)\n",
        "print ('Check that there is a weight file in your folder')\n",
        "\n",
        "#This loads the weight file 'my_model.LeNet'\n",
        "model = load_model('my_model.LeNet')\n",
        "print ('Loading of the saved weights and test using these trained weights')\n",
        "\n",
        "# let's check that the weighst loaded in this examples have kept the trained state of the network.\n",
        "score = model.evaluate(input_X_test, output_y_test, verbose=VERBOSE)\n",
        "print(\"\\nTest score/loss:\", score[0])\n",
        "print('Test accuracy:', score[1])\n"
      ],
      "execution_count": null,
      "outputs": [
        {
          "output_type": "stream",
          "text": [
            "Weights saved for final epoch  3\n",
            "Check that there is a weight file in your folder\n",
            "Loading of the saved weights and test using these trained weights\n",
            "10000/10000 [==============================] - 1s 120us/step\n",
            "\n",
            "Test score/loss: 0.06308073911508545\n",
            "Test accuracy: 0.9793000221252441\n"
          ],
          "name": "stdout"
        }
      ]
    },
    {
      "cell_type": "markdown",
      "metadata": {
        "id": "vHtYOoztM0Qc"
      },
      "source": [
        "**Regular checkpoint saving**\n",
        "\n",
        "This example shows how to save the weights at regular inverval checkpoints. The default value for the __ModelCheckpoint__ functiion is every 1 epoch."
      ]
    },
    {
      "cell_type": "code",
      "metadata": {
        "colab": {
          "base_uri": "https://localhost:8080/",
          "height": 323
        },
        "id": "Ph5G3908M0Qe",
        "outputId": "38b47808-6e18-46c6-aa0a-ab6b89516d5a"
      },
      "source": [
        "# additional checkpoint load code and temp directory definition\n",
        "from keras.callbacks import ModelCheckpoint\n",
        "from keras.models import load_model \n",
        "import os\n",
        "MODEL_DIR = \"./tmp\"\n",
        "\n",
        "# let's reduce the number of epoch to 3, for a faster test of the checkpoint utility\n",
        "N_EPOCH = 3\n",
        "\n",
        "\n",
        "# definition of checkpoint parameters file\n",
        "if not os.path.exists(MODEL_DIR):\n",
        "    os.makedirs(MODEL_DIR)\n",
        "checkpoint = ModelCheckpoint(filepath=os.path.join(MODEL_DIR, \"my_model-{epoch:02d}.LeNet\"))\n",
        "\n",
        "print ('Training with checkpoint at each epoch. Check that at the end of each epoch, there is a weight file in the tmp folder')\n",
        "model.fit(input_X_train, output_y_train, batch_size=BATCH_SIZE, epochs=N_EPOCH, validation_split=0.5, callbacks=[checkpoint])\n",
        "\n",
        "score = model.evaluate(input_X_test, output_y_test, verbose=VERBOSE)\n",
        "print(\"\\nTest score/loss:\", score[0])\n",
        "print('Test accuracy:', score[1])\n",
        "\n",
        "# Let's load the weights of the 2nd epoch, and check the scores \n",
        "model = load_model(os.path.join(MODEL_DIR,'my_model-02.LeNet'))\n",
        "print ('Weights loaded for epoch 2 .')\n",
        "print ('New test using these trained weights.')\n",
        "\n",
        "# let's check that the weights loaded in this examples have kept the trained state of the network.\n",
        "score = model.evaluate(input_X_test, output_y_test, verbose=VERBOSE)\n",
        "print(\"\\nTest score/loss:\", score[0])\n",
        "print('Test accuracy:', score[1])\n",
        "\n",
        "\n"
      ],
      "execution_count": null,
      "outputs": [
        {
          "output_type": "stream",
          "text": [
            "Training with checkpoint at each epoch. Check that at the end of each epoch, there is a weight file in the tmp folder\n",
            "Train on 30000 samples, validate on 30000 samples\n",
            "Epoch 1/3\n",
            "30000/30000 [==============================] - 10s 341us/step - loss: 0.0506 - accuracy: 0.9839 - val_loss: 0.0590 - val_accuracy: 0.9811\n",
            "Epoch 2/3\n",
            "30000/30000 [==============================] - 11s 364us/step - loss: 0.0445 - accuracy: 0.9856 - val_loss: 0.0589 - val_accuracy: 0.9824\n",
            "Epoch 3/3\n",
            "30000/30000 [==============================] - 11s 377us/step - loss: 0.0361 - accuracy: 0.9885 - val_loss: 0.0623 - val_accuracy: 0.9817\n",
            "10000/10000 [==============================] - 1s 124us/step\n",
            "\n",
            "Test score/loss: 0.057427219665329904\n",
            "Test accuracy: 0.982699990272522\n",
            "Weights loaded for epoch 2 .\n",
            "New test using these trained weights.\n",
            "10000/10000 [==============================] - 1s 105us/step\n",
            "\n",
            "Test score/loss: 0.0567632404549513\n",
            "Test accuracy: 0.9824000000953674\n"
          ],
          "name": "stdout"
        }
      ]
    },
    {
      "cell_type": "markdown",
      "metadata": {
        "id": "gcHg5iVJM0Ql"
      },
      "source": [
        "Using TensorBoard to Visualise CNN Performance\n",
        "-------------\n",
        "\n",
        "Keras provides a callback for saving the training and test metrics, as well as the activation histograms for the different layers in the model.\n",
        "\n",
        "The saved data can then be visualized with the TensorBoad launched at the command line:\n",
        "\n",
        "   "
      ]
    },
    {
      "cell_type": "code",
      "metadata": {
        "colab": {
          "base_uri": "https://localhost:8080/",
          "height": 880
        },
        "id": "_KlPXj_7M0Qm",
        "outputId": "133eafb8-5418-4ac5-c220-6597dd69ff8f"
      },
      "source": [
        "from keras.callbacks import TensorBoard\n",
        "\n",
        "N_EPOCH = 20\n",
        "\n",
        "#keras.callbacks.TensorBoard(log_dir='./logs', histogram_freq=0, write_graph=True, write_images=False)\n",
        "tensorboard = TensorBoard(log_dir='./logs', histogram_freq=0, write_graph=True, write_images=False)\n",
        "\n",
        "model.fit(input_X_train, output_y_train, batch_size=BATCH_SIZE, epochs=N_EPOCH, validation_split=0.5, callbacks=[tensorboard])\n",
        "\n",
        "# Launch of TensorBoard to visualise the performance of the mdoel using the saved data\n",
        "\n",
        "\n",
        "# Launch tensorboard in colab:\n",
        "%load_ext tensorboard\n",
        "%tensorboard --logdir ./logs\n",
        "\n",
        "# or launch tensorboard if you're running the exercise in your computer\n",
        "#!tensorboard \"--logdir=./logs\" --host localhost --port 6006\n",
        "# Launch Chrome browser and go to localhost:6006 to view tensorboard\n"
      ],
      "execution_count": null,
      "outputs": [
        {
          "output_type": "stream",
          "text": [
            "Train on 30000 samples, validate on 30000 samples\n",
            "Epoch 1/4\n",
            "30000/30000 [==============================] - 10s 328us/step - loss: 0.0351 - accuracy: 0.9892 - val_loss: 0.0607 - val_accuracy: 0.9812\n",
            "Epoch 2/4\n",
            "30000/30000 [==============================] - 13s 447us/step - loss: 0.0315 - accuracy: 0.9903 - val_loss: 0.0601 - val_accuracy: 0.9814\n",
            "Epoch 3/4\n",
            "30000/30000 [==============================] - 10s 338us/step - loss: 0.0265 - accuracy: 0.9913 - val_loss: 0.0726 - val_accuracy: 0.9785\n",
            "Epoch 4/4\n",
            "30000/30000 [==============================] - 10s 335us/step - loss: 0.0240 - accuracy: 0.9921 - val_loss: 0.0617 - val_accuracy: 0.9824\n",
            "Traceback (most recent call last):\n",
            "  File \"/Users/cangela/Library/Python/3.7/bin/tensorboard\", line 10, in <module>\n",
            "    sys.exit(run_main())\n",
            "  File \"/Users/cangela/Library/Python/3.7/lib/python/site-packages/tensorboard/main.py\", line 59, in run_main\n",
            "    default.get_plugins() + default.get_dynamic_plugins(),\n",
            "  File \"/Users/cangela/Library/Python/3.7/lib/python/site-packages/tensorboard/default.py\", line 110, in get_dynamic_plugins\n",
            "    for entry_point in pkg_resources.iter_entry_points('tensorboard_plugins')\n",
            "  File \"/Users/cangela/Library/Python/3.7/lib/python/site-packages/tensorboard/default.py\", line 110, in <listcomp>\n",
            "    for entry_point in pkg_resources.iter_entry_points('tensorboard_plugins')\n",
            "  File \"/Library/Developer/CommandLineTools/Library/Frameworks/Python3.framework/Versions/3.7/lib/python3.7/site-packages/pkg_resources/__init__.py\", line 2410, in load\n",
            "    self.require(*args, **kwargs)\n",
            "  File \"/Library/Developer/CommandLineTools/Library/Frameworks/Python3.framework/Versions/3.7/lib/python3.7/site-packages/pkg_resources/__init__.py\", line 2433, in require\n",
            "    items = working_set.resolve(reqs, env, installer, extras=self.extras)\n",
            "  File \"/Library/Developer/CommandLineTools/Library/Frameworks/Python3.framework/Versions/3.7/lib/python3.7/site-packages/pkg_resources/__init__.py\", line 791, in resolve\n",
            "    raise VersionConflict(dist, req).with_context(dependent_req)\n",
            "pkg_resources.VersionConflict: (setuptools 40.8.0 (/Library/Developer/CommandLineTools/Library/Frameworks/Python3.framework/Versions/3.7/lib/python3.7/site-packages), Requirement.parse('setuptools>=41.0.0'))\n"
          ],
          "name": "stdout"
        }
      ]
    },
    {
      "cell_type": "markdown",
      "metadata": {
        "id": "pcqN9WwlM0Qv"
      },
      "source": [
        "Conclusions\n",
        "-------------\n",
        "\n",
        "We have learned to train our first, real __deep__ neural network, using the well known LeCun CNN for the MNIST dataset. Later we will explore the use of deeper networks and more complex dataset.\n",
        "\n",
        "**Copyright (c)** 2019 Angelo Cangelosi, MIT License. Code and examples adapted from Gulli & Pal (2017) Deep Learning with Kera. Punkt Publishing"
      ]
    }
  ]
}